{
 "cells": [
  {
   "cell_type": "markdown",
   "id": "9000d9ec-bfbe-4808-ab52-4af6ac6d95bb",
   "metadata": {},
   "source": [
    "# Requisites"
   ]
  },
  {
   "cell_type": "markdown",
   "id": "a344b37e-5141-446f-9bbc-afb499f6f53f",
   "metadata": {},
   "source": [
    "- Environment with dependencies in `conda_env.yaml`\n",
    "- External dependencies to be downloaded and place in `training_data/utils/external`:\n",
    "    - predict_ddG.py script from PyRosetta (https://github.com/RosettaCommons/PyRosetta.notebooks/blob/master/notebooks/additional_scripts/predict_ddG.py)\n",
    "    - DSPP software executable (https://github.com/PDB-REDO/dssp/releases/download/v4.4.0/mkdssp-4.4.0-linux-x64)\n",
    "- Downloaded UniRef database https://wwwuser.gwdguser.de/~compbiol/uniclust/2023_02"
   ]
  },
  {
   "cell_type": "code",
   "execution_count": 1,
   "id": "6f3a6e57-387f-4eb9-a3f1-53a38a7fd392",
   "metadata": {},
   "outputs": [],
   "source": [
    "path = \"predict\" # Path to write files and results to\n",
    "\n",
    "uniref_path = \"/data/fnerin/UniRef30_2023_02/UniRef30_2023_02\" # Path to the uncompressed UniRef database"
   ]
  },
  {
   "cell_type": "markdown",
   "id": "420c2d84-7a90-449d-9eb7-004a95a0db06",
   "metadata": {
    "jp-MarkdownHeadingCollapsed": true
   },
   "source": [
    "# Functions"
   ]
  },
  {
   "cell_type": "code",
   "execution_count": 2,
   "id": "696b11ac-3fcc-49c7-90f7-055e9810b405",
   "metadata": {},
   "outputs": [],
   "source": [
    "import sys\n",
    "sys.path.append(\"training_data\")"
   ]
  },
  {
   "cell_type": "code",
   "execution_count": 3,
   "id": "c6d87554-995b-43eb-8434-86346c4955c4",
   "metadata": {},
   "outputs": [],
   "source": [
    "from utils.new_pdbs import Pdb\n",
    "from utils.structure_fixing import get_fixed_structure, CifFileWriter\n",
    "from utils.utils import Cif"
   ]
  },
  {
   "cell_type": "code",
   "execution_count": 4,
   "id": "513e025b-01cb-4723-ae85-1d40ecedfe55",
   "metadata": {},
   "outputs": [],
   "source": [
    "import os, tempfile\n",
    "import pandas as pd\n",
    "from tqdm.notebook import tqdm"
   ]
  },
  {
   "cell_type": "code",
   "execution_count": 5,
   "id": "367d7805-6222-4206-9f0a-1ca17c3dd8ec",
   "metadata": {},
   "outputs": [],
   "source": [
    "os.makedirs(path, exist_ok=True)\n",
    "\n",
    "Pdb.path = path\n",
    "Pdb.original_cifs_path = path\n",
    "Cif.path = path\n",
    "Cif.original_cifs_path = path"
   ]
  },
  {
   "cell_type": "code",
   "execution_count": 6,
   "id": "c6eb052a-edeb-4dfc-8ff1-c3cc34195725",
   "metadata": {},
   "outputs": [],
   "source": [
    "def get_cif(\n",
    "    pdb_id,\n",
    "    path=path\n",
    "):\n",
    "    pdb = Pdb(pdb_id.lower())\n",
    "\n",
    "    # Save original and uncompressed cif\n",
    "    with open(f\"{path}/{pdb.entry_id}_updated.cif.gz\", \"wb\") as f:\n",
    "        f.write(pdb.cif._cif_content)\n",
    "    with open(f\"{path}/{pdb.entry_id}_updated.cif\", \"w\") as f:\n",
    "        f.write(pdb.cif.text)\n",
    "        \n",
    "    # Cache the contents of the file\n",
    "    pdb.cif.data\n",
    "    return pdb"
   ]
  },
  {
   "cell_type": "code",
   "execution_count": 7,
   "id": "10dc730f-fa8b-4e62-a374-4235f1aba3ec",
   "metadata": {},
   "outputs": [],
   "source": [
    "import pymol2"
   ]
  },
  {
   "cell_type": "code",
   "execution_count": 8,
   "id": "4c5f05fe-aa80-4ce8-a516-87c249bffd1b",
   "metadata": {},
   "outputs": [],
   "source": [
    "def get_site(site, only_protein=True, threshold=6): # site.pdb CAN BE PDB OR ASSEMBLY (must have .cif and .residues)\n",
    "    \"\"\"\n",
    "    Function to, given a site, return a standardized list of residues from the parent structure that define the site with the Python interface of open-source PyMOL\n",
    "    \"\"\"    \n",
    "    # Define the PyMOL-style selection of the modulator residues \n",
    "    sele = \" or \".join(\n",
    "        f\"{res['label_asym_id']}/{res['auth_asym_id']}/{res['auth_comp_id']}`{res['auth_seq_id']}{res['pdbx_PDB_ins_code'].replace('?', '')}/*\"\n",
    "        for i, res in site.modulator_residues.iterrows()\n",
    "    )\n",
    "    \n",
    "    with pymol2.PyMOL() as pymol:\n",
    "        pymol.cmd.feedback(\n",
    "            \"disable\", \"executive\", \"details\"\n",
    "        )  # to silence \"ExecutiveLoad-Detail: Detected mmCIF\"\n",
    "\n",
    "        # Load the parent structure of the site to PyMOL (it can only read a \"real\" file and not from string)\n",
    "        with tempfile.NamedTemporaryFile(\"w+\", suffix=\".cif\") as f:\n",
    "            f.write(site.pdb.cif.text)\n",
    "            pymol.cmd.load(f.name)\n",
    "\n",
    "        # Retrieve all atoms within the threshold of the modulator selection\n",
    "        site_atoms = pymol.cmd.get_model(f\"br. all within {threshold} of {sele}\")\n",
    "\n",
    "    # Process the atom selection to obtain residue identifiers\n",
    "    site_list = set(\n",
    "        tuple(\n",
    "            (\n",
    "                a.segi, a.chain, a.resn,\n",
    "                a.resi_number, a.ins_code or '?' # pdbx_PDB_ins_code or \"?\" if none\n",
    "            ) \n",
    "            for a in site_atoms.atom\n",
    "        )\n",
    "    )\n",
    "\n",
    "    # Transform the PyMOL-derived residue identifiers into a standard table of residues that can be used to retrieve the rows/residues from the parent structure's .residues table\n",
    "    site_res = site.pdb.residues.merge(\n",
    "        pd.DataFrame(\n",
    "            site_list,\n",
    "            columns=[\n",
    "                \"label_asym_id\", \"auth_asym_id\", \"auth_comp_id\",\n",
    "                \"auth_seq_id\", \"pdbx_PDB_ins_code\"\n",
    "            ],\n",
    "            dtype=str\n",
    "        )\n",
    "    ).query(\"pdbx_PDB_model_num == '1'\")\n",
    "\n",
    "    if only_protein:\n",
    "        site_res = site_res.query(f\"label_entity_id in {site.pdb._protein_entities} and label_asym_id not in {site.modulator_residues.label_asym_id.unique().tolist()}\")\n",
    "\n",
    "    assert len(site_res) > 0, \"Site selection doesn't have any residues\"\n",
    "\n",
    "    return site_res"
   ]
  },
  {
   "cell_type": "code",
   "execution_count": 9,
   "id": "0b102789-16b6-4904-9f33-251fe6c3de4d",
   "metadata": {},
   "outputs": [],
   "source": [
    "class Site:\n",
    "    def __init__(self, pdb, modulator_residues=None, residues=None, only_protein=True, distance_threshold=6):\n",
    "        self.pdb = pdb\n",
    "        if modulator_residues is not None:\n",
    "            self.modulator_residues = modulator_residues\n",
    "            self.residues = get_site(self, only_protein=only_protein, threshold=distance_threshold)\n",
    "        elif residues is not None:\n",
    "            self.residues = pdb.residues.merge(pd.DataFrame(residues, dtype=str)).query(\"pdbx_PDB_model_num == '1'\")\n",
    "            if only_protein:\n",
    "                self.residues = self.residues.query(f\"label_entity_id in {site.pdb._protein_entities}\")\n",
    "        else:\n",
    "            raise Exception(\"Pass one of 'modulator_residues' or 'residues'\")"
   ]
  },
  {
   "cell_type": "code",
   "execution_count": 10,
   "id": "e3ae0405-3237-47ab-9a26-24d937f65665",
   "metadata": {},
   "outputs": [],
   "source": [
    "def get_clean_pdb(pdb, protein_chains, path=path):\n",
    "    fixed_structure = get_fixed_structure(pdb, pdb, list(protein_chains), path, save=True)\n",
    "    with open(f\"{path}/{pdb.entry_id}.cif\", \"w+\") as f:\n",
    "        writer = CifFileWriter(f.name, compress=False)\n",
    "        writer.write({\n",
    "            pdb.entry_id.upper(): {\n",
    "                \"_atom_site\": fixed_structure.to_dict(orient=\"list\"),\n",
    "                \"_entity_poly\": pdb.cif.data[\"_entity_poly\"]\n",
    "            }\n",
    "        })\n",
    "        \n",
    "    cif = Cif(pdb.entry_id)\n",
    "    # Cache the contents of the files\n",
    "    cif.origcif.data\n",
    "    cif.cif.data\n",
    "    return cif"
   ]
  },
  {
   "cell_type": "code",
   "execution_count": 11,
   "id": "4d256b8b-689c-4f90-a4aa-2d4ed7550689",
   "metadata": {},
   "outputs": [],
   "source": [
    "from ipymolstar import PDBeMolstar"
   ]
  },
  {
   "cell_type": "code",
   "execution_count": 12,
   "id": "8b313b36-a21b-4ccc-8709-4041d4c02767",
   "metadata": {},
   "outputs": [],
   "source": [
    "def view_pdb(pdb, **kwargs):\n",
    "    return PDBeMolstar(\n",
    "        custom_data = {\n",
    "                'data': pdb.cif.text,\n",
    "                'format': 'cif',\n",
    "                'binary': False,\n",
    "            },\n",
    "        sequence_panel = True,\n",
    "        assembly_id='',\n",
    "        **kwargs\n",
    "    )"
   ]
  },
  {
   "cell_type": "code",
   "execution_count": 13,
   "id": "2224432a-bad8-4860-8b2a-d57f03952ecf",
   "metadata": {},
   "outputs": [],
   "source": [
    "colors = {\n",
    "    \"orange\": \"#0FD55E00\".lower(),\n",
    "    \"green\": \"#0F009E73\".lower(),\n",
    "    \"blue\": \"#0F0072B2\".lower()\n",
    "}\n",
    "\n",
    "def get_pocket(pdb, pocket, path=path):\n",
    "    pocketn = pocket.replace('pocket', '')\n",
    "    pocket_atoms = (\n",
    "        Cif(pdb, f\"{path}/{pdb}/{pdb}_out/{pdb}_out.cif\", name=f\"{pdb}_out\")\n",
    "        .atoms\n",
    "        .query(f\"label_comp_id == 'STP' and label_seq_id == '{pocketn}'\")\n",
    "    )\n",
    "    pocket_atoms[\"label_asym_id\"] = 'ZZZ'\n",
    "    pocket_atoms[\"label_entity_id\"] = '99'\n",
    "\n",
    "    return pocket_atoms\n",
    "    \n",
    "\n",
    "def view_pockets(\n",
    "    pdb,\n",
    "    pockets:dict, # {\"pocketn\": {\"color\": \"\"}}\n",
    "    protein_chains=None,\n",
    "    site_residues=None,\n",
    "    modulator_residues=None,\n",
    "    path=path\n",
    "):\n",
    "    # Establish PDB\n",
    "    if type(pdb) == str:\n",
    "        pdb = Cif(pdb, filename=f\"{path}/{pdb}_updated.cif\")\n",
    "        \n",
    "    chains = protein_chains or pdb.residues.query(f\"label_entity_id in {pdb._protein_entities}\").label_asym_id.unique().tolist()\n",
    "    pdb = pdb.entry_id\n",
    "    cif = Cif(pdb, f\"{path}/{pdb}_updated.cif\")\n",
    "\n",
    "    pockets = {\n",
    "        pocketn: {\n",
    "            \"atoms\": get_pocket(pdb, pocketn, path=path),\n",
    "            \"color\": colors.get(pocket[\"color\"], pocket[\"color\"])\n",
    "        }\n",
    "        for pocketn, pocket in pockets.items()\n",
    "    }\n",
    "\n",
    "    # Fake entity data\n",
    "    entities = pd.concat((\n",
    "        pd.DataFrame(cif.cif.data[\"_entity\"], dtype=str),#.query(f\"id in {minimal_elements('label_entity_id')}\"),\n",
    "        pd.DataFrame([{\"id\": \"99\", \"type\": \"branched\", \"pdbx_description\": \"pockets\"}]) # Fake the pockets as carbohydrates to manage their representation\n",
    "    )).fillna(\".\")\n",
    "\n",
    "    columns = list( set.intersection( *map(set, (pocket[\"atoms\"].columns for pocket in pockets.values())) ) )\n",
    "    atoms = pd.concat((\n",
    "        cif.atoms[columns], # if label_asym_id in protein_chains or modulator_residues.chains or label_entity_id not in protein_entities\n",
    "        *(pocket[\"atoms\"][columns] for pocket in pockets.values())\n",
    "    ))\n",
    "\n",
    "    with tempfile.NamedTemporaryFile(\"w+\", suffix=\".cif\") as f:\n",
    "        writer = CifFileWriter(f.name)\n",
    "        writer.write({cif.entry_id.upper(): {\n",
    "            \"_entity\": entities.to_dict(orient=\"list\"),\n",
    "            \"_atom_site\": atoms.to_dict(orient=\"list\"),\n",
    "        }})\n",
    "        combined = Cif(pdb, filename=f.name)\n",
    "        combined.cif.data # to cache it while 'f' exists\n",
    "\n",
    "    data = [\n",
    "        # Protein\n",
    "        {\"struct_asym_id\": asym_id, 'representation': 'cartoon', 'representationColor': '#AEAEAE', 'focus': True}\n",
    "        for asym_id in chains\n",
    "    ]\n",
    "\n",
    "    if site_residues is not None:\n",
    "        data += [\n",
    "            {'struct_asym_id': r[\"label_asym_id\"], 'residue_number': int(r[\"label_seq_id\"]), 'representationColor': colors[\"green\"]}\n",
    "            for i, r in site_residues.iterrows()\n",
    "        ]\n",
    "        \n",
    "    # Ligands and molecules\n",
    "    if modulator_residues is not None:\n",
    "        data += [\n",
    "            {'struct_asym_id': r[\"label_asym_id\"], 'color': 'white'}\n",
    "            for i, r in (\n",
    "                combined.residues\n",
    "                # Not modulator residues and only small molecule entities\n",
    "                .merge(\n",
    "                    modulator_residues if modulator_residues is not None else pd.DataFrame(columns=combined.residues.columns), # if modulator_residues not passed, empty df\n",
    "                    how=\"outer\", indicator=True\n",
    "                )\n",
    "                .query(f\"\"\"_merge == 'left_only' and label_entity_id in {entities.query(\"type == 'non-polymer'\").id.unique().tolist()}\"\"\")\n",
    "                .drop(columns=\"_merge\")\n",
    "                .iterrows()\n",
    "            \n",
    "            )\n",
    "        ]\n",
    "\n",
    "    # Pockets\n",
    "    data += [\n",
    "        {\n",
    "            \"struct_asym_id\": \"ZZZ\", 'residue_number': int(pocketn.replace('pocket', '')), 'representation': 'point', 'representationColor': pocket[\"color\"]\n",
    "        }\n",
    "        for pocketn, pocket in pockets.items()\n",
    "    ]\n",
    "\n",
    "    data += [\n",
    "        {\n",
    "            \"struct_asym_id\": \"ZZZ\", 'residue_number': int(pocketn.replace('pocket', '')), 'representation': 'gaussian-volume', 'representationColor': pocket[\"color\"]\n",
    "        }\n",
    "        for pocketn, pocket in pockets.items()\n",
    "    ]\n",
    "\n",
    "    return view_pdb(\n",
    "        combined,\n",
    "        \n",
    "        hide_polymer = True,\n",
    "        # hide_heteroatoms = True,\n",
    "        # hide_non_standard = True,\n",
    "        hide_carbs = True,\n",
    "        hide_water = True,\n",
    "        \n",
    "        color_data = {\n",
    "            \"data\": data,\n",
    "            \"nonSelectedColor\": None,\n",
    "            \"keepColors\": True,\n",
    "            \"keepRepresentations\": False,\n",
    "        }\n",
    "    )"
   ]
  },
  {
   "cell_type": "code",
   "execution_count": 14,
   "id": "79318206-ee28-40c0-91cd-f06af694a5ea",
   "metadata": {},
   "outputs": [
    {
     "data": {
      "application/vnd.jupyter.widget-view+json": {
       "model_id": "9c868cadb4d64a5bad7a48ff2cfcc66e",
       "version_major": 2,
       "version_minor": 0
      },
      "text/plain": []
     },
     "metadata": {},
     "output_type": "display_data"
    },
    {
     "name": "stdout",
     "output_type": "stream",
     "text": [
      "┌──────────────────────────────────────────────────────────────────────────────┐\n",
      "│                                 PyRosetta-4                                  │\n",
      "│              Created in JHU by Sergey Lyskov and PyRosetta Team              │\n",
      "│              (C) Copyright Rosetta Commons Member Institutions               │\n",
      "│                                                                              │\n",
      "│ NOTE: USE OF PyRosetta FOR COMMERCIAL PURPOSES REQUIRE PURCHASE OF A LICENSE │\n",
      "│         See LICENSE.PyRosetta.md or email license@uw.edu for details         │\n",
      "└──────────────────────────────────────────────────────────────────────────────┘\n",
      "PyRosetta-4 2025 [Rosetta PyRosetta4.conda.ubuntu.cxx11thread.serialization.Ubuntu.python311.Release 2025.19+release.1354d05daa4c339d591afeecef3c94ca2d38680e 2025-05-07T12:36:04] retrieved from: http://www.pyrosetta.org\n",
      "core.init: Checking for fconfig files in pwd and ./rosetta/flags\n",
      "core.init: Rosetta version: PyRosetta4.conda.ubuntu.cxx11thread.serialization.Ubuntu.python311.Release r400 2025.19+release.1354d05daa 1354d05daa4c339d591afeecef3c94ca2d38680e http://www.pyrosetta.org 2025-05-07T12:36:04\n",
      "core.init: Rosetta extras: [cxx11thread, serialization]\n",
      "core.init: command: PyRosetta -mute core.pack basic core.scoring -ignore_zero_occupancy false -database /home/fnerin/miniconda3/envs/allopockets_test/lib/python3.11/site-packages/pyrosetta/database\n"
     ]
    }
   ],
   "source": [
    "from utils.pocket_utils import Pocket, get_pockets_info, get_mean_pocket_features\n",
    "from utils.features_classes import * # Each FClass\n",
    "from utils.features_utils import calculate_features, get_pdb_features\n",
    "\n",
    "# Path to the mkdssp executable downloaded from https://github.com/PDB-REDO/dssp/releases/tag/v4.4.0\n",
    "BiopythonF.dssp_path = \"training_data/utils/external/mkdssp-4.4.0-linux-x64\" \n",
    "os.chmod(BiopythonF.dssp_path, 0o755)\n",
    "# f\"mkdssp --mmcif-dictionary {os.environ['CONDA_PREFIX']}/share/libcifpp/mmcif_pdbx.dic\"#\"training_data/utils/external/mkdssp-4.4.0-linux-x64\"\n",
    "# Path to the UniRef (or other protein sequences database) downloaded from https://wwwuser.gwdguser.de/~compbiol/uniclust/2023_02\n",
    "HHBlitsF.uniref_path = uniref_path"
   ]
  },
  {
   "cell_type": "code",
   "execution_count": 15,
   "id": "b2041c35-b925-4e9e-bfcc-9a1aa08917e5",
   "metadata": {},
   "outputs": [],
   "source": [
    "from autogluon.tabular import TabularDataset, TabularPredictor\n",
    "\n",
    "model = TabularPredictor.load(\"models/pockets_physchem_deploy\")"
   ]
  },
  {
   "cell_type": "code",
   "execution_count": 16,
   "id": "e3e29b5d-61d5-404b-94f3-79f00d4dd49d",
   "metadata": {},
   "outputs": [],
   "source": [
    "def predict(\n",
    "    pdb,\n",
    "    protein_chains=None,\n",
    "    path=path\n",
    "):\n",
    "    # Establish PDB\n",
    "    if type(pdb) == str:\n",
    "        pdb = Cif(pdb, filename=f\"{path}/{pdb}_updated.cif\")\n",
    "\n",
    "    # Clean PDB\n",
    "    protein_chains = protein_chains or pdb.residues.query(f\"label_entity_id in {pdb._protein_entities}\").label_asym_id.unique().tolist()\n",
    "\n",
    "    clean_pdb = get_clean_pdb(\n",
    "        pdb,\n",
    "        protein_chains=protein_chains\n",
    "    )\n",
    "\n",
    "    \n",
    "    # Pockets\n",
    "    if not os.path.isdir(f\"{path}/{clean_pdb.entry_id}/{clean_pdb.entry_id}_out\"):\n",
    "        os.makedirs(f\"{path}/{clean_pdb.entry_id}\", exist_ok=True)\n",
    "        os.system(f\"cp {clean_pdb.filename} {path}/{clean_pdb.entry_id}/\")\n",
    "        os.system(f\"fpocket -m 3 -M 6 -i 35 --file {path}/{clean_pdb.entry_id}/{clean_pdb.entry_id}.cif\")\n",
    "\n",
    "    pockets = pd.DataFrame((\n",
    "        {\"pocket\": (\n",
    "            pocketf.split(\"_\")[0]\n",
    "            for pocketf in os.listdir(f\"{path}/{clean_pdb.entry_id}/{clean_pdb.entry_id}_out/pockets\")\n",
    "                if pocketf.endswith(\".cif\")\n",
    "        )}\n",
    "    ))\n",
    "    pockets[\"pdb\"] = clean_pdb.entry_id\n",
    "    \n",
    "    pockets_features = pd.concat(\n",
    "        (\n",
    "            pockets,\n",
    "            pockets.apply(\n",
    "                lambda row: pd.Series(\n",
    "                    Pocket(f\"{path}/{clean_pdb.entry_id}/{clean_pdb.entry_id}_out/pockets/{row['pocket']}_atm.cif\").feats\n",
    "                ), axis=1\n",
    "            )\n",
    "        ),\n",
    "        axis=1\n",
    "    )\n",
    "\n",
    "    pockets_features = pd.concat(\n",
    "        (\n",
    "            pockets_features[[\"pdb\", \"pocket\"]],# [[\"pdb\", \"pocket\", \"nres\", \"site_in_pocket\", \"pocket_in_site\"]],\n",
    "            # pockets_features[\"label\"],\n",
    "            pockets_features.drop(columns=[\"pdb\", \"pocket\"])#[\"pdb\", \"pocket\", \"nres\", \"site_in_pocket\", \"pocket_in_site\"]) # \"label\", \n",
    "        ),\n",
    "        axis=1,\n",
    "        # keys=[\"Pockets\", \"Label\", \"FPocket\"]\n",
    "        keys=[\"Pockets\", \"FPocket\"]\n",
    "    )\n",
    "\n",
    "    \n",
    "    # Features\n",
    "    os.makedirs(f\"{path}/features/{clean_pdb.entry_id}\", exist_ok=True)\n",
    "\n",
    "    progressbar = tqdm(FClasses)\n",
    "    for fc in progressbar:\n",
    "        progressbar.set_description(f\"Calculating {fc.__name__[:-1]}\")\n",
    "        file = f\"{path}/features/{clean_pdb.entry_id}/{fc.__name__}.pkl\"\n",
    "        if not os.path.isfile(file):\n",
    "            calculated = calculate_features(clean_pdb.entry_id, fc, file, path, path)\n",
    "            assert calculated, f\"Feature calculation failed: {fc}\"\n",
    "            \n",
    "    features = get_pdb_features(\n",
    "        clean_pdb,\n",
    "        sites = [pd.DataFrame(columns=clean_pdb.residues.columns),],\n",
    "        features_path = path\n",
    "    )\n",
    "\n",
    "    \n",
    "    # Data and prediction\n",
    "    df = pd.concat(\n",
    "        (\n",
    "            pockets_features,\n",
    "            pockets_features.apply(\n",
    "                lambda row: get_mean_pocket_features(\n",
    "                    clean_pdb.entry_id, #row[(\"Pockets\", \"pdb\")],\n",
    "                    row[(\"Pockets\", \"pocket\")],\n",
    "                    pdb_features = features,\n",
    "                    pockets_path = path # # f\"{pockets_path}/{pdb}/{pdb}_out/pockets/{pocket}_atm.cif\"\n",
    "                ), \n",
    "                axis=1 \n",
    "            )\n",
    "        ),\n",
    "        axis=1\n",
    "    )\n",
    "\n",
    "    df.index = df[\"Pockets\"][[\"pdb\", \"pocket\"]].apply(lambda x: \"_\".join(x), axis=1)\n",
    "    df = df.drop(columns=[\"Pockets\"], level=0)\n",
    "    df.columns = map(lambda x: \"_\".join(x), df.columns.values)\n",
    "    \n",
    "    preds = model.predict_proba(TabularDataset(df))[[1]].sort_values(1, ascending=False).rename(columns={1: \"Allosteric score\"})\n",
    "    preds.index = preds.index.map(lambda x: x.split(\"_\")[-1])\n",
    "    return preds"
   ]
  },
  {
   "cell_type": "markdown",
   "id": "ada43311-ffd0-4566-b1b3-622d41e97c7b",
   "metadata": {},
   "source": [
    "# Predict"
   ]
  },
  {
   "cell_type": "markdown",
   "id": "35053be0-8ea9-418f-b22d-fe3d645207c9",
   "metadata": {},
   "source": [
    "## Protein structure"
   ]
  },
  {
   "cell_type": "code",
   "execution_count": 17,
   "id": "b3d74c41-608a-465d-b14c-50c44f9f3eef",
   "metadata": {},
   "outputs": [],
   "source": [
    "pdb_id = \"4or2\""
   ]
  },
  {
   "cell_type": "code",
   "execution_count": 18,
   "id": "d8d35ff8-ecda-4dde-ae7a-b94184168de8",
   "metadata": {},
   "outputs": [
    {
     "data": {
      "application/vnd.jupyter.widget-view+json": {
       "model_id": "d99dba81b93e48558aff72af27bdfb87",
       "version_major": 2,
       "version_minor": 1
      },
      "text/plain": [
       "PDBeMolstar(bg_color='#F7F7F7', custom_data={'data': \"data_4OR2\\n#\\n_entry.id 4OR2\\n#\\n_citation.id primary\\n_…"
      ]
     },
     "execution_count": 18,
     "metadata": {},
     "output_type": "execute_result"
    }
   ],
   "source": [
    "pdb = get_cif(\n",
    "    pdb_id\n",
    ")\n",
    "\n",
    "view_pdb(pdb)"
   ]
  },
  {
   "cell_type": "markdown",
   "id": "09f850d9-94a9-4c30-9e38-862b7cf6b628",
   "metadata": {},
   "source": [
    "## Predict"
   ]
  },
  {
   "cell_type": "code",
   "execution_count": 19,
   "id": "90f42dfb-4887-4c48-8035-a0432fc301dc",
   "metadata": {
    "scrolled": true
   },
   "outputs": [
    {
     "data": {
      "application/vnd.jupyter.widget-view+json": {
       "model_id": "f29b658955d446cdafc7b342452079e9",
       "version_major": 2,
       "version_minor": 0
      },
      "text/plain": [
       "  0%|          | 0/9 [00:00<?, ?it/s]"
      ]
     },
     "metadata": {},
     "output_type": "display_data"
    }
   ],
   "source": [
    "predictions = predict(\n",
    "    pdb_id,\n",
    "    protein_chains=[\"A\"]\n",
    ")"
   ]
  },
  {
   "cell_type": "code",
   "execution_count": 20,
   "id": "6a9c305f-12a7-4f42-9559-2387cd4ade97",
   "metadata": {},
   "outputs": [
    {
     "data": {
      "text/html": [
       "<div>\n",
       "<style scoped>\n",
       "    .dataframe tbody tr th:only-of-type {\n",
       "        vertical-align: middle;\n",
       "    }\n",
       "\n",
       "    .dataframe tbody tr th {\n",
       "        vertical-align: top;\n",
       "    }\n",
       "\n",
       "    .dataframe thead th {\n",
       "        text-align: right;\n",
       "    }\n",
       "</style>\n",
       "<table border=\"1\" class=\"dataframe\">\n",
       "  <thead>\n",
       "    <tr style=\"text-align: right;\">\n",
       "      <th></th>\n",
       "      <th>Allosteric score</th>\n",
       "    </tr>\n",
       "  </thead>\n",
       "  <tbody>\n",
       "    <tr>\n",
       "      <th>pocket1</th>\n",
       "      <td>0.920452</td>\n",
       "    </tr>\n",
       "    <tr>\n",
       "      <th>pocket12</th>\n",
       "      <td>0.432812</td>\n",
       "    </tr>\n",
       "    <tr>\n",
       "      <th>pocket2</th>\n",
       "      <td>0.029577</td>\n",
       "    </tr>\n",
       "    <tr>\n",
       "      <th>pocket4</th>\n",
       "      <td>0.004039</td>\n",
       "    </tr>\n",
       "    <tr>\n",
       "      <th>pocket9</th>\n",
       "      <td>0.003933</td>\n",
       "    </tr>\n",
       "    <tr>\n",
       "      <th>pocket11</th>\n",
       "      <td>0.002201</td>\n",
       "    </tr>\n",
       "    <tr>\n",
       "      <th>pocket5</th>\n",
       "      <td>0.001827</td>\n",
       "    </tr>\n",
       "    <tr>\n",
       "      <th>pocket3</th>\n",
       "      <td>0.000979</td>\n",
       "    </tr>\n",
       "    <tr>\n",
       "      <th>pocket10</th>\n",
       "      <td>0.000667</td>\n",
       "    </tr>\n",
       "    <tr>\n",
       "      <th>pocket6</th>\n",
       "      <td>0.000090</td>\n",
       "    </tr>\n",
       "    <tr>\n",
       "      <th>pocket7</th>\n",
       "      <td>0.000066</td>\n",
       "    </tr>\n",
       "    <tr>\n",
       "      <th>pocket8</th>\n",
       "      <td>0.000016</td>\n",
       "    </tr>\n",
       "  </tbody>\n",
       "</table>\n",
       "</div>"
      ],
      "text/plain": [
       "          Allosteric score\n",
       "pocket1           0.920452\n",
       "pocket12          0.432812\n",
       "pocket2           0.029577\n",
       "pocket4           0.004039\n",
       "pocket9           0.003933\n",
       "pocket11          0.002201\n",
       "pocket5           0.001827\n",
       "pocket3           0.000979\n",
       "pocket10          0.000667\n",
       "pocket6           0.000090\n",
       "pocket7           0.000066\n",
       "pocket8           0.000016"
      ]
     },
     "execution_count": 20,
     "metadata": {},
     "output_type": "execute_result"
    }
   ],
   "source": [
    "predictions"
   ]
  },
  {
   "cell_type": "markdown",
   "id": "a1724764-d98c-4774-a72b-141fbdfc039e",
   "metadata": {},
   "source": [
    "## View"
   ]
  },
  {
   "cell_type": "code",
   "execution_count": 21,
   "id": "329ce0c9-b4f3-4f4f-a74d-725dc781a3b5",
   "metadata": {},
   "outputs": [
    {
     "data": {
      "application/vnd.jupyter.widget-view+json": {
       "model_id": "2e47d2d12c1746b58eefea8e23b2d879",
       "version_major": 2,
       "version_minor": 1
      },
      "text/plain": [
       "PDBeMolstar(bg_color='#F7F7F7', color_data={'data': [{'struct_asym_id': 'A', 'representation': 'cartoon', 'rep…"
      ]
     },
     "execution_count": 21,
     "metadata": {},
     "output_type": "execute_result"
    }
   ],
   "source": [
    "view_pockets(\n",
    "    pdb_id,\n",
    "    pockets={\"pocket1\": {\"color\": \"green\"}, \"pocket12\": {\"color\": \"blue\"}}, # {\"pocketn\": {\"color\": \"\"}}\n",
    "    protein_chains=[\"A\"]\n",
    ")"
   ]
  },
  {
   "cell_type": "markdown",
   "id": "7f9b4a51-31d2-44e8-aa77-349fb003cb2a",
   "metadata": {},
   "source": [
    "### Optional: view a target site"
   ]
  },
  {
   "cell_type": "markdown",
   "id": "1c44e350-18b4-4e0b-8234-b173c43db3c0",
   "metadata": {},
   "source": [
    "Set an object of the `Site` class passing a modulator molecule (and defining the site around it) or a list of residues. Then visualize it in the structure to assess overlap with predicted pockets (residues of the site will be colored green in the protein cartoon visualization).\n",
    "\n",
    "<br>"
   ]
  },
  {
   "cell_type": "markdown",
   "id": "2ea9f5d0-568e-4f6e-b429-5e01acefedbb",
   "metadata": {},
   "source": [
    "#### With a modulator molecule"
   ]
  },
  {
   "cell_type": "code",
   "execution_count": 22,
   "id": "c107ddda-fb8e-45ab-a63f-0b236d9e1f2b",
   "metadata": {},
   "outputs": [
    {
     "data": {
      "text/html": [
       "<div>\n",
       "<style scoped>\n",
       "    .dataframe tbody tr th:only-of-type {\n",
       "        vertical-align: middle;\n",
       "    }\n",
       "\n",
       "    .dataframe tbody tr th {\n",
       "        vertical-align: top;\n",
       "    }\n",
       "\n",
       "    .dataframe thead th {\n",
       "        text-align: right;\n",
       "    }\n",
       "</style>\n",
       "<table border=\"1\" class=\"dataframe\">\n",
       "  <thead>\n",
       "    <tr style=\"text-align: right;\">\n",
       "      <th></th>\n",
       "      <th>label_comp_id</th>\n",
       "      <th>label_asym_id</th>\n",
       "      <th>label_entity_id</th>\n",
       "      <th>label_seq_id</th>\n",
       "      <th>pdbx_PDB_ins_code</th>\n",
       "      <th>auth_seq_id</th>\n",
       "      <th>auth_comp_id</th>\n",
       "      <th>auth_asym_id</th>\n",
       "      <th>pdbx_PDB_model_num</th>\n",
       "      <th>pdbx_label_index</th>\n",
       "      <th>pdbx_sifts_xref_db_name</th>\n",
       "      <th>pdbx_sifts_xref_db_acc</th>\n",
       "      <th>pdbx_sifts_xref_db_num</th>\n",
       "      <th>pdbx_sifts_xref_db_res</th>\n",
       "    </tr>\n",
       "  </thead>\n",
       "  <tbody>\n",
       "    <tr>\n",
       "      <th>5603</th>\n",
       "      <td>FM9</td>\n",
       "      <td>C</td>\n",
       "      <td>2</td>\n",
       "      <td>.</td>\n",
       "      <td>?</td>\n",
       "      <td>1901</td>\n",
       "      <td>FM9</td>\n",
       "      <td>A</td>\n",
       "      <td>1</td>\n",
       "      <td>1901</td>\n",
       "      <td>?</td>\n",
       "      <td>?</td>\n",
       "      <td>?</td>\n",
       "      <td>?</td>\n",
       "    </tr>\n",
       "  </tbody>\n",
       "</table>\n",
       "</div>"
      ],
      "text/plain": [
       "     label_comp_id label_asym_id label_entity_id label_seq_id  \\\n",
       "5603           FM9             C               2            .   \n",
       "\n",
       "     pdbx_PDB_ins_code auth_seq_id auth_comp_id auth_asym_id  \\\n",
       "5603                 ?        1901          FM9            A   \n",
       "\n",
       "     pdbx_PDB_model_num pdbx_label_index pdbx_sifts_xref_db_name  \\\n",
       "5603                  1             1901                       ?   \n",
       "\n",
       "     pdbx_sifts_xref_db_acc pdbx_sifts_xref_db_num pdbx_sifts_xref_db_res  \n",
       "5603                      ?                      ?                      ?  "
      ]
     },
     "execution_count": 22,
     "metadata": {},
     "output_type": "execute_result"
    }
   ],
   "source": [
    "# Desired modulator is label_asym_id 'C'\n",
    "pdb.residues.query(\"label_asym_id == 'C'\")"
   ]
  },
  {
   "cell_type": "code",
   "execution_count": 23,
   "id": "c9bc74fa-2eb5-4641-b8c7-e074c4adab2a",
   "metadata": {
    "scrolled": true
   },
   "outputs": [
    {
     "data": {
      "text/plain": [
       "<__main__.Site at 0x782062b9c410>"
      ]
     },
     "execution_count": 23,
     "metadata": {},
     "output_type": "execute_result"
    }
   ],
   "source": [
    "site = Site(\n",
    "    pdb, \n",
    "    modulator_residues=pdb.residues.query(\"label_asym_id == 'C'\")\n",
    ")\n",
    "site"
   ]
  },
  {
   "cell_type": "code",
   "execution_count": 24,
   "id": "0979ab61-ff7f-4435-9b99-ad8f4d6565de",
   "metadata": {},
   "outputs": [
    {
     "data": {
      "application/vnd.jupyter.widget-view+json": {
       "model_id": "394d20a8d2a4459e912bb0b8119803f4",
       "version_major": 2,
       "version_minor": 1
      },
      "text/plain": [
       "PDBeMolstar(bg_color='#F7F7F7', color_data={'data': [{'struct_asym_id': 'A', 'representation': 'cartoon', 'rep…"
      ]
     },
     "execution_count": 24,
     "metadata": {},
     "output_type": "execute_result"
    }
   ],
   "source": [
    "view_pockets(\n",
    "    pdb_id,\n",
    "    pockets={\"pocket1\": {\"color\": \"green\"}, \"pocket12\": {\"color\": \"blue\"}}, # {\"pocketn\": {\"color\": \"\"}}\n",
    "    protein_chains=[\"A\"],\n",
    "    site_residues=site.residues,\n",
    "    modulator_residues=site.modulator_residues,\n",
    ")"
   ]
  },
  {
   "cell_type": "markdown",
   "id": "6da3c6bb-fb61-42ba-89de-2fe0309be5bc",
   "metadata": {},
   "source": [
    "#### With a list of residues"
   ]
  },
  {
   "cell_type": "code",
   "execution_count": 25,
   "id": "d33ab701-576e-413e-8c1e-56e02adcb5f2",
   "metadata": {
    "scrolled": true
   },
   "outputs": [
    {
     "data": {
      "text/plain": [
       "['177',\n",
       " '189',\n",
       " '190',\n",
       " '193',\n",
       " '194',\n",
       " '197',\n",
       " '201',\n",
       " '246',\n",
       " '275',\n",
       " '277',\n",
       " '281',\n",
       " '282',\n",
       " '285',\n",
       " '286',\n",
       " '287',\n",
       " '289',\n",
       " '290',\n",
       " '293',\n",
       " '322',\n",
       " '323',\n",
       " '324',\n",
       " '326',\n",
       " '327',\n",
       " '328',\n",
       " '330',\n",
       " '334',\n",
       " '340',\n",
       " '341',\n",
       " '344',\n",
       " '347',\n",
       " '348',\n",
       " '351']"
      ]
     },
     "execution_count": 25,
     "metadata": {},
     "output_type": "execute_result"
    }
   ],
   "source": [
    "# List of residue numbers of site\n",
    "resnums = site.residues.label_seq_id.to_list()\n",
    "resnums"
   ]
  },
  {
   "cell_type": "code",
   "execution_count": 26,
   "id": "dc73f75c-1de8-426b-8fc2-4f6a9572df75",
   "metadata": {
    "scrolled": true
   },
   "outputs": [
    {
     "data": {
      "text/html": [
       "<div>\n",
       "<style scoped>\n",
       "    .dataframe tbody tr th:only-of-type {\n",
       "        vertical-align: middle;\n",
       "    }\n",
       "\n",
       "    .dataframe tbody tr th {\n",
       "        vertical-align: top;\n",
       "    }\n",
       "\n",
       "    .dataframe thead th {\n",
       "        text-align: right;\n",
       "    }\n",
       "</style>\n",
       "<table border=\"1\" class=\"dataframe\">\n",
       "  <thead>\n",
       "    <tr style=\"text-align: right;\">\n",
       "      <th></th>\n",
       "      <th>label_comp_id</th>\n",
       "      <th>label_asym_id</th>\n",
       "      <th>label_entity_id</th>\n",
       "      <th>label_seq_id</th>\n",
       "      <th>pdbx_PDB_ins_code</th>\n",
       "      <th>auth_seq_id</th>\n",
       "      <th>auth_comp_id</th>\n",
       "      <th>auth_asym_id</th>\n",
       "      <th>pdbx_PDB_model_num</th>\n",
       "      <th>pdbx_label_index</th>\n",
       "      <th>pdbx_sifts_xref_db_name</th>\n",
       "      <th>pdbx_sifts_xref_db_acc</th>\n",
       "      <th>pdbx_sifts_xref_db_num</th>\n",
       "      <th>pdbx_sifts_xref_db_res</th>\n",
       "    </tr>\n",
       "  </thead>\n",
       "  <tbody>\n",
       "    <tr>\n",
       "      <th>0</th>\n",
       "      <td>LEU</td>\n",
       "      <td>A</td>\n",
       "      <td>1</td>\n",
       "      <td>177</td>\n",
       "      <td>?</td>\n",
       "      <td>648</td>\n",
       "      <td>LEU</td>\n",
       "      <td>A</td>\n",
       "      <td>1</td>\n",
       "      <td>177</td>\n",
       "      <td>UNP</td>\n",
       "      <td>Q13255</td>\n",
       "      <td>648</td>\n",
       "      <td>L</td>\n",
       "    </tr>\n",
       "    <tr>\n",
       "      <th>1</th>\n",
       "      <td>GLN</td>\n",
       "      <td>A</td>\n",
       "      <td>1</td>\n",
       "      <td>189</td>\n",
       "      <td>?</td>\n",
       "      <td>660</td>\n",
       "      <td>GLN</td>\n",
       "      <td>A</td>\n",
       "      <td>1</td>\n",
       "      <td>189</td>\n",
       "      <td>UNP</td>\n",
       "      <td>Q13255</td>\n",
       "      <td>660</td>\n",
       "      <td>Q</td>\n",
       "    </tr>\n",
       "    <tr>\n",
       "      <th>2</th>\n",
       "      <td>ARG</td>\n",
       "      <td>A</td>\n",
       "      <td>1</td>\n",
       "      <td>190</td>\n",
       "      <td>?</td>\n",
       "      <td>661</td>\n",
       "      <td>ARG</td>\n",
       "      <td>A</td>\n",
       "      <td>1</td>\n",
       "      <td>190</td>\n",
       "      <td>UNP</td>\n",
       "      <td>Q13255</td>\n",
       "      <td>661</td>\n",
       "      <td>R</td>\n",
       "    </tr>\n",
       "    <tr>\n",
       "      <th>3</th>\n",
       "      <td>VAL</td>\n",
       "      <td>A</td>\n",
       "      <td>1</td>\n",
       "      <td>193</td>\n",
       "      <td>?</td>\n",
       "      <td>664</td>\n",
       "      <td>VAL</td>\n",
       "      <td>A</td>\n",
       "      <td>1</td>\n",
       "      <td>193</td>\n",
       "      <td>UNP</td>\n",
       "      <td>Q13255</td>\n",
       "      <td>664</td>\n",
       "      <td>V</td>\n",
       "    </tr>\n",
       "    <tr>\n",
       "      <th>4</th>\n",
       "      <td>GLY</td>\n",
       "      <td>A</td>\n",
       "      <td>1</td>\n",
       "      <td>194</td>\n",
       "      <td>?</td>\n",
       "      <td>665</td>\n",
       "      <td>GLY</td>\n",
       "      <td>A</td>\n",
       "      <td>1</td>\n",
       "      <td>194</td>\n",
       "      <td>UNP</td>\n",
       "      <td>Q13255</td>\n",
       "      <td>665</td>\n",
       "      <td>G</td>\n",
       "    </tr>\n",
       "    <tr>\n",
       "      <th>5</th>\n",
       "      <td>SER</td>\n",
       "      <td>A</td>\n",
       "      <td>1</td>\n",
       "      <td>197</td>\n",
       "      <td>?</td>\n",
       "      <td>668</td>\n",
       "      <td>SER</td>\n",
       "      <td>A</td>\n",
       "      <td>1</td>\n",
       "      <td>197</td>\n",
       "      <td>UNP</td>\n",
       "      <td>Q13255</td>\n",
       "      <td>668</td>\n",
       "      <td>S</td>\n",
       "    </tr>\n",
       "    <tr>\n",
       "      <th>6</th>\n",
       "      <td>TYR</td>\n",
       "      <td>A</td>\n",
       "      <td>1</td>\n",
       "      <td>201</td>\n",
       "      <td>?</td>\n",
       "      <td>672</td>\n",
       "      <td>TYR</td>\n",
       "      <td>A</td>\n",
       "      <td>1</td>\n",
       "      <td>201</td>\n",
       "      <td>UNP</td>\n",
       "      <td>Q13255</td>\n",
       "      <td>672</td>\n",
       "      <td>Y</td>\n",
       "    </tr>\n",
       "    <tr>\n",
       "      <th>7</th>\n",
       "      <td>GLN</td>\n",
       "      <td>A</td>\n",
       "      <td>1</td>\n",
       "      <td>246</td>\n",
       "      <td>?</td>\n",
       "      <td>717</td>\n",
       "      <td>GLN</td>\n",
       "      <td>A</td>\n",
       "      <td>1</td>\n",
       "      <td>246</td>\n",
       "      <td>UNP</td>\n",
       "      <td>Q13255</td>\n",
       "      <td>717</td>\n",
       "      <td>Q</td>\n",
       "    </tr>\n",
       "    <tr>\n",
       "      <th>8</th>\n",
       "      <td>CYS</td>\n",
       "      <td>A</td>\n",
       "      <td>1</td>\n",
       "      <td>275</td>\n",
       "      <td>?</td>\n",
       "      <td>746</td>\n",
       "      <td>CYS</td>\n",
       "      <td>A</td>\n",
       "      <td>1</td>\n",
       "      <td>275</td>\n",
       "      <td>UNP</td>\n",
       "      <td>Q13255</td>\n",
       "      <td>746</td>\n",
       "      <td>C</td>\n",
       "    </tr>\n",
       "    <tr>\n",
       "      <th>9</th>\n",
       "      <td>THR</td>\n",
       "      <td>A</td>\n",
       "      <td>1</td>\n",
       "      <td>277</td>\n",
       "      <td>?</td>\n",
       "      <td>748</td>\n",
       "      <td>THR</td>\n",
       "      <td>A</td>\n",
       "      <td>1</td>\n",
       "      <td>277</td>\n",
       "      <td>UNP</td>\n",
       "      <td>Q13255</td>\n",
       "      <td>748</td>\n",
       "      <td>T</td>\n",
       "    </tr>\n",
       "    <tr>\n",
       "      <th>10</th>\n",
       "      <td>GLY</td>\n",
       "      <td>A</td>\n",
       "      <td>1</td>\n",
       "      <td>281</td>\n",
       "      <td>?</td>\n",
       "      <td>752</td>\n",
       "      <td>GLY</td>\n",
       "      <td>A</td>\n",
       "      <td>1</td>\n",
       "      <td>281</td>\n",
       "      <td>UNP</td>\n",
       "      <td>Q13255</td>\n",
       "      <td>752</td>\n",
       "      <td>G</td>\n",
       "    </tr>\n",
       "    <tr>\n",
       "      <th>11</th>\n",
       "      <td>VAL</td>\n",
       "      <td>A</td>\n",
       "      <td>1</td>\n",
       "      <td>282</td>\n",
       "      <td>?</td>\n",
       "      <td>753</td>\n",
       "      <td>VAL</td>\n",
       "      <td>A</td>\n",
       "      <td>1</td>\n",
       "      <td>282</td>\n",
       "      <td>UNP</td>\n",
       "      <td>Q13255</td>\n",
       "      <td>753</td>\n",
       "      <td>V</td>\n",
       "    </tr>\n",
       "    <tr>\n",
       "      <th>12</th>\n",
       "      <td>PRO</td>\n",
       "      <td>A</td>\n",
       "      <td>1</td>\n",
       "      <td>285</td>\n",
       "      <td>?</td>\n",
       "      <td>756</td>\n",
       "      <td>PRO</td>\n",
       "      <td>A</td>\n",
       "      <td>1</td>\n",
       "      <td>285</td>\n",
       "      <td>UNP</td>\n",
       "      <td>Q13255</td>\n",
       "      <td>756</td>\n",
       "      <td>P</td>\n",
       "    </tr>\n",
       "    <tr>\n",
       "      <th>13</th>\n",
       "      <td>LEU</td>\n",
       "      <td>A</td>\n",
       "      <td>1</td>\n",
       "      <td>286</td>\n",
       "      <td>?</td>\n",
       "      <td>757</td>\n",
       "      <td>LEU</td>\n",
       "      <td>A</td>\n",
       "      <td>1</td>\n",
       "      <td>286</td>\n",
       "      <td>UNP</td>\n",
       "      <td>Q13255</td>\n",
       "      <td>757</td>\n",
       "      <td>L</td>\n",
       "    </tr>\n",
       "    <tr>\n",
       "      <th>14</th>\n",
       "      <td>GLY</td>\n",
       "      <td>A</td>\n",
       "      <td>1</td>\n",
       "      <td>287</td>\n",
       "      <td>?</td>\n",
       "      <td>758</td>\n",
       "      <td>GLY</td>\n",
       "      <td>A</td>\n",
       "      <td>1</td>\n",
       "      <td>287</td>\n",
       "      <td>UNP</td>\n",
       "      <td>Q13255</td>\n",
       "      <td>758</td>\n",
       "      <td>G</td>\n",
       "    </tr>\n",
       "    <tr>\n",
       "      <th>15</th>\n",
       "      <td>ASN</td>\n",
       "      <td>A</td>\n",
       "      <td>1</td>\n",
       "      <td>289</td>\n",
       "      <td>?</td>\n",
       "      <td>760</td>\n",
       "      <td>ASN</td>\n",
       "      <td>A</td>\n",
       "      <td>1</td>\n",
       "      <td>289</td>\n",
       "      <td>UNP</td>\n",
       "      <td>Q13255</td>\n",
       "      <td>760</td>\n",
       "      <td>N</td>\n",
       "    </tr>\n",
       "    <tr>\n",
       "      <th>16</th>\n",
       "      <td>GLY</td>\n",
       "      <td>A</td>\n",
       "      <td>1</td>\n",
       "      <td>290</td>\n",
       "      <td>?</td>\n",
       "      <td>761</td>\n",
       "      <td>GLY</td>\n",
       "      <td>A</td>\n",
       "      <td>1</td>\n",
       "      <td>290</td>\n",
       "      <td>UNP</td>\n",
       "      <td>Q13255</td>\n",
       "      <td>761</td>\n",
       "      <td>G</td>\n",
       "    </tr>\n",
       "    <tr>\n",
       "      <th>17</th>\n",
       "      <td>ILE</td>\n",
       "      <td>A</td>\n",
       "      <td>1</td>\n",
       "      <td>293</td>\n",
       "      <td>?</td>\n",
       "      <td>764</td>\n",
       "      <td>ILE</td>\n",
       "      <td>A</td>\n",
       "      <td>1</td>\n",
       "      <td>293</td>\n",
       "      <td>UNP</td>\n",
       "      <td>Q13255</td>\n",
       "      <td>764</td>\n",
       "      <td>I</td>\n",
       "    </tr>\n",
       "    <tr>\n",
       "      <th>18</th>\n",
       "      <td>THR</td>\n",
       "      <td>A</td>\n",
       "      <td>1</td>\n",
       "      <td>322</td>\n",
       "      <td>?</td>\n",
       "      <td>793</td>\n",
       "      <td>THR</td>\n",
       "      <td>A</td>\n",
       "      <td>1</td>\n",
       "      <td>322</td>\n",
       "      <td>UNP</td>\n",
       "      <td>Q13255</td>\n",
       "      <td>793</td>\n",
       "      <td>T</td>\n",
       "    </tr>\n",
       "    <tr>\n",
       "      <th>19</th>\n",
       "      <td>THR</td>\n",
       "      <td>A</td>\n",
       "      <td>1</td>\n",
       "      <td>323</td>\n",
       "      <td>?</td>\n",
       "      <td>794</td>\n",
       "      <td>THR</td>\n",
       "      <td>A</td>\n",
       "      <td>1</td>\n",
       "      <td>323</td>\n",
       "      <td>UNP</td>\n",
       "      <td>Q13255</td>\n",
       "      <td>794</td>\n",
       "      <td>T</td>\n",
       "    </tr>\n",
       "    <tr>\n",
       "      <th>20</th>\n",
       "      <td>CYS</td>\n",
       "      <td>A</td>\n",
       "      <td>1</td>\n",
       "      <td>324</td>\n",
       "      <td>?</td>\n",
       "      <td>795</td>\n",
       "      <td>CYS</td>\n",
       "      <td>A</td>\n",
       "      <td>1</td>\n",
       "      <td>324</td>\n",
       "      <td>UNP</td>\n",
       "      <td>Q13255</td>\n",
       "      <td>795</td>\n",
       "      <td>C</td>\n",
       "    </tr>\n",
       "    <tr>\n",
       "      <th>21</th>\n",
       "      <td>ILE</td>\n",
       "      <td>A</td>\n",
       "      <td>1</td>\n",
       "      <td>326</td>\n",
       "      <td>?</td>\n",
       "      <td>797</td>\n",
       "      <td>ILE</td>\n",
       "      <td>A</td>\n",
       "      <td>1</td>\n",
       "      <td>326</td>\n",
       "      <td>UNP</td>\n",
       "      <td>Q13255</td>\n",
       "      <td>797</td>\n",
       "      <td>I</td>\n",
       "    </tr>\n",
       "    <tr>\n",
       "      <th>22</th>\n",
       "      <td>TRP</td>\n",
       "      <td>A</td>\n",
       "      <td>1</td>\n",
       "      <td>327</td>\n",
       "      <td>?</td>\n",
       "      <td>798</td>\n",
       "      <td>TRP</td>\n",
       "      <td>A</td>\n",
       "      <td>1</td>\n",
       "      <td>327</td>\n",
       "      <td>UNP</td>\n",
       "      <td>Q13255</td>\n",
       "      <td>798</td>\n",
       "      <td>W</td>\n",
       "    </tr>\n",
       "    <tr>\n",
       "      <th>23</th>\n",
       "      <td>LEU</td>\n",
       "      <td>A</td>\n",
       "      <td>1</td>\n",
       "      <td>328</td>\n",
       "      <td>?</td>\n",
       "      <td>799</td>\n",
       "      <td>LEU</td>\n",
       "      <td>A</td>\n",
       "      <td>1</td>\n",
       "      <td>328</td>\n",
       "      <td>UNP</td>\n",
       "      <td>Q13255</td>\n",
       "      <td>799</td>\n",
       "      <td>L</td>\n",
       "    </tr>\n",
       "    <tr>\n",
       "      <th>24</th>\n",
       "      <td>PHE</td>\n",
       "      <td>A</td>\n",
       "      <td>1</td>\n",
       "      <td>330</td>\n",
       "      <td>?</td>\n",
       "      <td>801</td>\n",
       "      <td>PHE</td>\n",
       "      <td>A</td>\n",
       "      <td>1</td>\n",
       "      <td>330</td>\n",
       "      <td>UNP</td>\n",
       "      <td>Q13255</td>\n",
       "      <td>801</td>\n",
       "      <td>F</td>\n",
       "    </tr>\n",
       "    <tr>\n",
       "      <th>25</th>\n",
       "      <td>TYR</td>\n",
       "      <td>A</td>\n",
       "      <td>1</td>\n",
       "      <td>334</td>\n",
       "      <td>?</td>\n",
       "      <td>805</td>\n",
       "      <td>TYR</td>\n",
       "      <td>A</td>\n",
       "      <td>1</td>\n",
       "      <td>334</td>\n",
       "      <td>UNP</td>\n",
       "      <td>Q13255</td>\n",
       "      <td>805</td>\n",
       "      <td>Y</td>\n",
       "    </tr>\n",
       "    <tr>\n",
       "      <th>26</th>\n",
       "      <td>LYS</td>\n",
       "      <td>A</td>\n",
       "      <td>1</td>\n",
       "      <td>340</td>\n",
       "      <td>?</td>\n",
       "      <td>811</td>\n",
       "      <td>LYS</td>\n",
       "      <td>A</td>\n",
       "      <td>1</td>\n",
       "      <td>340</td>\n",
       "      <td>UNP</td>\n",
       "      <td>Q13255</td>\n",
       "      <td>811</td>\n",
       "      <td>K</td>\n",
       "    </tr>\n",
       "    <tr>\n",
       "      <th>27</th>\n",
       "      <td>ILE</td>\n",
       "      <td>A</td>\n",
       "      <td>1</td>\n",
       "      <td>341</td>\n",
       "      <td>?</td>\n",
       "      <td>812</td>\n",
       "      <td>ILE</td>\n",
       "      <td>A</td>\n",
       "      <td>1</td>\n",
       "      <td>341</td>\n",
       "      <td>UNP</td>\n",
       "      <td>Q13255</td>\n",
       "      <td>812</td>\n",
       "      <td>I</td>\n",
       "    </tr>\n",
       "    <tr>\n",
       "      <th>28</th>\n",
       "      <td>THR</td>\n",
       "      <td>A</td>\n",
       "      <td>1</td>\n",
       "      <td>344</td>\n",
       "      <td>?</td>\n",
       "      <td>815</td>\n",
       "      <td>THR</td>\n",
       "      <td>A</td>\n",
       "      <td>1</td>\n",
       "      <td>344</td>\n",
       "      <td>UNP</td>\n",
       "      <td>Q13255</td>\n",
       "      <td>815</td>\n",
       "      <td>T</td>\n",
       "    </tr>\n",
       "    <tr>\n",
       "      <th>29</th>\n",
       "      <td>ALA</td>\n",
       "      <td>A</td>\n",
       "      <td>1</td>\n",
       "      <td>347</td>\n",
       "      <td>?</td>\n",
       "      <td>818</td>\n",
       "      <td>ALA</td>\n",
       "      <td>A</td>\n",
       "      <td>1</td>\n",
       "      <td>347</td>\n",
       "      <td>UNP</td>\n",
       "      <td>Q13255</td>\n",
       "      <td>818</td>\n",
       "      <td>A</td>\n",
       "    </tr>\n",
       "    <tr>\n",
       "      <th>30</th>\n",
       "      <td>VAL</td>\n",
       "      <td>A</td>\n",
       "      <td>1</td>\n",
       "      <td>348</td>\n",
       "      <td>?</td>\n",
       "      <td>819</td>\n",
       "      <td>VAL</td>\n",
       "      <td>A</td>\n",
       "      <td>1</td>\n",
       "      <td>348</td>\n",
       "      <td>UNP</td>\n",
       "      <td>Q13255</td>\n",
       "      <td>819</td>\n",
       "      <td>V</td>\n",
       "    </tr>\n",
       "    <tr>\n",
       "      <th>31</th>\n",
       "      <td>SER</td>\n",
       "      <td>A</td>\n",
       "      <td>1</td>\n",
       "      <td>351</td>\n",
       "      <td>?</td>\n",
       "      <td>822</td>\n",
       "      <td>SER</td>\n",
       "      <td>A</td>\n",
       "      <td>1</td>\n",
       "      <td>351</td>\n",
       "      <td>UNP</td>\n",
       "      <td>Q13255</td>\n",
       "      <td>822</td>\n",
       "      <td>S</td>\n",
       "    </tr>\n",
       "  </tbody>\n",
       "</table>\n",
       "</div>"
      ],
      "text/plain": [
       "   label_comp_id label_asym_id label_entity_id label_seq_id pdbx_PDB_ins_code  \\\n",
       "0            LEU             A               1          177                 ?   \n",
       "1            GLN             A               1          189                 ?   \n",
       "2            ARG             A               1          190                 ?   \n",
       "3            VAL             A               1          193                 ?   \n",
       "4            GLY             A               1          194                 ?   \n",
       "5            SER             A               1          197                 ?   \n",
       "6            TYR             A               1          201                 ?   \n",
       "7            GLN             A               1          246                 ?   \n",
       "8            CYS             A               1          275                 ?   \n",
       "9            THR             A               1          277                 ?   \n",
       "10           GLY             A               1          281                 ?   \n",
       "11           VAL             A               1          282                 ?   \n",
       "12           PRO             A               1          285                 ?   \n",
       "13           LEU             A               1          286                 ?   \n",
       "14           GLY             A               1          287                 ?   \n",
       "15           ASN             A               1          289                 ?   \n",
       "16           GLY             A               1          290                 ?   \n",
       "17           ILE             A               1          293                 ?   \n",
       "18           THR             A               1          322                 ?   \n",
       "19           THR             A               1          323                 ?   \n",
       "20           CYS             A               1          324                 ?   \n",
       "21           ILE             A               1          326                 ?   \n",
       "22           TRP             A               1          327                 ?   \n",
       "23           LEU             A               1          328                 ?   \n",
       "24           PHE             A               1          330                 ?   \n",
       "25           TYR             A               1          334                 ?   \n",
       "26           LYS             A               1          340                 ?   \n",
       "27           ILE             A               1          341                 ?   \n",
       "28           THR             A               1          344                 ?   \n",
       "29           ALA             A               1          347                 ?   \n",
       "30           VAL             A               1          348                 ?   \n",
       "31           SER             A               1          351                 ?   \n",
       "\n",
       "   auth_seq_id auth_comp_id auth_asym_id pdbx_PDB_model_num pdbx_label_index  \\\n",
       "0          648          LEU            A                  1              177   \n",
       "1          660          GLN            A                  1              189   \n",
       "2          661          ARG            A                  1              190   \n",
       "3          664          VAL            A                  1              193   \n",
       "4          665          GLY            A                  1              194   \n",
       "5          668          SER            A                  1              197   \n",
       "6          672          TYR            A                  1              201   \n",
       "7          717          GLN            A                  1              246   \n",
       "8          746          CYS            A                  1              275   \n",
       "9          748          THR            A                  1              277   \n",
       "10         752          GLY            A                  1              281   \n",
       "11         753          VAL            A                  1              282   \n",
       "12         756          PRO            A                  1              285   \n",
       "13         757          LEU            A                  1              286   \n",
       "14         758          GLY            A                  1              287   \n",
       "15         760          ASN            A                  1              289   \n",
       "16         761          GLY            A                  1              290   \n",
       "17         764          ILE            A                  1              293   \n",
       "18         793          THR            A                  1              322   \n",
       "19         794          THR            A                  1              323   \n",
       "20         795          CYS            A                  1              324   \n",
       "21         797          ILE            A                  1              326   \n",
       "22         798          TRP            A                  1              327   \n",
       "23         799          LEU            A                  1              328   \n",
       "24         801          PHE            A                  1              330   \n",
       "25         805          TYR            A                  1              334   \n",
       "26         811          LYS            A                  1              340   \n",
       "27         812          ILE            A                  1              341   \n",
       "28         815          THR            A                  1              344   \n",
       "29         818          ALA            A                  1              347   \n",
       "30         819          VAL            A                  1              348   \n",
       "31         822          SER            A                  1              351   \n",
       "\n",
       "   pdbx_sifts_xref_db_name pdbx_sifts_xref_db_acc pdbx_sifts_xref_db_num  \\\n",
       "0                      UNP                 Q13255                    648   \n",
       "1                      UNP                 Q13255                    660   \n",
       "2                      UNP                 Q13255                    661   \n",
       "3                      UNP                 Q13255                    664   \n",
       "4                      UNP                 Q13255                    665   \n",
       "5                      UNP                 Q13255                    668   \n",
       "6                      UNP                 Q13255                    672   \n",
       "7                      UNP                 Q13255                    717   \n",
       "8                      UNP                 Q13255                    746   \n",
       "9                      UNP                 Q13255                    748   \n",
       "10                     UNP                 Q13255                    752   \n",
       "11                     UNP                 Q13255                    753   \n",
       "12                     UNP                 Q13255                    756   \n",
       "13                     UNP                 Q13255                    757   \n",
       "14                     UNP                 Q13255                    758   \n",
       "15                     UNP                 Q13255                    760   \n",
       "16                     UNP                 Q13255                    761   \n",
       "17                     UNP                 Q13255                    764   \n",
       "18                     UNP                 Q13255                    793   \n",
       "19                     UNP                 Q13255                    794   \n",
       "20                     UNP                 Q13255                    795   \n",
       "21                     UNP                 Q13255                    797   \n",
       "22                     UNP                 Q13255                    798   \n",
       "23                     UNP                 Q13255                    799   \n",
       "24                     UNP                 Q13255                    801   \n",
       "25                     UNP                 Q13255                    805   \n",
       "26                     UNP                 Q13255                    811   \n",
       "27                     UNP                 Q13255                    812   \n",
       "28                     UNP                 Q13255                    815   \n",
       "29                     UNP                 Q13255                    818   \n",
       "30                     UNP                 Q13255                    819   \n",
       "31                     UNP                 Q13255                    822   \n",
       "\n",
       "   pdbx_sifts_xref_db_res  \n",
       "0                       L  \n",
       "1                       Q  \n",
       "2                       R  \n",
       "3                       V  \n",
       "4                       G  \n",
       "5                       S  \n",
       "6                       Y  \n",
       "7                       Q  \n",
       "8                       C  \n",
       "9                       T  \n",
       "10                      G  \n",
       "11                      V  \n",
       "12                      P  \n",
       "13                      L  \n",
       "14                      G  \n",
       "15                      N  \n",
       "16                      G  \n",
       "17                      I  \n",
       "18                      T  \n",
       "19                      T  \n",
       "20                      C  \n",
       "21                      I  \n",
       "22                      W  \n",
       "23                      L  \n",
       "24                      F  \n",
       "25                      Y  \n",
       "26                      K  \n",
       "27                      I  \n",
       "28                      T  \n",
       "29                      A  \n",
       "30                      V  \n",
       "31                      S  "
      ]
     },
     "execution_count": 26,
     "metadata": {},
     "output_type": "execute_result"
    }
   ],
   "source": [
    "# Site can be defined with a list of residues instead of a modulator\n",
    "res_site = Site(\n",
    "    pdb=pdb,\n",
    "    residues=[{\"label_asym_id\": \"A\", \"label_seq_id\": seqnum} for seqnum in resnums]\n",
    ")\n",
    "res_site.residues"
   ]
  },
  {
   "cell_type": "code",
   "execution_count": 27,
   "id": "6b4846b3-25b0-4258-a9fc-74b3187a436f",
   "metadata": {},
   "outputs": [
    {
     "data": {
      "application/vnd.jupyter.widget-view+json": {
       "model_id": "0a29858c1d254e928a9ffaef2729a3a4",
       "version_major": 2,
       "version_minor": 1
      },
      "text/plain": [
       "PDBeMolstar(bg_color='#F7F7F7', color_data={'data': [{'struct_asym_id': 'A', 'representation': 'cartoon', 'rep…"
      ]
     },
     "execution_count": 27,
     "metadata": {},
     "output_type": "execute_result"
    }
   ],
   "source": [
    "view_pockets(\n",
    "    pdb_id,\n",
    "    pockets={\"pocket1\": {\"color\": \"green\"}, \"pocket12\": {\"color\": \"blue\"}}, # {\"pocketn\": {\"color\": \"\"}}\n",
    "    protein_chains=[\"A\"],\n",
    "    site_residues=res_site.residues,\n",
    ")"
   ]
  }
 ],
 "metadata": {
  "kernelspec": {
   "display_name": "Python [conda env:allopockets_test] *",
   "language": "python",
   "name": "conda-env-allopockets_test-py"
  },
  "language_info": {
   "codemirror_mode": {
    "name": "ipython",
    "version": 3
   },
   "file_extension": ".py",
   "mimetype": "text/x-python",
   "name": "python",
   "nbconvert_exporter": "python",
   "pygments_lexer": "ipython3",
   "version": "3.11.9"
  },
  "widgets": {
   "application/vnd.jupyter.widget-state+json": {
    "state": {
     "0a29858c1d254e928a9ffaef2729a3a4": {
      "model_module": "anywidget",
      "model_module_version": "~0.9.*",
      "model_name": "AnyModel",
      "state": {
       "_anywidget_id": "ipymolstar.widget.PDBeMolstar",
       "_args": {},
       "_clear_highlight": false,
       "_clear_selection": false,
       "_clear_tooltips": false,
       "_css": "@import url('https://cdn.jsdelivr.net/npm/pdbe-molstar@3.2.0/build/pdbe-molstar-light.css');",
       "_esm": "import * as myModule from \"https://cdn.jsdelivr.net/npm/pdbe-molstar@3.2.0/build/pdbe-molstar-plugin.js\"\n\nfunction standardize_color(str) {\n  var ctx = document.createElement(\"canvas\").getContext(\"2d\");\n  ctx.fillStyle = str;\n  return ctx.fillStyle;\n}\nfunction toRgb(color) {\n  var hex = standardize_color(color);\n  var result = /^#?([a-f\\d]{2})([a-f\\d]{2})([a-f\\d]{2})$/i.exec(hex);\n  return result\n    ? {\n        r: parseInt(result[1], 16),\n        g: parseInt(result[2], 16),\n        b: parseInt(result[3], 16),\n      }\n    : null;\n}\n\nfunction getHideStructure(model) {\n  var hideStructure = [];\n\n  if (model.get(\"hide_polymer\")) {\n    hideStructure.push(\"polymer\");\n  }\n  if (model.get(\"hide_water\")) {\n    hideStructure.push(\"water\");\n  }\n  if (model.get(\"hide_heteroatoms\")) {\n    hideStructure.push(\"het\");\n  }\n  if (model.get(\"hide_carbs\")) {\n    hideStructure.push(\"carbs\");\n  }\n  if (model.get(\"hide_non_standard\")) {\n    hideStructure.push(\"nonStandard\");\n  }\n  if (model.get(\"hide_coarse\")) {\n    hideStructure.push(\"coarse\");\n  }\n\n  return hideStructure;\n}\n\nfunction getVisibility(model) {\n  var visibility = {\n    polymer: !model.get(\"hide_polymer\"),\n    het: !model.get(\"hide_heteroatoms\"),\n    water: !model.get(\"hide_water\"),\n    carbs: !model.get(\"hide_carbs\"),\n    // maps ?\n  };\n\n  return visibility;\n}\n\nfunction getHideCanvasControls(model) {\n  var hideCanvasControls = [];\n  if (model.get(\"hide_controls_icon\")) {\n    hideCanvasControls.push(\"controlToggle\");\n  }\n  if (model.get(\"hide_expand_icon\")) {\n    hideCanvasControls.push(\"expand\");\n  }\n  if (model.get(\"hide_settings_icon\")) {\n    hideCanvasControls.push(\"controlInfo\");\n  }\n  if (model.get(\"hide_selection_icon\")) {\n    hideCanvasControls.push(\"selection\");\n  }\n  if (model.get(\"hide_animation_icon\")) {\n    hideCanvasControls.push(\"animation\");\n  }\n\n  return hideCanvasControls;\n}\n\nfunction getCustomData(model) {\n  var customData = model.get(\"custom_data\");\n  \n  if (customData && 'data' in customData) {\n    var url = URL.createObjectURL(new Blob([customData.data]));\n    customData.url = url;\n    delete customData.data;\n  }\n\n  return customData;\n}\n\nfunction getOptions(model) {\n  var options = {\n    moleculeId: model.get(\"molecule_id\"),\n    customData: getCustomData(model),\n    assemblyId: model.get(\"assembly_id\"),\n    defaultPreset: model.get(\"default_preset\"),\n    ligandView: model.get(\"ligand_view\"),\n    alphafoldView: model.get(\"alphafold_view\"),\n    superposition: model.get(\"superposition\"),\n    superpositionParams: model.get(\"superposition_params\"),\n    visualStyle: model.get(\"visual_style\"),\n    loadMaps: model.get(\"load_maps\"),\n    bgColor: toRgb(model.get(\"bg_color\")),\n    highlightColor: toRgb(model.get(\"highlight_color\")),\n    selectColor: toRgb(model.get(\"select_color\")),\n    lighting: model.get(\"lighting\"),\n    validationAnnotation: model.get(\"validation_annotation\"),\n    symmetryAnnotation: model.get(\"symmetry_annotation\"),\n    pdbeUrl: model.get(\"pdbe_url\"),\n    encoding: model.get(\"encoding\"),\n    lowPrecisionCoords: model.get(\"low_precision_coords\"),\n    selectInteraction: model.get(\"select_interaction\"),\n    granularity: model.get(\"granularity\"),\n    subscribeEvents: model.get(\"subscribe_events\"),\n    hideControls: model.get(\"hide_controls\"),\n    hideCanvasControls: getHideCanvasControls(model),\n    sequencePanel: model.get(\"sequence_panel\"),\n    pdbeLink: model.get(\"pdbe_link\"),\n    loadingOverlay: model.get(\"loading_overlay\"),\n    expanded: model.get(\"expanded\"),\n    landscape: model.get(\"landscape\"),\n    reactive: model.get(\"reactive\"),\n  };\n\n  return options;\n}\n\nfunction subscribe(model, name, callback) {\n  model.on(name, callback);\n  return () => model.off(name, callback);\n}\n\nfunction render({ model, el }) {\n  let viewerContainer = document.createElement(\"div\");\n  viewerContainer.id = \"viewer_container\";\n\n  viewerContainer.style.height = model.get(\"height\");\n  var viewerInstance = new window.PDBeMolstarPlugin();\n  viewerInstance.render(viewerContainer, getOptions(model)); //.then(() => {\n  el.appendChild(viewerContainer);\n\n  // callbacks to be called after loading is complete\n  let callbacksLoadComplete = {\n    \"change:spin\": () => viewerInstance.visual.toggleSpin(model.get(\"spin\")),\n    \"change:hide_polymer\": () => {\n      viewerInstance.visual.visibility({ polymer: !model.get(\"hide_polymer\") });\n    },\n    \"change:hide_water\": () => {\n      viewerInstance.visual.visibility({ water: !model.get(\"hide_water\") });\n    },\n    \"change:hide_heteroatoms\": () => {\n      viewerInstance.visual.visibility({ het: !model.get(\"hide_heteroatoms\") });\n    },\n    \"change:hide_carbs\": () => {\n      viewerInstance.visual.visibility({ carbs: !model.get(\"hide_carbs\") });\n    },\n    \"change:hide_non_standard\": () => {\n      viewerInstance.visual.visibility({\n        nonStandard: !model.get(\"hide_non_standard\"),\n      });\n    },\n    \"change:hide_coarse\": () => {\n      viewerInstance.visual.visibility({ coarse: !model.get(\"hide_coarse\") });\n    },\n    \"change:color_data\": () => {\n      const selectValue = model.get(\"color_data\");\n      if (selectValue !== null) {\n        viewerInstance.visual.select(selectValue);\n      }\n    },\n    \"change:tooltips\": () => {\n      const tooltipValue = model.get(\"tooltips\");\n      if (tooltipValue !== null) {\n        viewerInstance.visual.tooltips(tooltipValue);\n      }\n    },\n  };\n\n  let otherCallbacks = {\n    \"change:molecule_id\": () => {\n      viewerInstance.visual.update(getOptions(model), true);\n    },\n    \"change:custom_data\": () => {\n      viewerInstance.visual.update(getOptions(model), true);\n    },\n    \"change:visual_style\": () => {\n      viewerInstance.visual.update(getOptions(model), true);\n    },\n    // \"change:lighting\": () => {\n    //   viewerInstance.visual.update(getOptions(model), true);\n    // },\n    \"change:bg_color\": () => {\n      viewerInstance.canvas.setBgColor(toRgb(model.get(\"bg_color\")));\n    },\n    \"change:_reset\": () => {\n      const resetValue = model.get(\"_reset\");\n      if (resetValue !== null) {\n        viewerInstance.visual.reset(resetValue);\n      }\n    },\n    \"change:_clear_tooltips\": () => {\n      viewerInstance.visual.clearTooltips();\n    }\n  };\n\n  let combinedCallbacks = Object.assign(\n    {},\n    callbacksLoadComplete,\n    otherCallbacks\n  );\n\n  viewerInstance.events.loadComplete.subscribe(() => {\n    // trigger callabacks which need to be called after loading\n    Object.values(callbacksLoadComplete).forEach((callback) => callback());\n  });\n\n  // subscribe to events and collect unsubscribe funcs\n  let unsubscribes = Object.entries(combinedCallbacks).map(([name, callback]) =>\n    subscribe(model, name, callback)\n  );\n\n  document.addEventListener(\"PDB.molstar.mouseover\", (e) => {\n    const eventData = e.eventData;\n    model.set(\"mouseover_event\", eventData);\n    model.save_changes();\n  });\n\n  return () => {\n    unsubscribes.forEach((unsubscribe) => unsubscribe());\n  };\n}\n\nexport default { render };\n",
       "_focus": null,
       "_highlight": null,
       "_model_module": "anywidget",
       "_model_module_version": "~0.9.*",
       "_model_name": "AnyModel",
       "_reset": null,
       "_set_color": null,
       "_update": null,
       "_view_module": "anywidget",
       "_view_module_version": "~0.9.*",
       "_view_name": "AnyView",
       "alphafold_view": false,
       "assembly_id": "",
       "bg_color": "#F7F7F7",
       "color_data": {
        "data": [
         {
          "focus": true,
          "representation": "cartoon",
          "representationColor": "#AEAEAE",
          "struct_asym_id": "A"
         },
         {
          "representationColor": "#0f009e73",
          "residue_number": 177,
          "struct_asym_id": "A"
         },
         {
          "representationColor": "#0f009e73",
          "residue_number": 189,
          "struct_asym_id": "A"
         },
         {
          "representationColor": "#0f009e73",
          "residue_number": 190,
          "struct_asym_id": "A"
         },
         {
          "representationColor": "#0f009e73",
          "residue_number": 193,
          "struct_asym_id": "A"
         },
         {
          "representationColor": "#0f009e73",
          "residue_number": 194,
          "struct_asym_id": "A"
         },
         {
          "representationColor": "#0f009e73",
          "residue_number": 197,
          "struct_asym_id": "A"
         },
         {
          "representationColor": "#0f009e73",
          "residue_number": 201,
          "struct_asym_id": "A"
         },
         {
          "representationColor": "#0f009e73",
          "residue_number": 246,
          "struct_asym_id": "A"
         },
         {
          "representationColor": "#0f009e73",
          "residue_number": 275,
          "struct_asym_id": "A"
         },
         {
          "representationColor": "#0f009e73",
          "residue_number": 277,
          "struct_asym_id": "A"
         },
         {
          "representationColor": "#0f009e73",
          "residue_number": 281,
          "struct_asym_id": "A"
         },
         {
          "representationColor": "#0f009e73",
          "residue_number": 282,
          "struct_asym_id": "A"
         },
         {
          "representationColor": "#0f009e73",
          "residue_number": 285,
          "struct_asym_id": "A"
         },
         {
          "representationColor": "#0f009e73",
          "residue_number": 286,
          "struct_asym_id": "A"
         },
         {
          "representationColor": "#0f009e73",
          "residue_number": 287,
          "struct_asym_id": "A"
         },
         {
          "representationColor": "#0f009e73",
          "residue_number": 289,
          "struct_asym_id": "A"
         },
         {
          "representationColor": "#0f009e73",
          "residue_number": 290,
          "struct_asym_id": "A"
         },
         {
          "representationColor": "#0f009e73",
          "residue_number": 293,
          "struct_asym_id": "A"
         },
         {
          "representationColor": "#0f009e73",
          "residue_number": 322,
          "struct_asym_id": "A"
         },
         {
          "representationColor": "#0f009e73",
          "residue_number": 323,
          "struct_asym_id": "A"
         },
         {
          "representationColor": "#0f009e73",
          "residue_number": 324,
          "struct_asym_id": "A"
         },
         {
          "representationColor": "#0f009e73",
          "residue_number": 326,
          "struct_asym_id": "A"
         },
         {
          "representationColor": "#0f009e73",
          "residue_number": 327,
          "struct_asym_id": "A"
         },
         {
          "representationColor": "#0f009e73",
          "residue_number": 328,
          "struct_asym_id": "A"
         },
         {
          "representationColor": "#0f009e73",
          "residue_number": 330,
          "struct_asym_id": "A"
         },
         {
          "representationColor": "#0f009e73",
          "residue_number": 334,
          "struct_asym_id": "A"
         },
         {
          "representationColor": "#0f009e73",
          "residue_number": 340,
          "struct_asym_id": "A"
         },
         {
          "representationColor": "#0f009e73",
          "residue_number": 341,
          "struct_asym_id": "A"
         },
         {
          "representationColor": "#0f009e73",
          "residue_number": 344,
          "struct_asym_id": "A"
         },
         {
          "representationColor": "#0f009e73",
          "residue_number": 347,
          "struct_asym_id": "A"
         },
         {
          "representationColor": "#0f009e73",
          "residue_number": 348,
          "struct_asym_id": "A"
         },
         {
          "representationColor": "#0f009e73",
          "residue_number": 351,
          "struct_asym_id": "A"
         },
         {
          "representation": "point",
          "representationColor": "#0f009e73",
          "residue_number": 1,
          "struct_asym_id": "ZZZ"
         },
         {
          "representation": "point",
          "representationColor": "#0f0072b2",
          "residue_number": 12,
          "struct_asym_id": "ZZZ"
         },
         {
          "representation": "gaussian-volume",
          "representationColor": "#0f009e73",
          "residue_number": 1,
          "struct_asym_id": "ZZZ"
         },
         {
          "representation": "gaussian-volume",
          "representationColor": "#0f0072b2",
          "residue_number": 12,
          "struct_asym_id": "ZZZ"
         }
        ],
        "keepColors": true,
        "keepRepresentations": false,
        "nonSelectedColor": null
       },
       "custom_data": {
        "binary": false,
        "format": "cif",
        "url": "blob:http://localhost:8999/b437d2bb-6e99-467c-9781-ff9066d033c0"
       },
       "default_preset": "default",
       "domain_annotation": false,
       "encoding": "bcif",
       "expanded": false,
       "granularity": "residue",
       "height": "500px",
       "hide_animation_icon": false,
       "hide_carbs": true,
       "hide_coarse": false,
       "hide_controls": false,
       "hide_controls_icon": false,
       "hide_expand_icon": false,
       "hide_heteroatoms": false,
       "hide_non_standard": false,
       "hide_polymer": true,
       "hide_selection_icon": false,
       "hide_settings_icon": false,
       "hide_water": true,
       "highlight_color": "#FF6699",
       "landscape": false,
       "layout": "IPY_MODEL_e060d9f29c59490ba2dcb39cf4580fca",
       "ligand_view": null,
       "lighting": null,
       "load_maps": false,
       "loading_overlay": false,
       "low_precision_coords": false,
       "map_settings": null,
       "molecule_id": "",
       "mouseover_event": {
        "alt_id": "",
        "atom_id": [
         "C3"
        ],
        "auth_asym_id": "A",
        "auth_seq_id": 1901,
        "comp_id": "FM9",
        "entity_id": "2",
        "entry_id": "4OR2",
        "ins_code": "",
        "instance": "1_555",
        "label_asym_id": "C",
        "micro_het_comp_ids": [
         "FM9"
        ],
        "model": 0,
        "residueNumber": 0,
        "seq_id": 0
       },
       "pdbe_link": true,
       "pdbe_url": "https://www.ebi.ac.uk/pdbe/",
       "reactive": false,
       "select_color": "#33FF19",
       "select_interaction": true,
       "sequence_panel": true,
       "spin": false,
       "subscribe_events": false,
       "superposition": false,
       "superposition_params": null,
       "symmetry_annotation": false,
       "tooltips": null,
       "validation_annotation": false,
       "visual_style": null
      }
     },
     "10591f2f3ef84e459511dfbb17167c15": {
      "model_module": "@jupyter-widgets/base",
      "model_module_version": "2.0.0",
      "model_name": "LayoutModel",
      "state": {}
     },
     "176046c38c764108a6b5d74e440fd261": {
      "model_module": "@jupyter-widgets/base",
      "model_module_version": "2.0.0",
      "model_name": "LayoutModel",
      "state": {}
     },
     "1d0ec462d190478e9aed62b1032c08f5": {
      "model_module": "@jupyter-widgets/base",
      "model_module_version": "2.0.0",
      "model_name": "LayoutModel",
      "state": {}
     },
     "214dae2ba40c4817a212d64c37a81c3b": {
      "model_module": "@jupyter-widgets/base",
      "model_module_version": "2.0.0",
      "model_name": "LayoutModel",
      "state": {}
     },
     "2e47d2d12c1746b58eefea8e23b2d879": {
      "model_module": "anywidget",
      "model_module_version": "~0.9.*",
      "model_name": "AnyModel",
      "state": {
       "_anywidget_id": "ipymolstar.widget.PDBeMolstar",
       "_args": {},
       "_clear_highlight": false,
       "_clear_selection": false,
       "_clear_tooltips": false,
       "_css": "@import url('https://cdn.jsdelivr.net/npm/pdbe-molstar@3.2.0/build/pdbe-molstar-light.css');",
       "_esm": "import * as myModule from \"https://cdn.jsdelivr.net/npm/pdbe-molstar@3.2.0/build/pdbe-molstar-plugin.js\"\n\nfunction standardize_color(str) {\n  var ctx = document.createElement(\"canvas\").getContext(\"2d\");\n  ctx.fillStyle = str;\n  return ctx.fillStyle;\n}\nfunction toRgb(color) {\n  var hex = standardize_color(color);\n  var result = /^#?([a-f\\d]{2})([a-f\\d]{2})([a-f\\d]{2})$/i.exec(hex);\n  return result\n    ? {\n        r: parseInt(result[1], 16),\n        g: parseInt(result[2], 16),\n        b: parseInt(result[3], 16),\n      }\n    : null;\n}\n\nfunction getHideStructure(model) {\n  var hideStructure = [];\n\n  if (model.get(\"hide_polymer\")) {\n    hideStructure.push(\"polymer\");\n  }\n  if (model.get(\"hide_water\")) {\n    hideStructure.push(\"water\");\n  }\n  if (model.get(\"hide_heteroatoms\")) {\n    hideStructure.push(\"het\");\n  }\n  if (model.get(\"hide_carbs\")) {\n    hideStructure.push(\"carbs\");\n  }\n  if (model.get(\"hide_non_standard\")) {\n    hideStructure.push(\"nonStandard\");\n  }\n  if (model.get(\"hide_coarse\")) {\n    hideStructure.push(\"coarse\");\n  }\n\n  return hideStructure;\n}\n\nfunction getVisibility(model) {\n  var visibility = {\n    polymer: !model.get(\"hide_polymer\"),\n    het: !model.get(\"hide_heteroatoms\"),\n    water: !model.get(\"hide_water\"),\n    carbs: !model.get(\"hide_carbs\"),\n    // maps ?\n  };\n\n  return visibility;\n}\n\nfunction getHideCanvasControls(model) {\n  var hideCanvasControls = [];\n  if (model.get(\"hide_controls_icon\")) {\n    hideCanvasControls.push(\"controlToggle\");\n  }\n  if (model.get(\"hide_expand_icon\")) {\n    hideCanvasControls.push(\"expand\");\n  }\n  if (model.get(\"hide_settings_icon\")) {\n    hideCanvasControls.push(\"controlInfo\");\n  }\n  if (model.get(\"hide_selection_icon\")) {\n    hideCanvasControls.push(\"selection\");\n  }\n  if (model.get(\"hide_animation_icon\")) {\n    hideCanvasControls.push(\"animation\");\n  }\n\n  return hideCanvasControls;\n}\n\nfunction getCustomData(model) {\n  var customData = model.get(\"custom_data\");\n  \n  if (customData && 'data' in customData) {\n    var url = URL.createObjectURL(new Blob([customData.data]));\n    customData.url = url;\n    delete customData.data;\n  }\n\n  return customData;\n}\n\nfunction getOptions(model) {\n  var options = {\n    moleculeId: model.get(\"molecule_id\"),\n    customData: getCustomData(model),\n    assemblyId: model.get(\"assembly_id\"),\n    defaultPreset: model.get(\"default_preset\"),\n    ligandView: model.get(\"ligand_view\"),\n    alphafoldView: model.get(\"alphafold_view\"),\n    superposition: model.get(\"superposition\"),\n    superpositionParams: model.get(\"superposition_params\"),\n    visualStyle: model.get(\"visual_style\"),\n    loadMaps: model.get(\"load_maps\"),\n    bgColor: toRgb(model.get(\"bg_color\")),\n    highlightColor: toRgb(model.get(\"highlight_color\")),\n    selectColor: toRgb(model.get(\"select_color\")),\n    lighting: model.get(\"lighting\"),\n    validationAnnotation: model.get(\"validation_annotation\"),\n    symmetryAnnotation: model.get(\"symmetry_annotation\"),\n    pdbeUrl: model.get(\"pdbe_url\"),\n    encoding: model.get(\"encoding\"),\n    lowPrecisionCoords: model.get(\"low_precision_coords\"),\n    selectInteraction: model.get(\"select_interaction\"),\n    granularity: model.get(\"granularity\"),\n    subscribeEvents: model.get(\"subscribe_events\"),\n    hideControls: model.get(\"hide_controls\"),\n    hideCanvasControls: getHideCanvasControls(model),\n    sequencePanel: model.get(\"sequence_panel\"),\n    pdbeLink: model.get(\"pdbe_link\"),\n    loadingOverlay: model.get(\"loading_overlay\"),\n    expanded: model.get(\"expanded\"),\n    landscape: model.get(\"landscape\"),\n    reactive: model.get(\"reactive\"),\n  };\n\n  return options;\n}\n\nfunction subscribe(model, name, callback) {\n  model.on(name, callback);\n  return () => model.off(name, callback);\n}\n\nfunction render({ model, el }) {\n  let viewerContainer = document.createElement(\"div\");\n  viewerContainer.id = \"viewer_container\";\n\n  viewerContainer.style.height = model.get(\"height\");\n  var viewerInstance = new window.PDBeMolstarPlugin();\n  viewerInstance.render(viewerContainer, getOptions(model)); //.then(() => {\n  el.appendChild(viewerContainer);\n\n  // callbacks to be called after loading is complete\n  let callbacksLoadComplete = {\n    \"change:spin\": () => viewerInstance.visual.toggleSpin(model.get(\"spin\")),\n    \"change:hide_polymer\": () => {\n      viewerInstance.visual.visibility({ polymer: !model.get(\"hide_polymer\") });\n    },\n    \"change:hide_water\": () => {\n      viewerInstance.visual.visibility({ water: !model.get(\"hide_water\") });\n    },\n    \"change:hide_heteroatoms\": () => {\n      viewerInstance.visual.visibility({ het: !model.get(\"hide_heteroatoms\") });\n    },\n    \"change:hide_carbs\": () => {\n      viewerInstance.visual.visibility({ carbs: !model.get(\"hide_carbs\") });\n    },\n    \"change:hide_non_standard\": () => {\n      viewerInstance.visual.visibility({\n        nonStandard: !model.get(\"hide_non_standard\"),\n      });\n    },\n    \"change:hide_coarse\": () => {\n      viewerInstance.visual.visibility({ coarse: !model.get(\"hide_coarse\") });\n    },\n    \"change:color_data\": () => {\n      const selectValue = model.get(\"color_data\");\n      if (selectValue !== null) {\n        viewerInstance.visual.select(selectValue);\n      }\n    },\n    \"change:tooltips\": () => {\n      const tooltipValue = model.get(\"tooltips\");\n      if (tooltipValue !== null) {\n        viewerInstance.visual.tooltips(tooltipValue);\n      }\n    },\n  };\n\n  let otherCallbacks = {\n    \"change:molecule_id\": () => {\n      viewerInstance.visual.update(getOptions(model), true);\n    },\n    \"change:custom_data\": () => {\n      viewerInstance.visual.update(getOptions(model), true);\n    },\n    \"change:visual_style\": () => {\n      viewerInstance.visual.update(getOptions(model), true);\n    },\n    // \"change:lighting\": () => {\n    //   viewerInstance.visual.update(getOptions(model), true);\n    // },\n    \"change:bg_color\": () => {\n      viewerInstance.canvas.setBgColor(toRgb(model.get(\"bg_color\")));\n    },\n    \"change:_reset\": () => {\n      const resetValue = model.get(\"_reset\");\n      if (resetValue !== null) {\n        viewerInstance.visual.reset(resetValue);\n      }\n    },\n    \"change:_clear_tooltips\": () => {\n      viewerInstance.visual.clearTooltips();\n    }\n  };\n\n  let combinedCallbacks = Object.assign(\n    {},\n    callbacksLoadComplete,\n    otherCallbacks\n  );\n\n  viewerInstance.events.loadComplete.subscribe(() => {\n    // trigger callabacks which need to be called after loading\n    Object.values(callbacksLoadComplete).forEach((callback) => callback());\n  });\n\n  // subscribe to events and collect unsubscribe funcs\n  let unsubscribes = Object.entries(combinedCallbacks).map(([name, callback]) =>\n    subscribe(model, name, callback)\n  );\n\n  document.addEventListener(\"PDB.molstar.mouseover\", (e) => {\n    const eventData = e.eventData;\n    model.set(\"mouseover_event\", eventData);\n    model.save_changes();\n  });\n\n  return () => {\n    unsubscribes.forEach((unsubscribe) => unsubscribe());\n  };\n}\n\nexport default { render };\n",
       "_focus": null,
       "_highlight": null,
       "_model_module": "anywidget",
       "_model_module_version": "~0.9.*",
       "_model_name": "AnyModel",
       "_reset": null,
       "_set_color": null,
       "_update": null,
       "_view_module": "anywidget",
       "_view_module_version": "~0.9.*",
       "_view_name": "AnyView",
       "alphafold_view": false,
       "assembly_id": "",
       "bg_color": "#F7F7F7",
       "color_data": {
        "data": [
         {
          "focus": true,
          "representation": "cartoon",
          "representationColor": "#AEAEAE",
          "struct_asym_id": "A"
         },
         {
          "representation": "point",
          "representationColor": "#0f009e73",
          "residue_number": 1,
          "struct_asym_id": "ZZZ"
         },
         {
          "representation": "point",
          "representationColor": "#0f0072b2",
          "residue_number": 12,
          "struct_asym_id": "ZZZ"
         },
         {
          "representation": "gaussian-volume",
          "representationColor": "#0f009e73",
          "residue_number": 1,
          "struct_asym_id": "ZZZ"
         },
         {
          "representation": "gaussian-volume",
          "representationColor": "#0f0072b2",
          "residue_number": 12,
          "struct_asym_id": "ZZZ"
         }
        ],
        "keepColors": true,
        "keepRepresentations": false,
        "nonSelectedColor": null
       },
       "custom_data": {
        "binary": false,
        "format": "cif",
        "url": "blob:http://localhost:8999/c9ee57e3-7d71-4cb0-bf44-a34b0c5b883d"
       },
       "default_preset": "default",
       "domain_annotation": false,
       "encoding": "bcif",
       "expanded": false,
       "granularity": "residue",
       "height": "500px",
       "hide_animation_icon": false,
       "hide_carbs": true,
       "hide_coarse": false,
       "hide_controls": false,
       "hide_controls_icon": false,
       "hide_expand_icon": false,
       "hide_heteroatoms": false,
       "hide_non_standard": false,
       "hide_polymer": true,
       "hide_selection_icon": false,
       "hide_settings_icon": false,
       "hide_water": true,
       "highlight_color": "#FF6699",
       "landscape": false,
       "layout": "IPY_MODEL_1d0ec462d190478e9aed62b1032c08f5",
       "ligand_view": null,
       "lighting": null,
       "load_maps": false,
       "loading_overlay": false,
       "low_precision_coords": false,
       "map_settings": null,
       "molecule_id": "",
       "mouseover_event": {
        "alt_id": "",
        "atom_id": [
         "C3"
        ],
        "auth_asym_id": "A",
        "auth_seq_id": 1901,
        "comp_id": "FM9",
        "entity_id": "2",
        "entry_id": "4OR2",
        "ins_code": "",
        "instance": "1_555",
        "label_asym_id": "C",
        "micro_het_comp_ids": [
         "FM9"
        ],
        "model": 0,
        "residueNumber": 0,
        "seq_id": 0
       },
       "pdbe_link": true,
       "pdbe_url": "https://www.ebi.ac.uk/pdbe/",
       "reactive": false,
       "select_color": "#33FF19",
       "select_interaction": true,
       "sequence_panel": true,
       "spin": false,
       "subscribe_events": false,
       "superposition": false,
       "superposition_params": null,
       "symmetry_annotation": false,
       "tooltips": null,
       "validation_annotation": false,
       "visual_style": null
      }
     },
     "394d20a8d2a4459e912bb0b8119803f4": {
      "model_module": "anywidget",
      "model_module_version": "~0.9.*",
      "model_name": "AnyModel",
      "state": {
       "_anywidget_id": "ipymolstar.widget.PDBeMolstar",
       "_args": {},
       "_clear_highlight": false,
       "_clear_selection": false,
       "_clear_tooltips": false,
       "_css": "@import url('https://cdn.jsdelivr.net/npm/pdbe-molstar@3.2.0/build/pdbe-molstar-light.css');",
       "_esm": "import * as myModule from \"https://cdn.jsdelivr.net/npm/pdbe-molstar@3.2.0/build/pdbe-molstar-plugin.js\"\n\nfunction standardize_color(str) {\n  var ctx = document.createElement(\"canvas\").getContext(\"2d\");\n  ctx.fillStyle = str;\n  return ctx.fillStyle;\n}\nfunction toRgb(color) {\n  var hex = standardize_color(color);\n  var result = /^#?([a-f\\d]{2})([a-f\\d]{2})([a-f\\d]{2})$/i.exec(hex);\n  return result\n    ? {\n        r: parseInt(result[1], 16),\n        g: parseInt(result[2], 16),\n        b: parseInt(result[3], 16),\n      }\n    : null;\n}\n\nfunction getHideStructure(model) {\n  var hideStructure = [];\n\n  if (model.get(\"hide_polymer\")) {\n    hideStructure.push(\"polymer\");\n  }\n  if (model.get(\"hide_water\")) {\n    hideStructure.push(\"water\");\n  }\n  if (model.get(\"hide_heteroatoms\")) {\n    hideStructure.push(\"het\");\n  }\n  if (model.get(\"hide_carbs\")) {\n    hideStructure.push(\"carbs\");\n  }\n  if (model.get(\"hide_non_standard\")) {\n    hideStructure.push(\"nonStandard\");\n  }\n  if (model.get(\"hide_coarse\")) {\n    hideStructure.push(\"coarse\");\n  }\n\n  return hideStructure;\n}\n\nfunction getVisibility(model) {\n  var visibility = {\n    polymer: !model.get(\"hide_polymer\"),\n    het: !model.get(\"hide_heteroatoms\"),\n    water: !model.get(\"hide_water\"),\n    carbs: !model.get(\"hide_carbs\"),\n    // maps ?\n  };\n\n  return visibility;\n}\n\nfunction getHideCanvasControls(model) {\n  var hideCanvasControls = [];\n  if (model.get(\"hide_controls_icon\")) {\n    hideCanvasControls.push(\"controlToggle\");\n  }\n  if (model.get(\"hide_expand_icon\")) {\n    hideCanvasControls.push(\"expand\");\n  }\n  if (model.get(\"hide_settings_icon\")) {\n    hideCanvasControls.push(\"controlInfo\");\n  }\n  if (model.get(\"hide_selection_icon\")) {\n    hideCanvasControls.push(\"selection\");\n  }\n  if (model.get(\"hide_animation_icon\")) {\n    hideCanvasControls.push(\"animation\");\n  }\n\n  return hideCanvasControls;\n}\n\nfunction getCustomData(model) {\n  var customData = model.get(\"custom_data\");\n  \n  if (customData && 'data' in customData) {\n    var url = URL.createObjectURL(new Blob([customData.data]));\n    customData.url = url;\n    delete customData.data;\n  }\n\n  return customData;\n}\n\nfunction getOptions(model) {\n  var options = {\n    moleculeId: model.get(\"molecule_id\"),\n    customData: getCustomData(model),\n    assemblyId: model.get(\"assembly_id\"),\n    defaultPreset: model.get(\"default_preset\"),\n    ligandView: model.get(\"ligand_view\"),\n    alphafoldView: model.get(\"alphafold_view\"),\n    superposition: model.get(\"superposition\"),\n    superpositionParams: model.get(\"superposition_params\"),\n    visualStyle: model.get(\"visual_style\"),\n    loadMaps: model.get(\"load_maps\"),\n    bgColor: toRgb(model.get(\"bg_color\")),\n    highlightColor: toRgb(model.get(\"highlight_color\")),\n    selectColor: toRgb(model.get(\"select_color\")),\n    lighting: model.get(\"lighting\"),\n    validationAnnotation: model.get(\"validation_annotation\"),\n    symmetryAnnotation: model.get(\"symmetry_annotation\"),\n    pdbeUrl: model.get(\"pdbe_url\"),\n    encoding: model.get(\"encoding\"),\n    lowPrecisionCoords: model.get(\"low_precision_coords\"),\n    selectInteraction: model.get(\"select_interaction\"),\n    granularity: model.get(\"granularity\"),\n    subscribeEvents: model.get(\"subscribe_events\"),\n    hideControls: model.get(\"hide_controls\"),\n    hideCanvasControls: getHideCanvasControls(model),\n    sequencePanel: model.get(\"sequence_panel\"),\n    pdbeLink: model.get(\"pdbe_link\"),\n    loadingOverlay: model.get(\"loading_overlay\"),\n    expanded: model.get(\"expanded\"),\n    landscape: model.get(\"landscape\"),\n    reactive: model.get(\"reactive\"),\n  };\n\n  return options;\n}\n\nfunction subscribe(model, name, callback) {\n  model.on(name, callback);\n  return () => model.off(name, callback);\n}\n\nfunction render({ model, el }) {\n  let viewerContainer = document.createElement(\"div\");\n  viewerContainer.id = \"viewer_container\";\n\n  viewerContainer.style.height = model.get(\"height\");\n  var viewerInstance = new window.PDBeMolstarPlugin();\n  viewerInstance.render(viewerContainer, getOptions(model)); //.then(() => {\n  el.appendChild(viewerContainer);\n\n  // callbacks to be called after loading is complete\n  let callbacksLoadComplete = {\n    \"change:spin\": () => viewerInstance.visual.toggleSpin(model.get(\"spin\")),\n    \"change:hide_polymer\": () => {\n      viewerInstance.visual.visibility({ polymer: !model.get(\"hide_polymer\") });\n    },\n    \"change:hide_water\": () => {\n      viewerInstance.visual.visibility({ water: !model.get(\"hide_water\") });\n    },\n    \"change:hide_heteroatoms\": () => {\n      viewerInstance.visual.visibility({ het: !model.get(\"hide_heteroatoms\") });\n    },\n    \"change:hide_carbs\": () => {\n      viewerInstance.visual.visibility({ carbs: !model.get(\"hide_carbs\") });\n    },\n    \"change:hide_non_standard\": () => {\n      viewerInstance.visual.visibility({\n        nonStandard: !model.get(\"hide_non_standard\"),\n      });\n    },\n    \"change:hide_coarse\": () => {\n      viewerInstance.visual.visibility({ coarse: !model.get(\"hide_coarse\") });\n    },\n    \"change:color_data\": () => {\n      const selectValue = model.get(\"color_data\");\n      if (selectValue !== null) {\n        viewerInstance.visual.select(selectValue);\n      }\n    },\n    \"change:tooltips\": () => {\n      const tooltipValue = model.get(\"tooltips\");\n      if (tooltipValue !== null) {\n        viewerInstance.visual.tooltips(tooltipValue);\n      }\n    },\n  };\n\n  let otherCallbacks = {\n    \"change:molecule_id\": () => {\n      viewerInstance.visual.update(getOptions(model), true);\n    },\n    \"change:custom_data\": () => {\n      viewerInstance.visual.update(getOptions(model), true);\n    },\n    \"change:visual_style\": () => {\n      viewerInstance.visual.update(getOptions(model), true);\n    },\n    // \"change:lighting\": () => {\n    //   viewerInstance.visual.update(getOptions(model), true);\n    // },\n    \"change:bg_color\": () => {\n      viewerInstance.canvas.setBgColor(toRgb(model.get(\"bg_color\")));\n    },\n    \"change:_reset\": () => {\n      const resetValue = model.get(\"_reset\");\n      if (resetValue !== null) {\n        viewerInstance.visual.reset(resetValue);\n      }\n    },\n    \"change:_clear_tooltips\": () => {\n      viewerInstance.visual.clearTooltips();\n    }\n  };\n\n  let combinedCallbacks = Object.assign(\n    {},\n    callbacksLoadComplete,\n    otherCallbacks\n  );\n\n  viewerInstance.events.loadComplete.subscribe(() => {\n    // trigger callabacks which need to be called after loading\n    Object.values(callbacksLoadComplete).forEach((callback) => callback());\n  });\n\n  // subscribe to events and collect unsubscribe funcs\n  let unsubscribes = Object.entries(combinedCallbacks).map(([name, callback]) =>\n    subscribe(model, name, callback)\n  );\n\n  document.addEventListener(\"PDB.molstar.mouseover\", (e) => {\n    const eventData = e.eventData;\n    model.set(\"mouseover_event\", eventData);\n    model.save_changes();\n  });\n\n  return () => {\n    unsubscribes.forEach((unsubscribe) => unsubscribe());\n  };\n}\n\nexport default { render };\n",
       "_focus": null,
       "_highlight": null,
       "_model_module": "anywidget",
       "_model_module_version": "~0.9.*",
       "_model_name": "AnyModel",
       "_reset": null,
       "_set_color": null,
       "_update": null,
       "_view_module": "anywidget",
       "_view_module_version": "~0.9.*",
       "_view_name": "AnyView",
       "alphafold_view": false,
       "assembly_id": "",
       "bg_color": "#F7F7F7",
       "color_data": {
        "data": [
         {
          "focus": true,
          "representation": "cartoon",
          "representationColor": "#AEAEAE",
          "struct_asym_id": "A"
         },
         {
          "representationColor": "#0f009e73",
          "residue_number": 177,
          "struct_asym_id": "A"
         },
         {
          "representationColor": "#0f009e73",
          "residue_number": 189,
          "struct_asym_id": "A"
         },
         {
          "representationColor": "#0f009e73",
          "residue_number": 190,
          "struct_asym_id": "A"
         },
         {
          "representationColor": "#0f009e73",
          "residue_number": 193,
          "struct_asym_id": "A"
         },
         {
          "representationColor": "#0f009e73",
          "residue_number": 194,
          "struct_asym_id": "A"
         },
         {
          "representationColor": "#0f009e73",
          "residue_number": 197,
          "struct_asym_id": "A"
         },
         {
          "representationColor": "#0f009e73",
          "residue_number": 201,
          "struct_asym_id": "A"
         },
         {
          "representationColor": "#0f009e73",
          "residue_number": 246,
          "struct_asym_id": "A"
         },
         {
          "representationColor": "#0f009e73",
          "residue_number": 275,
          "struct_asym_id": "A"
         },
         {
          "representationColor": "#0f009e73",
          "residue_number": 277,
          "struct_asym_id": "A"
         },
         {
          "representationColor": "#0f009e73",
          "residue_number": 281,
          "struct_asym_id": "A"
         },
         {
          "representationColor": "#0f009e73",
          "residue_number": 282,
          "struct_asym_id": "A"
         },
         {
          "representationColor": "#0f009e73",
          "residue_number": 285,
          "struct_asym_id": "A"
         },
         {
          "representationColor": "#0f009e73",
          "residue_number": 286,
          "struct_asym_id": "A"
         },
         {
          "representationColor": "#0f009e73",
          "residue_number": 287,
          "struct_asym_id": "A"
         },
         {
          "representationColor": "#0f009e73",
          "residue_number": 289,
          "struct_asym_id": "A"
         },
         {
          "representationColor": "#0f009e73",
          "residue_number": 290,
          "struct_asym_id": "A"
         },
         {
          "representationColor": "#0f009e73",
          "residue_number": 293,
          "struct_asym_id": "A"
         },
         {
          "representationColor": "#0f009e73",
          "residue_number": 322,
          "struct_asym_id": "A"
         },
         {
          "representationColor": "#0f009e73",
          "residue_number": 323,
          "struct_asym_id": "A"
         },
         {
          "representationColor": "#0f009e73",
          "residue_number": 324,
          "struct_asym_id": "A"
         },
         {
          "representationColor": "#0f009e73",
          "residue_number": 326,
          "struct_asym_id": "A"
         },
         {
          "representationColor": "#0f009e73",
          "residue_number": 327,
          "struct_asym_id": "A"
         },
         {
          "representationColor": "#0f009e73",
          "residue_number": 328,
          "struct_asym_id": "A"
         },
         {
          "representationColor": "#0f009e73",
          "residue_number": 330,
          "struct_asym_id": "A"
         },
         {
          "representationColor": "#0f009e73",
          "residue_number": 334,
          "struct_asym_id": "A"
         },
         {
          "representationColor": "#0f009e73",
          "residue_number": 340,
          "struct_asym_id": "A"
         },
         {
          "representationColor": "#0f009e73",
          "residue_number": 341,
          "struct_asym_id": "A"
         },
         {
          "representationColor": "#0f009e73",
          "residue_number": 344,
          "struct_asym_id": "A"
         },
         {
          "representationColor": "#0f009e73",
          "residue_number": 347,
          "struct_asym_id": "A"
         },
         {
          "representationColor": "#0f009e73",
          "residue_number": 348,
          "struct_asym_id": "A"
         },
         {
          "representationColor": "#0f009e73",
          "residue_number": 351,
          "struct_asym_id": "A"
         },
         {
          "color": "white",
          "struct_asym_id": "K"
         },
         {
          "color": "white",
          "struct_asym_id": "D"
         },
         {
          "color": "white",
          "struct_asym_id": "L"
         },
         {
          "color": "white",
          "struct_asym_id": "E"
         },
         {
          "color": "white",
          "struct_asym_id": "M"
         },
         {
          "color": "white",
          "struct_asym_id": "F"
         },
         {
          "color": "white",
          "struct_asym_id": "N"
         },
         {
          "color": "white",
          "struct_asym_id": "G"
         },
         {
          "color": "white",
          "struct_asym_id": "O"
         },
         {
          "color": "white",
          "struct_asym_id": "H"
         },
         {
          "color": "white",
          "struct_asym_id": "P"
         },
         {
          "color": "white",
          "struct_asym_id": "I"
         },
         {
          "color": "white",
          "struct_asym_id": "J"
         },
         {
          "representation": "point",
          "representationColor": "#0f009e73",
          "residue_number": 1,
          "struct_asym_id": "ZZZ"
         },
         {
          "representation": "point",
          "representationColor": "#0f0072b2",
          "residue_number": 12,
          "struct_asym_id": "ZZZ"
         },
         {
          "representation": "gaussian-volume",
          "representationColor": "#0f009e73",
          "residue_number": 1,
          "struct_asym_id": "ZZZ"
         },
         {
          "representation": "gaussian-volume",
          "representationColor": "#0f0072b2",
          "residue_number": 12,
          "struct_asym_id": "ZZZ"
         }
        ],
        "keepColors": true,
        "keepRepresentations": false,
        "nonSelectedColor": null
       },
       "custom_data": {
        "binary": false,
        "format": "cif",
        "url": "blob:http://localhost:8999/f019c3ea-c635-4e60-95e8-dbe5641091a5"
       },
       "default_preset": "default",
       "domain_annotation": false,
       "encoding": "bcif",
       "expanded": false,
       "granularity": "residue",
       "height": "500px",
       "hide_animation_icon": false,
       "hide_carbs": true,
       "hide_coarse": false,
       "hide_controls": false,
       "hide_controls_icon": false,
       "hide_expand_icon": false,
       "hide_heteroatoms": false,
       "hide_non_standard": false,
       "hide_polymer": true,
       "hide_selection_icon": false,
       "hide_settings_icon": false,
       "hide_water": true,
       "highlight_color": "#FF6699",
       "landscape": false,
       "layout": "IPY_MODEL_f8876089bd0746df90b91ca479da7655",
       "ligand_view": null,
       "lighting": null,
       "load_maps": false,
       "loading_overlay": false,
       "low_precision_coords": false,
       "map_settings": null,
       "molecule_id": "",
       "mouseover_event": {
        "alt_id": "",
        "atom_id": [
         "C3"
        ],
        "auth_asym_id": "A",
        "auth_seq_id": 1901,
        "comp_id": "FM9",
        "entity_id": "2",
        "entry_id": "4OR2",
        "ins_code": "",
        "instance": "1_555",
        "label_asym_id": "C",
        "micro_het_comp_ids": [
         "FM9"
        ],
        "model": 0,
        "residueNumber": 0,
        "seq_id": 0
       },
       "pdbe_link": true,
       "pdbe_url": "https://www.ebi.ac.uk/pdbe/",
       "reactive": false,
       "select_color": "#33FF19",
       "select_interaction": true,
       "sequence_panel": true,
       "spin": false,
       "subscribe_events": false,
       "superposition": false,
       "superposition_params": null,
       "symmetry_annotation": false,
       "tooltips": null,
       "validation_annotation": false,
       "visual_style": null
      }
     },
     "3b63a25340644cc897cf90655f3ef04e": {
      "model_module": "@jupyter-widgets/base",
      "model_module_version": "2.0.0",
      "model_name": "LayoutModel",
      "state": {}
     },
     "6a27cfb790414a3d942e718c2bf6776d": {
      "model_module": "@jupyter-widgets/base",
      "model_module_version": "2.0.0",
      "model_name": "LayoutModel",
      "state": {}
     },
     "7586cdb1739443919575dfab68651133": {
      "model_module": "@jupyter-widgets/controls",
      "model_module_version": "2.0.0",
      "model_name": "HTMLStyleModel",
      "state": {
       "description_width": "",
       "font_size": null,
       "text_color": null
      }
     },
     "8fdac7c0ca5b45d2adae8308ac715774": {
      "model_module": "@jupyter-widgets/controls",
      "model_module_version": "2.0.0",
      "model_name": "HTMLModel",
      "state": {
       "layout": "IPY_MODEL_176046c38c764108a6b5d74e440fd261",
       "style": "IPY_MODEL_7586cdb1739443919575dfab68651133",
       "value": " 9/9 [00:00&lt;00:00, 1946.41it/s]"
      }
     },
     "93851c3e0f2c44ebb7b908743bf165ab": {
      "model_module": "@jupyter-widgets/base",
      "model_module_version": "2.0.0",
      "model_name": "LayoutModel",
      "state": {}
     },
     "948ccef50a0541c2b728565789a7d013": {
      "model_module": "@jupyter-widgets/controls",
      "model_module_version": "2.0.0",
      "model_name": "ProgressStyleModel",
      "state": {
       "description_width": ""
      }
     },
     "9c868cadb4d64a5bad7a48ff2cfcc66e": {
      "model_module": "nglview-js-widgets",
      "model_module_version": "3.1.4",
      "model_name": "ColormakerRegistryModel",
      "state": {
       "_msg_ar": [],
       "_msg_q": [],
       "_ready": true,
       "layout": "IPY_MODEL_214dae2ba40c4817a212d64c37a81c3b"
      }
     },
     "ac462688c72c4ee193f160448c6fc6bd": {
      "model_module": "@jupyter-widgets/controls",
      "model_module_version": "2.0.0",
      "model_name": "FloatProgressModel",
      "state": {
       "bar_style": "success",
       "layout": "IPY_MODEL_6a27cfb790414a3d942e718c2bf6776d",
       "max": 9,
       "style": "IPY_MODEL_948ccef50a0541c2b728565789a7d013",
       "value": 9
      }
     },
     "c90bca45b97742118248946f31de750b": {
      "model_module": "@jupyter-widgets/controls",
      "model_module_version": "2.0.0",
      "model_name": "HTMLModel",
      "state": {
       "layout": "IPY_MODEL_10591f2f3ef84e459511dfbb17167c15",
       "style": "IPY_MODEL_e6c657dc7591416ebc92923b9327b87e",
       "value": "Calculating HHBlits: 100%"
      }
     },
     "d99dba81b93e48558aff72af27bdfb87": {
      "model_module": "anywidget",
      "model_module_version": "~0.9.*",
      "model_name": "AnyModel",
      "state": {
       "_anywidget_id": "ipymolstar.widget.PDBeMolstar",
       "_args": {},
       "_clear_highlight": false,
       "_clear_selection": false,
       "_clear_tooltips": false,
       "_css": "@import url('https://cdn.jsdelivr.net/npm/pdbe-molstar@3.2.0/build/pdbe-molstar-light.css');",
       "_esm": "import * as myModule from \"https://cdn.jsdelivr.net/npm/pdbe-molstar@3.2.0/build/pdbe-molstar-plugin.js\"\n\nfunction standardize_color(str) {\n  var ctx = document.createElement(\"canvas\").getContext(\"2d\");\n  ctx.fillStyle = str;\n  return ctx.fillStyle;\n}\nfunction toRgb(color) {\n  var hex = standardize_color(color);\n  var result = /^#?([a-f\\d]{2})([a-f\\d]{2})([a-f\\d]{2})$/i.exec(hex);\n  return result\n    ? {\n        r: parseInt(result[1], 16),\n        g: parseInt(result[2], 16),\n        b: parseInt(result[3], 16),\n      }\n    : null;\n}\n\nfunction getHideStructure(model) {\n  var hideStructure = [];\n\n  if (model.get(\"hide_polymer\")) {\n    hideStructure.push(\"polymer\");\n  }\n  if (model.get(\"hide_water\")) {\n    hideStructure.push(\"water\");\n  }\n  if (model.get(\"hide_heteroatoms\")) {\n    hideStructure.push(\"het\");\n  }\n  if (model.get(\"hide_carbs\")) {\n    hideStructure.push(\"carbs\");\n  }\n  if (model.get(\"hide_non_standard\")) {\n    hideStructure.push(\"nonStandard\");\n  }\n  if (model.get(\"hide_coarse\")) {\n    hideStructure.push(\"coarse\");\n  }\n\n  return hideStructure;\n}\n\nfunction getVisibility(model) {\n  var visibility = {\n    polymer: !model.get(\"hide_polymer\"),\n    het: !model.get(\"hide_heteroatoms\"),\n    water: !model.get(\"hide_water\"),\n    carbs: !model.get(\"hide_carbs\"),\n    // maps ?\n  };\n\n  return visibility;\n}\n\nfunction getHideCanvasControls(model) {\n  var hideCanvasControls = [];\n  if (model.get(\"hide_controls_icon\")) {\n    hideCanvasControls.push(\"controlToggle\");\n  }\n  if (model.get(\"hide_expand_icon\")) {\n    hideCanvasControls.push(\"expand\");\n  }\n  if (model.get(\"hide_settings_icon\")) {\n    hideCanvasControls.push(\"controlInfo\");\n  }\n  if (model.get(\"hide_selection_icon\")) {\n    hideCanvasControls.push(\"selection\");\n  }\n  if (model.get(\"hide_animation_icon\")) {\n    hideCanvasControls.push(\"animation\");\n  }\n\n  return hideCanvasControls;\n}\n\nfunction getCustomData(model) {\n  var customData = model.get(\"custom_data\");\n  \n  if (customData && 'data' in customData) {\n    var url = URL.createObjectURL(new Blob([customData.data]));\n    customData.url = url;\n    delete customData.data;\n  }\n\n  return customData;\n}\n\nfunction getOptions(model) {\n  var options = {\n    moleculeId: model.get(\"molecule_id\"),\n    customData: getCustomData(model),\n    assemblyId: model.get(\"assembly_id\"),\n    defaultPreset: model.get(\"default_preset\"),\n    ligandView: model.get(\"ligand_view\"),\n    alphafoldView: model.get(\"alphafold_view\"),\n    superposition: model.get(\"superposition\"),\n    superpositionParams: model.get(\"superposition_params\"),\n    visualStyle: model.get(\"visual_style\"),\n    loadMaps: model.get(\"load_maps\"),\n    bgColor: toRgb(model.get(\"bg_color\")),\n    highlightColor: toRgb(model.get(\"highlight_color\")),\n    selectColor: toRgb(model.get(\"select_color\")),\n    lighting: model.get(\"lighting\"),\n    validationAnnotation: model.get(\"validation_annotation\"),\n    symmetryAnnotation: model.get(\"symmetry_annotation\"),\n    pdbeUrl: model.get(\"pdbe_url\"),\n    encoding: model.get(\"encoding\"),\n    lowPrecisionCoords: model.get(\"low_precision_coords\"),\n    selectInteraction: model.get(\"select_interaction\"),\n    granularity: model.get(\"granularity\"),\n    subscribeEvents: model.get(\"subscribe_events\"),\n    hideControls: model.get(\"hide_controls\"),\n    hideCanvasControls: getHideCanvasControls(model),\n    sequencePanel: model.get(\"sequence_panel\"),\n    pdbeLink: model.get(\"pdbe_link\"),\n    loadingOverlay: model.get(\"loading_overlay\"),\n    expanded: model.get(\"expanded\"),\n    landscape: model.get(\"landscape\"),\n    reactive: model.get(\"reactive\"),\n  };\n\n  return options;\n}\n\nfunction subscribe(model, name, callback) {\n  model.on(name, callback);\n  return () => model.off(name, callback);\n}\n\nfunction render({ model, el }) {\n  let viewerContainer = document.createElement(\"div\");\n  viewerContainer.id = \"viewer_container\";\n\n  viewerContainer.style.height = model.get(\"height\");\n  var viewerInstance = new window.PDBeMolstarPlugin();\n  viewerInstance.render(viewerContainer, getOptions(model)); //.then(() => {\n  el.appendChild(viewerContainer);\n\n  // callbacks to be called after loading is complete\n  let callbacksLoadComplete = {\n    \"change:spin\": () => viewerInstance.visual.toggleSpin(model.get(\"spin\")),\n    \"change:hide_polymer\": () => {\n      viewerInstance.visual.visibility({ polymer: !model.get(\"hide_polymer\") });\n    },\n    \"change:hide_water\": () => {\n      viewerInstance.visual.visibility({ water: !model.get(\"hide_water\") });\n    },\n    \"change:hide_heteroatoms\": () => {\n      viewerInstance.visual.visibility({ het: !model.get(\"hide_heteroatoms\") });\n    },\n    \"change:hide_carbs\": () => {\n      viewerInstance.visual.visibility({ carbs: !model.get(\"hide_carbs\") });\n    },\n    \"change:hide_non_standard\": () => {\n      viewerInstance.visual.visibility({\n        nonStandard: !model.get(\"hide_non_standard\"),\n      });\n    },\n    \"change:hide_coarse\": () => {\n      viewerInstance.visual.visibility({ coarse: !model.get(\"hide_coarse\") });\n    },\n    \"change:color_data\": () => {\n      const selectValue = model.get(\"color_data\");\n      if (selectValue !== null) {\n        viewerInstance.visual.select(selectValue);\n      }\n    },\n    \"change:tooltips\": () => {\n      const tooltipValue = model.get(\"tooltips\");\n      if (tooltipValue !== null) {\n        viewerInstance.visual.tooltips(tooltipValue);\n      }\n    },\n  };\n\n  let otherCallbacks = {\n    \"change:molecule_id\": () => {\n      viewerInstance.visual.update(getOptions(model), true);\n    },\n    \"change:custom_data\": () => {\n      viewerInstance.visual.update(getOptions(model), true);\n    },\n    \"change:visual_style\": () => {\n      viewerInstance.visual.update(getOptions(model), true);\n    },\n    // \"change:lighting\": () => {\n    //   viewerInstance.visual.update(getOptions(model), true);\n    // },\n    \"change:bg_color\": () => {\n      viewerInstance.canvas.setBgColor(toRgb(model.get(\"bg_color\")));\n    },\n    \"change:_reset\": () => {\n      const resetValue = model.get(\"_reset\");\n      if (resetValue !== null) {\n        viewerInstance.visual.reset(resetValue);\n      }\n    },\n    \"change:_clear_tooltips\": () => {\n      viewerInstance.visual.clearTooltips();\n    }\n  };\n\n  let combinedCallbacks = Object.assign(\n    {},\n    callbacksLoadComplete,\n    otherCallbacks\n  );\n\n  viewerInstance.events.loadComplete.subscribe(() => {\n    // trigger callabacks which need to be called after loading\n    Object.values(callbacksLoadComplete).forEach((callback) => callback());\n  });\n\n  // subscribe to events and collect unsubscribe funcs\n  let unsubscribes = Object.entries(combinedCallbacks).map(([name, callback]) =>\n    subscribe(model, name, callback)\n  );\n\n  document.addEventListener(\"PDB.molstar.mouseover\", (e) => {\n    const eventData = e.eventData;\n    model.set(\"mouseover_event\", eventData);\n    model.save_changes();\n  });\n\n  return () => {\n    unsubscribes.forEach((unsubscribe) => unsubscribe());\n  };\n}\n\nexport default { render };\n",
       "_focus": null,
       "_highlight": null,
       "_model_module": "anywidget",
       "_model_module_version": "~0.9.*",
       "_model_name": "AnyModel",
       "_reset": null,
       "_set_color": null,
       "_update": null,
       "_view_module": "anywidget",
       "_view_module_version": "~0.9.*",
       "_view_name": "AnyView",
       "alphafold_view": false,
       "assembly_id": "",
       "bg_color": "#F7F7F7",
       "color_data": null,
       "custom_data": {
        "binary": false,
        "format": "cif",
        "url": "blob:http://localhost:8999/febfd1fb-88c5-4aad-8780-7aa085db8997"
       },
       "default_preset": "default",
       "domain_annotation": false,
       "encoding": "bcif",
       "expanded": false,
       "granularity": "residue",
       "height": "500px",
       "hide_animation_icon": false,
       "hide_carbs": false,
       "hide_coarse": false,
       "hide_controls": false,
       "hide_controls_icon": false,
       "hide_expand_icon": false,
       "hide_heteroatoms": false,
       "hide_non_standard": false,
       "hide_polymer": false,
       "hide_selection_icon": false,
       "hide_settings_icon": false,
       "hide_water": false,
       "highlight_color": "#FF6699",
       "landscape": false,
       "layout": "IPY_MODEL_3b63a25340644cc897cf90655f3ef04e",
       "ligand_view": null,
       "lighting": null,
       "load_maps": false,
       "loading_overlay": false,
       "low_precision_coords": false,
       "map_settings": null,
       "molecule_id": "",
       "mouseover_event": {
        "alt_id": "",
        "atom_id": [
         "C3"
        ],
        "auth_asym_id": "A",
        "auth_seq_id": 1901,
        "comp_id": "FM9",
        "entity_id": "2",
        "entry_id": "4OR2",
        "ins_code": "",
        "instance": "1_555",
        "label_asym_id": "C",
        "micro_het_comp_ids": [
         "FM9"
        ],
        "model": 0,
        "residueNumber": 0,
        "seq_id": 0
       },
       "pdbe_link": true,
       "pdbe_url": "https://www.ebi.ac.uk/pdbe/",
       "reactive": false,
       "select_color": "#33FF19",
       "select_interaction": true,
       "sequence_panel": true,
       "spin": false,
       "subscribe_events": false,
       "superposition": false,
       "superposition_params": null,
       "symmetry_annotation": false,
       "tooltips": null,
       "validation_annotation": false,
       "visual_style": null
      }
     },
     "e060d9f29c59490ba2dcb39cf4580fca": {
      "model_module": "@jupyter-widgets/base",
      "model_module_version": "2.0.0",
      "model_name": "LayoutModel",
      "state": {}
     },
     "e6c657dc7591416ebc92923b9327b87e": {
      "model_module": "@jupyter-widgets/controls",
      "model_module_version": "2.0.0",
      "model_name": "HTMLStyleModel",
      "state": {
       "description_width": "",
       "font_size": null,
       "text_color": null
      }
     },
     "f29b658955d446cdafc7b342452079e9": {
      "model_module": "@jupyter-widgets/controls",
      "model_module_version": "2.0.0",
      "model_name": "HBoxModel",
      "state": {
       "children": [
        "IPY_MODEL_c90bca45b97742118248946f31de750b",
        "IPY_MODEL_ac462688c72c4ee193f160448c6fc6bd",
        "IPY_MODEL_8fdac7c0ca5b45d2adae8308ac715774"
       ],
       "layout": "IPY_MODEL_93851c3e0f2c44ebb7b908743bf165ab"
      }
     },
     "f8876089bd0746df90b91ca479da7655": {
      "model_module": "@jupyter-widgets/base",
      "model_module_version": "2.0.0",
      "model_name": "LayoutModel",
      "state": {}
     }
    },
    "version_major": 2,
    "version_minor": 0
   }
  }
 },
 "nbformat": 4,
 "nbformat_minor": 5
}
