{
 "cells": [
  {
   "cell_type": "markdown",
   "id": "9000d9ec-bfbe-4808-ab52-4af6ac6d95bb",
   "metadata": {},
   "source": [
    "# Requisites"
   ]
  },
  {
   "cell_type": "markdown",
   "id": "a344b37e-5141-446f-9bbc-afb499f6f53f",
   "metadata": {},
   "source": [
    "- Environment with dependencies in `conda_env.yaml`\n",
    "- External dependencies to be downloaded and place in `training_data/utils/external`:\n",
    "    - predict_ddG.py script from PyRosetta (https://github.com/RosettaCommons/PyRosetta.notebooks/blob/master/notebooks/additional_scripts/predict_ddG.py)\n",
    "    - DSPP software executable (https://github.com/PDB-REDO/dssp/releases/download/v4.4.0/mkdssp-4.4.0-linux-x64)"
   ]
  },
  {
   "cell_type": "code",
   "execution_count": 1,
   "id": "5bc0a2d0-c1cf-4bc7-9398-f39c77d50388",
   "metadata": {
    "scrolled": true
   },
   "outputs": [
    {
     "data": {
      "application/vnd.jupyter.widget-view+json": {
       "model_id": "9a455cec4a354ad5b58fbe97a9ce3379",
       "version_major": 2,
       "version_minor": 0
      },
      "text/plain": []
     },
     "metadata": {},
     "output_type": "display_data"
    },
    {
     "name": "stdout",
     "output_type": "stream",
     "text": [
      "┌──────────────────────────────────────────────────────────────────────────────┐\n",
      "│                                 PyRosetta-4                                  │\n",
      "│              Created in JHU by Sergey Lyskov and PyRosetta Team              │\n",
      "│              (C) Copyright Rosetta Commons Member Institutions               │\n",
      "│                                                                              │\n",
      "│ NOTE: USE OF PyRosetta FOR COMMERCIAL PURPOSES REQUIRE PURCHASE OF A LICENSE │\n",
      "│         See LICENSE.PyRosetta.md or email license@uw.edu for details         │\n",
      "└──────────────────────────────────────────────────────────────────────────────┘\n",
      "PyRosetta-4 2025 [Rosetta PyRosetta4.conda.ubuntu.cxx11thread.serialization.Ubuntu.python311.Release 2025.19+release.1354d05daa4c339d591afeecef3c94ca2d38680e 2025-05-07T12:36:04] retrieved from: http://www.pyrosetta.org\n",
      "core.init: Checking for fconfig files in pwd and ./rosetta/flags\n",
      "core.init: Rosetta version: PyRosetta4.conda.ubuntu.cxx11thread.serialization.Ubuntu.python311.Release r400 2025.19+release.1354d05daa 1354d05daa4c339d591afeecef3c94ca2d38680e http://www.pyrosetta.org 2025-05-07T12:36:04\n",
      "core.init: Rosetta extras: [cxx11thread, serialization]\n",
      "core.init: command: PyRosetta -mute core.pack basic core.scoring -ignore_zero_occupancy false -database /home/fnerin/miniconda3/envs/allopockets_test/lib/python3.11/site-packages/pyrosetta/database\n"
     ]
    }
   ],
   "source": [
    "from predict import get_cif, view_pdb, get_colabfold_msa, predict, view_pockets, Site"
   ]
  },
  {
   "cell_type": "markdown",
   "id": "9b487e0f-794c-4084-92d1-703f8653d695",
   "metadata": {},
   "source": [
    "<br>\n",
    "\n",
    "**Files are written by default to the `predict` folder, customize it with using a different `path=` argument in the functions below.**\n",
    "\n",
    "<br>"
   ]
  },
  {
   "cell_type": "markdown",
   "id": "ada43311-ffd0-4566-b1b3-622d41e97c7b",
   "metadata": {},
   "source": [
    "# Predict"
   ]
  },
  {
   "cell_type": "markdown",
   "id": "35053be0-8ea9-418f-b22d-fe3d645207c9",
   "metadata": {},
   "source": [
    "## Protein structure"
   ]
  },
  {
   "cell_type": "code",
   "execution_count": 3,
   "id": "b3d74c41-608a-465d-b14c-50c44f9f3eef",
   "metadata": {},
   "outputs": [],
   "source": [
    "pdb_id = \"6t4k\""
   ]
  },
  {
   "cell_type": "code",
   "execution_count": 4,
   "id": "d8d35ff8-ecda-4dde-ae7a-b94184168de8",
   "metadata": {},
   "outputs": [
    {
     "data": {
      "application/vnd.jupyter.widget-view+json": {
       "model_id": "e675e608182c4ce6a82da24968fc981a",
       "version_major": 2,
       "version_minor": 1
      },
      "text/plain": [
       "PDBeMolstar(bg_color='#F7F7F7', custom_data={'data': \"data_6T4K\\n#\\n_entry.id 6T4K\\n#\\n_citation.abstract ?\\n_…"
      ]
     },
     "execution_count": 4,
     "metadata": {},
     "output_type": "execute_result"
    }
   ],
   "source": [
    "pdb = get_cif(\n",
    "    pdb_id\n",
    ")\n",
    "\n",
    "view_pdb(pdb)"
   ]
  },
  {
   "cell_type": "markdown",
   "id": "09f850d9-94a9-4c30-9e38-862b7cf6b628",
   "metadata": {},
   "source": [
    "## Predict"
   ]
  },
  {
   "cell_type": "markdown",
   "id": "1a05f1bc-832f-4b67-ab1c-3977e7b5a5f3",
   "metadata": {},
   "source": [
    "### ColabFold MSA\n",
    "\n",
    "For single predictions, HHBlits' resource-intensive calculations can be substituted by an HHM built from a Multiple Sequence Alignment computed through ColabFold. Please provide your email to the server's call below, respect [ColabFold's MSA server usage limits](https://github.com/sokrypton/ColabFold#:~:text=Is%20it%20okay%20to%20use%20the%20MMseqs2%20MSA%20server%20(cf.run_mmseqs2)%20on%20a%20local%20computer%3F) and [acknowledge the tool](https://github.com/sokrypton/ColabFold#how-do-i-reference-this-work) appropriately. Consider switching to the [local setup of HHBlits](https://github.com/frannerin/AlloPockets#hhblits-for-multiple-predictions) to perform multiple computations."
   ]
  },
  {
   "cell_type": "code",
   "execution_count": 5,
   "id": "0abbb721-b7d8-47f3-89c4-4eed6ec1c3ce",
   "metadata": {},
   "outputs": [
    {
     "name": "stderr",
     "output_type": "stream",
     "text": [
      "COMPLETE: 100%|██████████████████████████████████████████████████████████████| 150/150 [elapsed: 00:02 remaining: 00:00]\n"
     ]
    }
   ],
   "source": [
    "get_colabfold_msa(\n",
    "    pdb_id,\n",
    "    \"nerinfonzf98@univie.ac.at\"\n",
    ")"
   ]
  },
  {
   "cell_type": "markdown",
   "id": "59ec9e13-bf57-41b3-b88e-9ea8b325ecbe",
   "metadata": {},
   "source": [
    "### Predict"
   ]
  },
  {
   "cell_type": "code",
   "execution_count": 6,
   "id": "90f42dfb-4887-4c48-8035-a0432fc301dc",
   "metadata": {
    "scrolled": true
   },
   "outputs": [
    {
     "data": {
      "application/vnd.jupyter.widget-view+json": {
       "model_id": "2ab169f401fe4fb3822bb9f0159bfb84",
       "version_major": 2,
       "version_minor": 0
      },
      "text/plain": [
       "  0%|          | 0/9 [00:00<?, ?it/s]"
      ]
     },
     "metadata": {},
     "output_type": "display_data"
    }
   ],
   "source": [
    "predictions = predict(\n",
    "    pdb_id,\n",
    "    protein_chains=[\"A\"],\n",
    ")"
   ]
  },
  {
   "cell_type": "code",
   "execution_count": 7,
   "id": "6a9c305f-12a7-4f42-9559-2387cd4ade97",
   "metadata": {},
   "outputs": [
    {
     "data": {
      "text/html": [
       "<div>\n",
       "<style scoped>\n",
       "    .dataframe tbody tr th:only-of-type {\n",
       "        vertical-align: middle;\n",
       "    }\n",
       "\n",
       "    .dataframe tbody tr th {\n",
       "        vertical-align: top;\n",
       "    }\n",
       "\n",
       "    .dataframe thead th {\n",
       "        text-align: right;\n",
       "    }\n",
       "</style>\n",
       "<table border=\"1\" class=\"dataframe\">\n",
       "  <thead>\n",
       "    <tr style=\"text-align: right;\">\n",
       "      <th></th>\n",
       "      <th>Allosteric score</th>\n",
       "    </tr>\n",
       "  </thead>\n",
       "  <tbody>\n",
       "    <tr>\n",
       "      <th>pocket2</th>\n",
       "      <td>0.849179</td>\n",
       "    </tr>\n",
       "    <tr>\n",
       "      <th>pocket1</th>\n",
       "      <td>0.600612</td>\n",
       "    </tr>\n",
       "    <tr>\n",
       "      <th>pocket5</th>\n",
       "      <td>0.002796</td>\n",
       "    </tr>\n",
       "    <tr>\n",
       "      <th>pocket7</th>\n",
       "      <td>0.000514</td>\n",
       "    </tr>\n",
       "    <tr>\n",
       "      <th>pocket9</th>\n",
       "      <td>0.000359</td>\n",
       "    </tr>\n",
       "    <tr>\n",
       "      <th>pocket4</th>\n",
       "      <td>0.000327</td>\n",
       "    </tr>\n",
       "    <tr>\n",
       "      <th>pocket3</th>\n",
       "      <td>0.000321</td>\n",
       "    </tr>\n",
       "    <tr>\n",
       "      <th>pocket6</th>\n",
       "      <td>0.000169</td>\n",
       "    </tr>\n",
       "    <tr>\n",
       "      <th>pocket10</th>\n",
       "      <td>0.000143</td>\n",
       "    </tr>\n",
       "    <tr>\n",
       "      <th>pocket8</th>\n",
       "      <td>0.000134</td>\n",
       "    </tr>\n",
       "  </tbody>\n",
       "</table>\n",
       "</div>"
      ],
      "text/plain": [
       "          Allosteric score\n",
       "pocket2           0.849179\n",
       "pocket1           0.600612\n",
       "pocket5           0.002796\n",
       "pocket7           0.000514\n",
       "pocket9           0.000359\n",
       "pocket4           0.000327\n",
       "pocket3           0.000321\n",
       "pocket6           0.000169\n",
       "pocket10          0.000143\n",
       "pocket8           0.000134"
      ]
     },
     "execution_count": 7,
     "metadata": {},
     "output_type": "execute_result"
    }
   ],
   "source": [
    "predictions"
   ]
  },
  {
   "cell_type": "markdown",
   "id": "a1724764-d98c-4774-a72b-141fbdfc039e",
   "metadata": {},
   "source": [
    "## View"
   ]
  },
  {
   "cell_type": "code",
   "execution_count": 9,
   "id": "329ce0c9-b4f3-4f4f-a74d-725dc781a3b5",
   "metadata": {},
   "outputs": [
    {
     "data": {
      "application/vnd.jupyter.widget-view+json": {
       "model_id": "696c6e0bafdd4a22b69ca4b955a11cf0",
       "version_major": 2,
       "version_minor": 1
      },
      "text/plain": [
       "PDBeMolstar(bg_color='#F7F7F7', color_data={'data': [{'struct_asym_id': 'A', 'representation': 'cartoon', 'rep…"
      ]
     },
     "execution_count": 9,
     "metadata": {},
     "output_type": "execute_result"
    }
   ],
   "source": [
    "view_pockets(\n",
    "    pdb_id,\n",
    "    pockets={\"pocket2\": {\"color\": \"green\"}, \"pocket1\": {\"color\": \"blue\"}}, # {\"pocketn\": {\"color\": \"\"}}\n",
    "    protein_chains=[\"A\"]\n",
    ")"
   ]
  },
  {
   "cell_type": "markdown",
   "id": "7f9b4a51-31d2-44e8-aa77-349fb003cb2a",
   "metadata": {},
   "source": [
    "### Optional: view a target site"
   ]
  },
  {
   "cell_type": "markdown",
   "id": "1c44e350-18b4-4e0b-8234-b173c43db3c0",
   "metadata": {},
   "source": [
    "Set an object of the `Site` class passing a modulator molecule (and defining the site around it) or a list of residues. Then visualize it in the structure to assess overlap with predicted pockets (residues of the site will be colored green in the protein cartoon visualization).\n",
    "\n",
    "<br>"
   ]
  },
  {
   "cell_type": "markdown",
   "id": "2ea9f5d0-568e-4f6e-b429-5e01acefedbb",
   "metadata": {},
   "source": [
    "#### With a modulator molecule"
   ]
  },
  {
   "cell_type": "code",
   "execution_count": 10,
   "id": "c107ddda-fb8e-45ab-a63f-0b236d9e1f2b",
   "metadata": {},
   "outputs": [
    {
     "data": {
      "text/html": [
       "<div>\n",
       "<style scoped>\n",
       "    .dataframe tbody tr th:only-of-type {\n",
       "        vertical-align: middle;\n",
       "    }\n",
       "\n",
       "    .dataframe tbody tr th {\n",
       "        vertical-align: top;\n",
       "    }\n",
       "\n",
       "    .dataframe thead th {\n",
       "        text-align: right;\n",
       "    }\n",
       "</style>\n",
       "<table border=\"1\" class=\"dataframe\">\n",
       "  <thead>\n",
       "    <tr style=\"text-align: right;\">\n",
       "      <th></th>\n",
       "      <th>label_comp_id</th>\n",
       "      <th>label_asym_id</th>\n",
       "      <th>label_entity_id</th>\n",
       "      <th>label_seq_id</th>\n",
       "      <th>pdbx_PDB_ins_code</th>\n",
       "      <th>auth_seq_id</th>\n",
       "      <th>auth_comp_id</th>\n",
       "      <th>auth_asym_id</th>\n",
       "      <th>pdbx_PDB_model_num</th>\n",
       "      <th>pdbx_label_index</th>\n",
       "      <th>pdbx_sifts_xref_db_name</th>\n",
       "      <th>pdbx_sifts_xref_db_acc</th>\n",
       "      <th>pdbx_sifts_xref_db_num</th>\n",
       "      <th>pdbx_sifts_xref_db_res</th>\n",
       "    </tr>\n",
       "  </thead>\n",
       "  <tbody>\n",
       "    <tr>\n",
       "      <th>2061</th>\n",
       "      <td>4F1</td>\n",
       "      <td>C</td>\n",
       "      <td>3</td>\n",
       "      <td>.</td>\n",
       "      <td>?</td>\n",
       "      <td>602</td>\n",
       "      <td>4F1</td>\n",
       "      <td>A</td>\n",
       "      <td>1</td>\n",
       "      <td>602</td>\n",
       "      <td>?</td>\n",
       "      <td>?</td>\n",
       "      <td>?</td>\n",
       "      <td>?</td>\n",
       "    </tr>\n",
       "  </tbody>\n",
       "</table>\n",
       "</div>"
      ],
      "text/plain": [
       "     label_comp_id label_asym_id label_entity_id label_seq_id  \\\n",
       "2061           4F1             C               3            .   \n",
       "\n",
       "     pdbx_PDB_ins_code auth_seq_id auth_comp_id auth_asym_id  \\\n",
       "2061                 ?         602          4F1            A   \n",
       "\n",
       "     pdbx_PDB_model_num pdbx_label_index pdbx_sifts_xref_db_name  \\\n",
       "2061                  1              602                       ?   \n",
       "\n",
       "     pdbx_sifts_xref_db_acc pdbx_sifts_xref_db_num pdbx_sifts_xref_db_res  \n",
       "2061                      ?                      ?                      ?  "
      ]
     },
     "execution_count": 10,
     "metadata": {},
     "output_type": "execute_result"
    }
   ],
   "source": [
    "# Desired modulator is label_asym_id 'C'\n",
    "pdb.residues.query(\"label_asym_id == 'C'\")"
   ]
  },
  {
   "cell_type": "code",
   "execution_count": 11,
   "id": "c9bc74fa-2eb5-4641-b8c7-e074c4adab2a",
   "metadata": {
    "scrolled": true
   },
   "outputs": [
    {
     "data": {
      "text/plain": [
       "<predict.Site at 0x75c3c0735e90>"
      ]
     },
     "execution_count": 11,
     "metadata": {},
     "output_type": "execute_result"
    }
   ],
   "source": [
    "site = Site(\n",
    "    pdb, \n",
    "    modulator_residues=pdb.residues.query(\"label_asym_id == 'C'\")\n",
    ")\n",
    "site"
   ]
  },
  {
   "cell_type": "code",
   "execution_count": 12,
   "id": "0979ab61-ff7f-4435-9b99-ad8f4d6565de",
   "metadata": {},
   "outputs": [
    {
     "data": {
      "application/vnd.jupyter.widget-view+json": {
       "model_id": "c6dd164213b44cb88cab7cfec9f6c406",
       "version_major": 2,
       "version_minor": 1
      },
      "text/plain": [
       "PDBeMolstar(bg_color='#F7F7F7', color_data={'data': [{'struct_asym_id': 'A', 'representation': 'cartoon', 'rep…"
      ]
     },
     "execution_count": 12,
     "metadata": {},
     "output_type": "execute_result"
    }
   ],
   "source": [
    "view_pockets(\n",
    "    pdb_id,\n",
    "    pockets={\"pocket2\": {\"color\": \"green\"}, \"pocket1\": {\"color\": \"blue\"}}, # {\"pocketn\": {\"color\": \"\"}}\n",
    "    protein_chains=[\"A\"],\n",
    "    site_residues=site.residues,\n",
    "    modulator_residues=site.modulator_residues,\n",
    ")"
   ]
  },
  {
   "cell_type": "markdown",
   "id": "6da3c6bb-fb61-42ba-89de-2fe0309be5bc",
   "metadata": {},
   "source": [
    "#### With a list of residues"
   ]
  },
  {
   "cell_type": "code",
   "execution_count": 13,
   "id": "d33ab701-576e-413e-8c1e-56e02adcb5f2",
   "metadata": {
    "scrolled": true
   },
   "outputs": [
    {
     "data": {
      "text/plain": [
       "['73',\n",
       " '77',\n",
       " '78',\n",
       " '80',\n",
       " '81',\n",
       " '84',\n",
       " '85',\n",
       " '88',\n",
       " '109',\n",
       " '110',\n",
       " '111',\n",
       " '112',\n",
       " '113',\n",
       " '114',\n",
       " '232',\n",
       " '235',\n",
       " '236',\n",
       " '238',\n",
       " '239',\n",
       " '240',\n",
       " '241',\n",
       " '243',\n",
       " '248',\n",
       " '250',\n",
       " '251',\n",
       " '252',\n",
       " '253',\n",
       " '254',\n",
       " '255',\n",
       " '257',\n",
       " '258',\n",
       " '261',\n",
       " '262']"
      ]
     },
     "execution_count": 13,
     "metadata": {},
     "output_type": "execute_result"
    }
   ],
   "source": [
    "# List of residue numbers of site\n",
    "resnums = site.residues.label_seq_id.to_list()\n",
    "resnums"
   ]
  },
  {
   "cell_type": "code",
   "execution_count": 14,
   "id": "dc73f75c-1de8-426b-8fc2-4f6a9572df75",
   "metadata": {
    "scrolled": true
   },
   "outputs": [
    {
     "data": {
      "text/html": [
       "<div>\n",
       "<style scoped>\n",
       "    .dataframe tbody tr th:only-of-type {\n",
       "        vertical-align: middle;\n",
       "    }\n",
       "\n",
       "    .dataframe tbody tr th {\n",
       "        vertical-align: top;\n",
       "    }\n",
       "\n",
       "    .dataframe thead th {\n",
       "        text-align: right;\n",
       "    }\n",
       "</style>\n",
       "<table border=\"1\" class=\"dataframe\">\n",
       "  <thead>\n",
       "    <tr style=\"text-align: right;\">\n",
       "      <th></th>\n",
       "      <th>label_comp_id</th>\n",
       "      <th>label_asym_id</th>\n",
       "      <th>label_entity_id</th>\n",
       "      <th>label_seq_id</th>\n",
       "      <th>pdbx_PDB_ins_code</th>\n",
       "      <th>auth_seq_id</th>\n",
       "      <th>auth_comp_id</th>\n",
       "      <th>auth_asym_id</th>\n",
       "      <th>pdbx_PDB_model_num</th>\n",
       "      <th>pdbx_label_index</th>\n",
       "      <th>pdbx_sifts_xref_db_name</th>\n",
       "      <th>pdbx_sifts_xref_db_acc</th>\n",
       "      <th>pdbx_sifts_xref_db_num</th>\n",
       "      <th>pdbx_sifts_xref_db_res</th>\n",
       "    </tr>\n",
       "  </thead>\n",
       "  <tbody>\n",
       "    <tr>\n",
       "      <th>0</th>\n",
       "      <td>TRP</td>\n",
       "      <td>A</td>\n",
       "      <td>1</td>\n",
       "      <td>73</td>\n",
       "      <td>?</td>\n",
       "      <td>317</td>\n",
       "      <td>TRP</td>\n",
       "      <td>A</td>\n",
       "      <td>1</td>\n",
       "      <td>73</td>\n",
       "      <td>UNP</td>\n",
       "      <td>P51449</td>\n",
       "      <td>317</td>\n",
       "      <td>W</td>\n",
       "    </tr>\n",
       "    <tr>\n",
       "      <th>1</th>\n",
       "      <td>ALA</td>\n",
       "      <td>A</td>\n",
       "      <td>1</td>\n",
       "      <td>77</td>\n",
       "      <td>?</td>\n",
       "      <td>321</td>\n",
       "      <td>ALA</td>\n",
       "      <td>A</td>\n",
       "      <td>1</td>\n",
       "      <td>77</td>\n",
       "      <td>UNP</td>\n",
       "      <td>P51449</td>\n",
       "      <td>321</td>\n",
       "      <td>A</td>\n",
       "    </tr>\n",
       "    <tr>\n",
       "      <th>2</th>\n",
       "      <td>HIS</td>\n",
       "      <td>A</td>\n",
       "      <td>1</td>\n",
       "      <td>78</td>\n",
       "      <td>?</td>\n",
       "      <td>322</td>\n",
       "      <td>HIS</td>\n",
       "      <td>A</td>\n",
       "      <td>1</td>\n",
       "      <td>78</td>\n",
       "      <td>UNP</td>\n",
       "      <td>P51449</td>\n",
       "      <td>322</td>\n",
       "      <td>H</td>\n",
       "    </tr>\n",
       "    <tr>\n",
       "      <th>3</th>\n",
       "      <td>LEU</td>\n",
       "      <td>A</td>\n",
       "      <td>1</td>\n",
       "      <td>80</td>\n",
       "      <td>?</td>\n",
       "      <td>324</td>\n",
       "      <td>LEU</td>\n",
       "      <td>A</td>\n",
       "      <td>1</td>\n",
       "      <td>80</td>\n",
       "      <td>UNP</td>\n",
       "      <td>P51449</td>\n",
       "      <td>324</td>\n",
       "      <td>L</td>\n",
       "    </tr>\n",
       "    <tr>\n",
       "      <th>4</th>\n",
       "      <td>THR</td>\n",
       "      <td>A</td>\n",
       "      <td>1</td>\n",
       "      <td>81</td>\n",
       "      <td>?</td>\n",
       "      <td>325</td>\n",
       "      <td>THR</td>\n",
       "      <td>A</td>\n",
       "      <td>1</td>\n",
       "      <td>81</td>\n",
       "      <td>UNP</td>\n",
       "      <td>P51449</td>\n",
       "      <td>325</td>\n",
       "      <td>T</td>\n",
       "    </tr>\n",
       "    <tr>\n",
       "      <th>5</th>\n",
       "      <td>ILE</td>\n",
       "      <td>A</td>\n",
       "      <td>1</td>\n",
       "      <td>84</td>\n",
       "      <td>?</td>\n",
       "      <td>328</td>\n",
       "      <td>ILE</td>\n",
       "      <td>A</td>\n",
       "      <td>1</td>\n",
       "      <td>84</td>\n",
       "      <td>UNP</td>\n",
       "      <td>P51449</td>\n",
       "      <td>328</td>\n",
       "      <td>I</td>\n",
       "    </tr>\n",
       "    <tr>\n",
       "      <th>6</th>\n",
       "      <td>GLN</td>\n",
       "      <td>A</td>\n",
       "      <td>1</td>\n",
       "      <td>85</td>\n",
       "      <td>?</td>\n",
       "      <td>329</td>\n",
       "      <td>GLN</td>\n",
       "      <td>A</td>\n",
       "      <td>1</td>\n",
       "      <td>85</td>\n",
       "      <td>UNP</td>\n",
       "      <td>P51449</td>\n",
       "      <td>329</td>\n",
       "      <td>Q</td>\n",
       "    </tr>\n",
       "    <tr>\n",
       "      <th>7</th>\n",
       "      <td>VAL</td>\n",
       "      <td>A</td>\n",
       "      <td>1</td>\n",
       "      <td>88</td>\n",
       "      <td>?</td>\n",
       "      <td>332</td>\n",
       "      <td>VAL</td>\n",
       "      <td>A</td>\n",
       "      <td>1</td>\n",
       "      <td>88</td>\n",
       "      <td>UNP</td>\n",
       "      <td>P51449</td>\n",
       "      <td>332</td>\n",
       "      <td>V</td>\n",
       "    </tr>\n",
       "    <tr>\n",
       "      <th>8</th>\n",
       "      <td>LEU</td>\n",
       "      <td>A</td>\n",
       "      <td>1</td>\n",
       "      <td>109</td>\n",
       "      <td>?</td>\n",
       "      <td>353</td>\n",
       "      <td>LEU</td>\n",
       "      <td>A</td>\n",
       "      <td>1</td>\n",
       "      <td>109</td>\n",
       "      <td>UNP</td>\n",
       "      <td>P51449</td>\n",
       "      <td>353</td>\n",
       "      <td>L</td>\n",
       "    </tr>\n",
       "    <tr>\n",
       "      <th>9</th>\n",
       "      <td>LYS</td>\n",
       "      <td>A</td>\n",
       "      <td>1</td>\n",
       "      <td>110</td>\n",
       "      <td>?</td>\n",
       "      <td>354</td>\n",
       "      <td>LYS</td>\n",
       "      <td>A</td>\n",
       "      <td>1</td>\n",
       "      <td>110</td>\n",
       "      <td>UNP</td>\n",
       "      <td>P51449</td>\n",
       "      <td>354</td>\n",
       "      <td>K</td>\n",
       "    </tr>\n",
       "    <tr>\n",
       "      <th>10</th>\n",
       "      <td>ALA</td>\n",
       "      <td>A</td>\n",
       "      <td>1</td>\n",
       "      <td>111</td>\n",
       "      <td>?</td>\n",
       "      <td>355</td>\n",
       "      <td>ALA</td>\n",
       "      <td>A</td>\n",
       "      <td>1</td>\n",
       "      <td>111</td>\n",
       "      <td>UNP</td>\n",
       "      <td>P51449</td>\n",
       "      <td>355</td>\n",
       "      <td>A</td>\n",
       "    </tr>\n",
       "    <tr>\n",
       "      <th>11</th>\n",
       "      <td>GLY</td>\n",
       "      <td>A</td>\n",
       "      <td>1</td>\n",
       "      <td>112</td>\n",
       "      <td>?</td>\n",
       "      <td>356</td>\n",
       "      <td>GLY</td>\n",
       "      <td>A</td>\n",
       "      <td>1</td>\n",
       "      <td>112</td>\n",
       "      <td>UNP</td>\n",
       "      <td>P51449</td>\n",
       "      <td>356</td>\n",
       "      <td>G</td>\n",
       "    </tr>\n",
       "    <tr>\n",
       "      <th>12</th>\n",
       "      <td>ALA</td>\n",
       "      <td>A</td>\n",
       "      <td>1</td>\n",
       "      <td>113</td>\n",
       "      <td>?</td>\n",
       "      <td>357</td>\n",
       "      <td>ALA</td>\n",
       "      <td>A</td>\n",
       "      <td>1</td>\n",
       "      <td>113</td>\n",
       "      <td>UNP</td>\n",
       "      <td>P51449</td>\n",
       "      <td>357</td>\n",
       "      <td>A</td>\n",
       "    </tr>\n",
       "    <tr>\n",
       "      <th>13</th>\n",
       "      <td>MET</td>\n",
       "      <td>A</td>\n",
       "      <td>1</td>\n",
       "      <td>114</td>\n",
       "      <td>?</td>\n",
       "      <td>358</td>\n",
       "      <td>MET</td>\n",
       "      <td>A</td>\n",
       "      <td>1</td>\n",
       "      <td>114</td>\n",
       "      <td>UNP</td>\n",
       "      <td>P51449</td>\n",
       "      <td>358</td>\n",
       "      <td>M</td>\n",
       "    </tr>\n",
       "    <tr>\n",
       "      <th>14</th>\n",
       "      <td>CYS</td>\n",
       "      <td>A</td>\n",
       "      <td>1</td>\n",
       "      <td>232</td>\n",
       "      <td>?</td>\n",
       "      <td>476</td>\n",
       "      <td>CYS</td>\n",
       "      <td>A</td>\n",
       "      <td>1</td>\n",
       "      <td>232</td>\n",
       "      <td>UNP</td>\n",
       "      <td>P51449</td>\n",
       "      <td>476</td>\n",
       "      <td>C</td>\n",
       "    </tr>\n",
       "    <tr>\n",
       "      <th>15</th>\n",
       "      <td>HIS</td>\n",
       "      <td>A</td>\n",
       "      <td>1</td>\n",
       "      <td>235</td>\n",
       "      <td>?</td>\n",
       "      <td>479</td>\n",
       "      <td>HIS</td>\n",
       "      <td>A</td>\n",
       "      <td>1</td>\n",
       "      <td>235</td>\n",
       "      <td>UNP</td>\n",
       "      <td>P51449</td>\n",
       "      <td>479</td>\n",
       "      <td>H</td>\n",
       "    </tr>\n",
       "    <tr>\n",
       "      <th>16</th>\n",
       "      <td>VAL</td>\n",
       "      <td>A</td>\n",
       "      <td>1</td>\n",
       "      <td>236</td>\n",
       "      <td>?</td>\n",
       "      <td>480</td>\n",
       "      <td>VAL</td>\n",
       "      <td>A</td>\n",
       "      <td>1</td>\n",
       "      <td>236</td>\n",
       "      <td>UNP</td>\n",
       "      <td>P51449</td>\n",
       "      <td>480</td>\n",
       "      <td>V</td>\n",
       "    </tr>\n",
       "    <tr>\n",
       "      <th>17</th>\n",
       "      <td>ARG</td>\n",
       "      <td>A</td>\n",
       "      <td>1</td>\n",
       "      <td>238</td>\n",
       "      <td>?</td>\n",
       "      <td>482</td>\n",
       "      <td>ARG</td>\n",
       "      <td>A</td>\n",
       "      <td>1</td>\n",
       "      <td>238</td>\n",
       "      <td>UNP</td>\n",
       "      <td>P51449</td>\n",
       "      <td>482</td>\n",
       "      <td>R</td>\n",
       "    </tr>\n",
       "    <tr>\n",
       "      <th>18</th>\n",
       "      <td>LEU</td>\n",
       "      <td>A</td>\n",
       "      <td>1</td>\n",
       "      <td>239</td>\n",
       "      <td>?</td>\n",
       "      <td>483</td>\n",
       "      <td>LEU</td>\n",
       "      <td>A</td>\n",
       "      <td>1</td>\n",
       "      <td>239</td>\n",
       "      <td>UNP</td>\n",
       "      <td>P51449</td>\n",
       "      <td>483</td>\n",
       "      <td>L</td>\n",
       "    </tr>\n",
       "    <tr>\n",
       "      <th>19</th>\n",
       "      <td>GLN</td>\n",
       "      <td>A</td>\n",
       "      <td>1</td>\n",
       "      <td>240</td>\n",
       "      <td>?</td>\n",
       "      <td>484</td>\n",
       "      <td>GLN</td>\n",
       "      <td>A</td>\n",
       "      <td>1</td>\n",
       "      <td>240</td>\n",
       "      <td>UNP</td>\n",
       "      <td>P51449</td>\n",
       "      <td>484</td>\n",
       "      <td>Q</td>\n",
       "    </tr>\n",
       "    <tr>\n",
       "      <th>20</th>\n",
       "      <td>ILE</td>\n",
       "      <td>A</td>\n",
       "      <td>1</td>\n",
       "      <td>241</td>\n",
       "      <td>?</td>\n",
       "      <td>485</td>\n",
       "      <td>ILE</td>\n",
       "      <td>A</td>\n",
       "      <td>1</td>\n",
       "      <td>241</td>\n",
       "      <td>UNP</td>\n",
       "      <td>P51449</td>\n",
       "      <td>485</td>\n",
       "      <td>I</td>\n",
       "    </tr>\n",
       "    <tr>\n",
       "      <th>21</th>\n",
       "      <td>GLN</td>\n",
       "      <td>A</td>\n",
       "      <td>1</td>\n",
       "      <td>243</td>\n",
       "      <td>?</td>\n",
       "      <td>487</td>\n",
       "      <td>GLN</td>\n",
       "      <td>A</td>\n",
       "      <td>1</td>\n",
       "      <td>243</td>\n",
       "      <td>UNP</td>\n",
       "      <td>P51449</td>\n",
       "      <td>487</td>\n",
       "      <td>Q</td>\n",
       "    </tr>\n",
       "    <tr>\n",
       "      <th>22</th>\n",
       "      <td>ILE</td>\n",
       "      <td>A</td>\n",
       "      <td>1</td>\n",
       "      <td>248</td>\n",
       "      <td>?</td>\n",
       "      <td>492</td>\n",
       "      <td>ILE</td>\n",
       "      <td>A</td>\n",
       "      <td>1</td>\n",
       "      <td>248</td>\n",
       "      <td>UNP</td>\n",
       "      <td>P51449</td>\n",
       "      <td>492</td>\n",
       "      <td>I</td>\n",
       "    </tr>\n",
       "    <tr>\n",
       "      <th>23</th>\n",
       "      <td>VAL</td>\n",
       "      <td>A</td>\n",
       "      <td>1</td>\n",
       "      <td>250</td>\n",
       "      <td>?</td>\n",
       "      <td>494</td>\n",
       "      <td>VAL</td>\n",
       "      <td>A</td>\n",
       "      <td>1</td>\n",
       "      <td>250</td>\n",
       "      <td>UNP</td>\n",
       "      <td>P51449</td>\n",
       "      <td>494</td>\n",
       "      <td>V</td>\n",
       "    </tr>\n",
       "    <tr>\n",
       "      <th>24</th>\n",
       "      <td>GLN</td>\n",
       "      <td>A</td>\n",
       "      <td>1</td>\n",
       "      <td>251</td>\n",
       "      <td>?</td>\n",
       "      <td>495</td>\n",
       "      <td>GLN</td>\n",
       "      <td>A</td>\n",
       "      <td>1</td>\n",
       "      <td>251</td>\n",
       "      <td>UNP</td>\n",
       "      <td>P51449</td>\n",
       "      <td>495</td>\n",
       "      <td>Q</td>\n",
       "    </tr>\n",
       "    <tr>\n",
       "      <th>25</th>\n",
       "      <td>ALA</td>\n",
       "      <td>A</td>\n",
       "      <td>1</td>\n",
       "      <td>252</td>\n",
       "      <td>?</td>\n",
       "      <td>496</td>\n",
       "      <td>ALA</td>\n",
       "      <td>A</td>\n",
       "      <td>1</td>\n",
       "      <td>252</td>\n",
       "      <td>UNP</td>\n",
       "      <td>P51449</td>\n",
       "      <td>496</td>\n",
       "      <td>A</td>\n",
       "    </tr>\n",
       "    <tr>\n",
       "      <th>26</th>\n",
       "      <td>ALA</td>\n",
       "      <td>A</td>\n",
       "      <td>1</td>\n",
       "      <td>253</td>\n",
       "      <td>?</td>\n",
       "      <td>497</td>\n",
       "      <td>ALA</td>\n",
       "      <td>A</td>\n",
       "      <td>1</td>\n",
       "      <td>253</td>\n",
       "      <td>UNP</td>\n",
       "      <td>P51449</td>\n",
       "      <td>497</td>\n",
       "      <td>A</td>\n",
       "    </tr>\n",
       "    <tr>\n",
       "      <th>27</th>\n",
       "      <td>PHE</td>\n",
       "      <td>A</td>\n",
       "      <td>1</td>\n",
       "      <td>254</td>\n",
       "      <td>?</td>\n",
       "      <td>498</td>\n",
       "      <td>PHE</td>\n",
       "      <td>A</td>\n",
       "      <td>1</td>\n",
       "      <td>254</td>\n",
       "      <td>UNP</td>\n",
       "      <td>P51449</td>\n",
       "      <td>498</td>\n",
       "      <td>F</td>\n",
       "    </tr>\n",
       "    <tr>\n",
       "      <th>28</th>\n",
       "      <td>PRO</td>\n",
       "      <td>A</td>\n",
       "      <td>1</td>\n",
       "      <td>255</td>\n",
       "      <td>?</td>\n",
       "      <td>499</td>\n",
       "      <td>PRO</td>\n",
       "      <td>A</td>\n",
       "      <td>1</td>\n",
       "      <td>255</td>\n",
       "      <td>UNP</td>\n",
       "      <td>P51449</td>\n",
       "      <td>499</td>\n",
       "      <td>P</td>\n",
       "    </tr>\n",
       "    <tr>\n",
       "      <th>29</th>\n",
       "      <td>LEU</td>\n",
       "      <td>A</td>\n",
       "      <td>1</td>\n",
       "      <td>257</td>\n",
       "      <td>?</td>\n",
       "      <td>501</td>\n",
       "      <td>LEU</td>\n",
       "      <td>A</td>\n",
       "      <td>1</td>\n",
       "      <td>257</td>\n",
       "      <td>UNP</td>\n",
       "      <td>P51449</td>\n",
       "      <td>501</td>\n",
       "      <td>L</td>\n",
       "    </tr>\n",
       "    <tr>\n",
       "      <th>30</th>\n",
       "      <td>TYR</td>\n",
       "      <td>A</td>\n",
       "      <td>1</td>\n",
       "      <td>258</td>\n",
       "      <td>?</td>\n",
       "      <td>502</td>\n",
       "      <td>TYR</td>\n",
       "      <td>A</td>\n",
       "      <td>1</td>\n",
       "      <td>258</td>\n",
       "      <td>UNP</td>\n",
       "      <td>P51449</td>\n",
       "      <td>502</td>\n",
       "      <td>Y</td>\n",
       "    </tr>\n",
       "    <tr>\n",
       "      <th>31</th>\n",
       "      <td>LEU</td>\n",
       "      <td>A</td>\n",
       "      <td>1</td>\n",
       "      <td>261</td>\n",
       "      <td>?</td>\n",
       "      <td>505</td>\n",
       "      <td>LEU</td>\n",
       "      <td>A</td>\n",
       "      <td>1</td>\n",
       "      <td>261</td>\n",
       "      <td>UNP</td>\n",
       "      <td>P51449</td>\n",
       "      <td>505</td>\n",
       "      <td>L</td>\n",
       "    </tr>\n",
       "    <tr>\n",
       "      <th>32</th>\n",
       "      <td>PHE</td>\n",
       "      <td>A</td>\n",
       "      <td>1</td>\n",
       "      <td>262</td>\n",
       "      <td>?</td>\n",
       "      <td>506</td>\n",
       "      <td>PHE</td>\n",
       "      <td>A</td>\n",
       "      <td>1</td>\n",
       "      <td>262</td>\n",
       "      <td>UNP</td>\n",
       "      <td>P51449</td>\n",
       "      <td>506</td>\n",
       "      <td>F</td>\n",
       "    </tr>\n",
       "  </tbody>\n",
       "</table>\n",
       "</div>"
      ],
      "text/plain": [
       "   label_comp_id label_asym_id label_entity_id label_seq_id pdbx_PDB_ins_code  \\\n",
       "0            TRP             A               1           73                 ?   \n",
       "1            ALA             A               1           77                 ?   \n",
       "2            HIS             A               1           78                 ?   \n",
       "3            LEU             A               1           80                 ?   \n",
       "4            THR             A               1           81                 ?   \n",
       "5            ILE             A               1           84                 ?   \n",
       "6            GLN             A               1           85                 ?   \n",
       "7            VAL             A               1           88                 ?   \n",
       "8            LEU             A               1          109                 ?   \n",
       "9            LYS             A               1          110                 ?   \n",
       "10           ALA             A               1          111                 ?   \n",
       "11           GLY             A               1          112                 ?   \n",
       "12           ALA             A               1          113                 ?   \n",
       "13           MET             A               1          114                 ?   \n",
       "14           CYS             A               1          232                 ?   \n",
       "15           HIS             A               1          235                 ?   \n",
       "16           VAL             A               1          236                 ?   \n",
       "17           ARG             A               1          238                 ?   \n",
       "18           LEU             A               1          239                 ?   \n",
       "19           GLN             A               1          240                 ?   \n",
       "20           ILE             A               1          241                 ?   \n",
       "21           GLN             A               1          243                 ?   \n",
       "22           ILE             A               1          248                 ?   \n",
       "23           VAL             A               1          250                 ?   \n",
       "24           GLN             A               1          251                 ?   \n",
       "25           ALA             A               1          252                 ?   \n",
       "26           ALA             A               1          253                 ?   \n",
       "27           PHE             A               1          254                 ?   \n",
       "28           PRO             A               1          255                 ?   \n",
       "29           LEU             A               1          257                 ?   \n",
       "30           TYR             A               1          258                 ?   \n",
       "31           LEU             A               1          261                 ?   \n",
       "32           PHE             A               1          262                 ?   \n",
       "\n",
       "   auth_seq_id auth_comp_id auth_asym_id pdbx_PDB_model_num pdbx_label_index  \\\n",
       "0          317          TRP            A                  1               73   \n",
       "1          321          ALA            A                  1               77   \n",
       "2          322          HIS            A                  1               78   \n",
       "3          324          LEU            A                  1               80   \n",
       "4          325          THR            A                  1               81   \n",
       "5          328          ILE            A                  1               84   \n",
       "6          329          GLN            A                  1               85   \n",
       "7          332          VAL            A                  1               88   \n",
       "8          353          LEU            A                  1              109   \n",
       "9          354          LYS            A                  1              110   \n",
       "10         355          ALA            A                  1              111   \n",
       "11         356          GLY            A                  1              112   \n",
       "12         357          ALA            A                  1              113   \n",
       "13         358          MET            A                  1              114   \n",
       "14         476          CYS            A                  1              232   \n",
       "15         479          HIS            A                  1              235   \n",
       "16         480          VAL            A                  1              236   \n",
       "17         482          ARG            A                  1              238   \n",
       "18         483          LEU            A                  1              239   \n",
       "19         484          GLN            A                  1              240   \n",
       "20         485          ILE            A                  1              241   \n",
       "21         487          GLN            A                  1              243   \n",
       "22         492          ILE            A                  1              248   \n",
       "23         494          VAL            A                  1              250   \n",
       "24         495          GLN            A                  1              251   \n",
       "25         496          ALA            A                  1              252   \n",
       "26         497          ALA            A                  1              253   \n",
       "27         498          PHE            A                  1              254   \n",
       "28         499          PRO            A                  1              255   \n",
       "29         501          LEU            A                  1              257   \n",
       "30         502          TYR            A                  1              258   \n",
       "31         505          LEU            A                  1              261   \n",
       "32         506          PHE            A                  1              262   \n",
       "\n",
       "   pdbx_sifts_xref_db_name pdbx_sifts_xref_db_acc pdbx_sifts_xref_db_num  \\\n",
       "0                      UNP                 P51449                    317   \n",
       "1                      UNP                 P51449                    321   \n",
       "2                      UNP                 P51449                    322   \n",
       "3                      UNP                 P51449                    324   \n",
       "4                      UNP                 P51449                    325   \n",
       "5                      UNP                 P51449                    328   \n",
       "6                      UNP                 P51449                    329   \n",
       "7                      UNP                 P51449                    332   \n",
       "8                      UNP                 P51449                    353   \n",
       "9                      UNP                 P51449                    354   \n",
       "10                     UNP                 P51449                    355   \n",
       "11                     UNP                 P51449                    356   \n",
       "12                     UNP                 P51449                    357   \n",
       "13                     UNP                 P51449                    358   \n",
       "14                     UNP                 P51449                    476   \n",
       "15                     UNP                 P51449                    479   \n",
       "16                     UNP                 P51449                    480   \n",
       "17                     UNP                 P51449                    482   \n",
       "18                     UNP                 P51449                    483   \n",
       "19                     UNP                 P51449                    484   \n",
       "20                     UNP                 P51449                    485   \n",
       "21                     UNP                 P51449                    487   \n",
       "22                     UNP                 P51449                    492   \n",
       "23                     UNP                 P51449                    494   \n",
       "24                     UNP                 P51449                    495   \n",
       "25                     UNP                 P51449                    496   \n",
       "26                     UNP                 P51449                    497   \n",
       "27                     UNP                 P51449                    498   \n",
       "28                     UNP                 P51449                    499   \n",
       "29                     UNP                 P51449                    501   \n",
       "30                     UNP                 P51449                    502   \n",
       "31                     UNP                 P51449                    505   \n",
       "32                     UNP                 P51449                    506   \n",
       "\n",
       "   pdbx_sifts_xref_db_res  \n",
       "0                       W  \n",
       "1                       A  \n",
       "2                       H  \n",
       "3                       L  \n",
       "4                       T  \n",
       "5                       I  \n",
       "6                       Q  \n",
       "7                       V  \n",
       "8                       L  \n",
       "9                       K  \n",
       "10                      A  \n",
       "11                      G  \n",
       "12                      A  \n",
       "13                      M  \n",
       "14                      C  \n",
       "15                      H  \n",
       "16                      V  \n",
       "17                      R  \n",
       "18                      L  \n",
       "19                      Q  \n",
       "20                      I  \n",
       "21                      Q  \n",
       "22                      I  \n",
       "23                      V  \n",
       "24                      Q  \n",
       "25                      A  \n",
       "26                      A  \n",
       "27                      F  \n",
       "28                      P  \n",
       "29                      L  \n",
       "30                      Y  \n",
       "31                      L  \n",
       "32                      F  "
      ]
     },
     "execution_count": 14,
     "metadata": {},
     "output_type": "execute_result"
    }
   ],
   "source": [
    "# Site can be defined with a list of residues instead of a modulator\n",
    "res_site = Site(\n",
    "    pdb=pdb,\n",
    "    residues=[{\"label_asym_id\": \"A\", \"label_seq_id\": seqnum} for seqnum in resnums]\n",
    ")\n",
    "res_site.residues"
   ]
  },
  {
   "cell_type": "code",
   "execution_count": 15,
   "id": "6b4846b3-25b0-4258-a9fc-74b3187a436f",
   "metadata": {},
   "outputs": [
    {
     "data": {
      "application/vnd.jupyter.widget-view+json": {
       "model_id": "499795d1d01d4fe6891a6d42c4937b4b",
       "version_major": 2,
       "version_minor": 1
      },
      "text/plain": [
       "PDBeMolstar(bg_color='#F7F7F7', color_data={'data': [{'struct_asym_id': 'A', 'representation': 'cartoon', 'rep…"
      ]
     },
     "execution_count": 15,
     "metadata": {},
     "output_type": "execute_result"
    }
   ],
   "source": [
    "view_pockets(\n",
    "    pdb_id,\n",
    "    pockets={\"pocket2\": {\"color\": \"green\"}, \"pocket1\": {\"color\": \"blue\"}}, # {\"pocketn\": {\"color\": \"\"}}\n",
    "    protein_chains=[\"A\"],\n",
    "    site_residues=res_site.residues,\n",
    ")"
   ]
  }
 ],
 "metadata": {
  "kernelspec": {
   "display_name": "Python [conda env:allopockets_test]",
   "language": "python",
   "name": "conda-env-allopockets_test-py"
  },
  "language_info": {
   "codemirror_mode": {
    "name": "ipython",
    "version": 3
   },
   "file_extension": ".py",
   "mimetype": "text/x-python",
   "name": "python",
   "nbconvert_exporter": "python",
   "pygments_lexer": "ipython3",
   "version": "3.11.9"
  },
  "widgets": {
   "application/vnd.jupyter.widget-state+json": {
    "state": {
     "0a7f9da5c92249b89462128bb0b7bace": {
      "model_module": "@jupyter-widgets/controls",
      "model_module_version": "2.0.0",
      "model_name": "HTMLModel",
      "state": {
       "layout": "IPY_MODEL_6e2dc60bea7d414b8e0bb6ac333c91de",
       "style": "IPY_MODEL_d079774204e24dc19db5107fb6711ed2",
       "value": " 9/9 [00:00&lt;00:00, 709.71it/s]"
      }
     },
     "259bd7de90f64ec1ac809a8dbd8387f6": {
      "model_module": "@jupyter-widgets/base",
      "model_module_version": "2.0.0",
      "model_name": "LayoutModel",
      "state": {}
     },
     "2ab169f401fe4fb3822bb9f0159bfb84": {
      "model_module": "@jupyter-widgets/controls",
      "model_module_version": "2.0.0",
      "model_name": "HBoxModel",
      "state": {
       "children": [
        "IPY_MODEL_9710c9707dbc40a7928bee40204379d1",
        "IPY_MODEL_502718cc578d4ef7addabebd498e0bc5",
        "IPY_MODEL_0a7f9da5c92249b89462128bb0b7bace"
       ],
       "layout": "IPY_MODEL_3d3f0c42232847e997ca730adb024b4f"
      }
     },
     "3d3f0c42232847e997ca730adb024b4f": {
      "model_module": "@jupyter-widgets/base",
      "model_module_version": "2.0.0",
      "model_name": "LayoutModel",
      "state": {}
     },
     "49891804fb0c4c43ac78bbd61e16e29b": {
      "model_module": "@jupyter-widgets/base",
      "model_module_version": "2.0.0",
      "model_name": "LayoutModel",
      "state": {}
     },
     "499795d1d01d4fe6891a6d42c4937b4b": {
      "model_module": "anywidget",
      "model_module_version": "~0.9.*",
      "model_name": "AnyModel",
      "state": {
       "_anywidget_id": "ipymolstar.pdbemolstar.PDBeMolstar",
       "_args": {},
       "_clear_highlight": false,
       "_clear_selection": false,
       "_clear_tooltips": false,
       "_css": "@import url('https://cdn.jsdelivr.net/npm/pdbe-molstar@3.2.0/build/pdbe-molstar-light.css');",
       "_esm": "import \"https://cdn.jsdelivr.net/npm/pdbe-molstar@3.3.2/build/pdbe-molstar-plugin.js\";\n\nfunction standardize_color(str) {\n  var ctx = document.createElement(\"canvas\").getContext(\"2d\");\n  ctx.fillStyle = str;\n  return ctx.fillStyle;\n}\nfunction toRgb(color) {\n  var hex = standardize_color(color);\n  var result = /^#?([a-f\\d]{2})([a-f\\d]{2})([a-f\\d]{2})$/i.exec(hex);\n  return result\n    ? {\n        r: parseInt(result[1], 16),\n        g: parseInt(result[2], 16),\n        b: parseInt(result[3], 16),\n      }\n    : null;\n}\n\nfunction getHideStructure(model) {\n  var hideStructure = [];\n\n  if (model.get(\"hide_polymer\")) {\n    hideStructure.push(\"polymer\");\n  }\n  if (model.get(\"hide_water\")) {\n    hideStructure.push(\"water\");\n  }\n  if (model.get(\"hide_heteroatoms\")) {\n    hideStructure.push(\"het\");\n  }\n  if (model.get(\"hide_carbs\")) {\n    hideStructure.push(\"carbs\");\n  }\n  if (model.get(\"hide_non_standard\")) {\n    hideStructure.push(\"nonStandard\");\n  }\n  if (model.get(\"hide_coarse\")) {\n    hideStructure.push(\"coarse\");\n  }\n\n  return hideStructure;\n}\n\nfunction getVisibility(model) {\n  var visibility = {\n    polymer: !model.get(\"hide_polymer\"),\n    het: !model.get(\"hide_heteroatoms\"),\n    water: !model.get(\"hide_water\"),\n    carbs: !model.get(\"hide_carbs\"),\n    // maps ?\n  };\n\n  return visibility;\n}\n\nfunction getHideCanvasControls(model) {\n  var hideCanvasControls = [];\n  if (model.get(\"hide_controls_icon\")) {\n    hideCanvasControls.push(\"controlToggle\");\n  }\n  if (model.get(\"hide_expand_icon\")) {\n    hideCanvasControls.push(\"expand\");\n  }\n  if (model.get(\"hide_settings_icon\")) {\n    hideCanvasControls.push(\"controlInfo\");\n  }\n  if (model.get(\"hide_selection_icon\")) {\n    hideCanvasControls.push(\"selection\");\n  }\n  if (model.get(\"hide_animation_icon\")) {\n    hideCanvasControls.push(\"animation\");\n  }\n\n  return hideCanvasControls;\n}\n\nfunction getCustomData(model) {\n  var customData = model.get(\"custom_data\");\n  \n  if (customData && 'data' in customData) {\n    var url = URL.createObjectURL(new Blob([customData.data]));\n    customData.url = url;\n    delete customData.data;\n  }\n\n  return customData;\n}\n\nconst EmptyFocusBindings = {\n  clickCenterFocus: { triggers: [], action: '', description: '' },\n  clickCenterFocusSelectMode: { triggers: [], action: '', description: '' },\n  clickResetCameraOnEmpty: { triggers: [], action: '', description: '' },\n  clickResetCameraOnEmptySelectMode: { triggers: [], action: '', description: '' }\n};\n\n\nfunction getOptions(model) {\n  var options = {\n    moleculeId: model.get(\"molecule_id\"),\n    customData: getCustomData(model),\n    assemblyId: model.get(\"assembly_id\"),\n    defaultPreset: model.get(\"default_preset\"),\n    ligandView: model.get(\"ligand_view\"),\n    alphafoldView: model.get(\"alphafold_view\"),\n    superposition: model.get(\"superposition\"),\n    superpositionParams: model.get(\"superposition_params\"),\n    visualStyle: model.get(\"visual_style\"),\n    loadMaps: model.get(\"load_maps\"),\n    bgColor: toRgb(model.get(\"bg_color\")),\n    selectColor: toRgb(model.get(\"select_color\")),\n    lighting: model.get(\"lighting\"),\n    validationAnnotation: model.get(\"validation_annotation\"),\n    symmetryAnnotation: model.get(\"symmetry_annotation\"),\n    pdbeUrl: model.get(\"pdbe_url\"),\n    encoding: model.get(\"encoding\"),\n    lowPrecisionCoords: model.get(\"low_precision_coords\"),\n    selectInteraction: model.get(\"select_interaction\"),\n    // selectBindings: EmptySelectBindings,\n    granularity: model.get(\"granularity\"),\n    subscribeEvents: model.get(\"subscribe_events\"),\n    hideControls: model.get(\"hide_controls\"),\n    hideCanvasControls: getHideCanvasControls(model),\n    sequencePanel: model.get(\"sequence_panel\"),\n    pdbeLink: model.get(\"pdbe_link\"),\n    loadingOverlay: model.get(\"loading_overlay\"),\n    expanded: model.get(\"expanded\"),\n    landscape: model.get(\"landscape\"),\n    reactive: model.get(\"reactive\"),\n  };\n\n  if (model.get('click_focus') == false) {\n      options.focusBindings = EmptyFocusBindings;\n  }\n\n  return options;\n}\n\nfunction subscribe(model, name, callback) {\n  model.on(name, callback);\n  return () => model.off(name, callback);\n}\n\nfunction render({ model, el }) {\n  let viewerContainer = document.createElement(\"div\");\n  viewerContainer.id = \"viewer_container\";\n\n  viewerContainer.style.height = model.get(\"height\");\n  viewerContainer.style.width = model.get(\"width\");\n\n  // Make the container responsive\n  viewerContainer.style.maxWidth = \"100%\";\n  viewerContainer.style.boxSizing = \"border-box\";\n\n  var viewerInstance = new window.PDBeMolstarPlugin();\n  viewerInstance.render(viewerContainer, getOptions(model)); //.then(() => {\n  el.appendChild(viewerContainer);\n\n  // callbacks to be called after loading is complete\n  let callbacksLoadComplete = {\n    \"change:spin\": () => viewerInstance.visual.toggleSpin(model.get(\"spin\")),\n    \"change:hide_polymer\": () => {\n      viewerInstance.visual.visibility({ polymer: !model.get(\"hide_polymer\") });\n    },\n    \"change:hide_water\": () => {\n      viewerInstance.visual.visibility({ water: !model.get(\"hide_water\") });\n    },\n    \"change:hide_heteroatoms\": () => {\n      viewerInstance.visual.visibility({ het: !model.get(\"hide_heteroatoms\") });\n    },\n    \"change:hide_carbs\": () => {\n      viewerInstance.visual.visibility({ carbs: !model.get(\"hide_carbs\") });\n    },\n    \"change:hide_non_standard\": () => {\n      viewerInstance.visual.visibility({\n        nonStandard: !model.get(\"hide_non_standard\"),\n      });\n    },\n    \"change:hide_coarse\": () => {\n      viewerInstance.visual.visibility({ coarse: !model.get(\"hide_coarse\") });\n    },\n    \"change:color_data\": () => {\n      const selectValue = model.get(\"color_data\");\n      if (selectValue !== null) {\n        viewerInstance.visual.select(selectValue);\n      }\n    },\n    \"change:highlight\": () => {\n      const highlightValue = model.get(\"highlight\");\n      if (highlightValue !== null) {\n      viewerInstance.visual.highlight(highlightValue);\n      }\n    },\n    \"change:highlight_color\": () => {\n      const highlightColorValue = model.get(\"highlight_color\");      \n      if (highlightColorValue !== null) {\n        viewerInstance.visual.setColor({ highlight: highlightColorValue });\n      }\n    },\n    \"change:tooltips\": () => {\n      const tooltipValue = model.get(\"tooltips\");\n      if (tooltipValue !== null) {\n        viewerInstance.visual.tooltips(tooltipValue);\n      }\n    },\n  };\n\n  let otherCallbacks = {\n    \"change:molecule_id\": () => {\n      viewerInstance.visual.update(getOptions(model), true);\n    },\n    \"change:custom_data\": () => {\n      viewerInstance.visual.update(getOptions(model), true);\n    },\n    \"change:visual_style\": () => {\n      viewerInstance.visual.update(getOptions(model), true);\n    },\n    \"change:expanded\": () => {\n      viewerInstance.canvas.toggleExpanded(model.get(\"expanded\"));\n    },\n    \"change:bg_color\": () => {\n      viewerInstance.canvas.setBgColor(toRgb(model.get(\"bg_color\")));\n    },\n    \"change:_reset\": () => {\n      const resetValue = model.get(\"_reset\");\n      if (resetValue !== null) {\n        viewerInstance.visual.reset(resetValue);\n      }\n    },\n    \"change:_clear_tooltips\": () => {\n      viewerInstance.visual.clearTooltips();\n    }\n  };\n\n  let combinedCallbacks = Object.assign(\n    {},\n    callbacksLoadComplete,\n    otherCallbacks\n  );\n\n  viewerInstance.events.loadComplete.subscribe(() => {\n    // trigger callabacks which need to be called after loading\n    Object.values(callbacksLoadComplete).forEach((callback) => callback());\n  });\n\n  // subscribe to events and collect unsubscribe funcs\n  let unsubscribes = Object.entries(combinedCallbacks).map(([name, callback]) =>\n    subscribe(model, name, callback)\n  );\n\n  document.addEventListener(\"PDB.molstar.mouseover\", (e) => {\n    const eventData = e.eventData;\n    model.set(\"mouseover_event\", eventData);\n    model.save_changes();\n  });\n\n  document.addEventListener(\"PDB.molstar.mouseout\", (e) => {\n    model.set(\"mouseout_event\", !model.get(\"mouseout_event\") );\n    model.save_changes();\n  });\n\n  document.addEventListener(\"PDB.molstar.click\", (e) => {\n    const eventData = e.eventData;\n    model.set(\"click_event\", eventData);\n    model.save_changes();\n  });\n\n  return () => {\n    unsubscribes.forEach((unsubscribe) => unsubscribe());\n  };\n}\n\nexport default { render };\n",
       "_focus": null,
       "_model_module": "anywidget",
       "_model_module_version": "~0.9.*",
       "_model_name": "AnyModel",
       "_reset": null,
       "_set_color": null,
       "_update": null,
       "_view_module": "anywidget",
       "_view_module_version": "~0.9.*",
       "_view_name": "AnyView",
       "alphafold_view": false,
       "assembly_id": "",
       "bg_color": "#F7F7F7",
       "click_event": {},
       "click_focus": true,
       "color_data": {
        "data": [
         {
          "focus": true,
          "representation": "cartoon",
          "representationColor": "#AEAEAE",
          "struct_asym_id": "A"
         },
         {
          "representationColor": "black",
          "residue_number": 73,
          "struct_asym_id": "A"
         },
         {
          "representationColor": "black",
          "residue_number": 77,
          "struct_asym_id": "A"
         },
         {
          "representationColor": "black",
          "residue_number": 78,
          "struct_asym_id": "A"
         },
         {
          "representationColor": "black",
          "residue_number": 80,
          "struct_asym_id": "A"
         },
         {
          "representationColor": "black",
          "residue_number": 81,
          "struct_asym_id": "A"
         },
         {
          "representationColor": "black",
          "residue_number": 84,
          "struct_asym_id": "A"
         },
         {
          "representationColor": "black",
          "residue_number": 85,
          "struct_asym_id": "A"
         },
         {
          "representationColor": "black",
          "residue_number": 88,
          "struct_asym_id": "A"
         },
         {
          "representationColor": "black",
          "residue_number": 109,
          "struct_asym_id": "A"
         },
         {
          "representationColor": "black",
          "residue_number": 110,
          "struct_asym_id": "A"
         },
         {
          "representationColor": "black",
          "residue_number": 111,
          "struct_asym_id": "A"
         },
         {
          "representationColor": "black",
          "residue_number": 112,
          "struct_asym_id": "A"
         },
         {
          "representationColor": "black",
          "residue_number": 113,
          "struct_asym_id": "A"
         },
         {
          "representationColor": "black",
          "residue_number": 114,
          "struct_asym_id": "A"
         },
         {
          "representationColor": "black",
          "residue_number": 232,
          "struct_asym_id": "A"
         },
         {
          "representationColor": "black",
          "residue_number": 235,
          "struct_asym_id": "A"
         },
         {
          "representationColor": "black",
          "residue_number": 236,
          "struct_asym_id": "A"
         },
         {
          "representationColor": "black",
          "residue_number": 238,
          "struct_asym_id": "A"
         },
         {
          "representationColor": "black",
          "residue_number": 239,
          "struct_asym_id": "A"
         },
         {
          "representationColor": "black",
          "residue_number": 240,
          "struct_asym_id": "A"
         },
         {
          "representationColor": "black",
          "residue_number": 241,
          "struct_asym_id": "A"
         },
         {
          "representationColor": "black",
          "residue_number": 243,
          "struct_asym_id": "A"
         },
         {
          "representationColor": "black",
          "residue_number": 248,
          "struct_asym_id": "A"
         },
         {
          "representationColor": "black",
          "residue_number": 250,
          "struct_asym_id": "A"
         },
         {
          "representationColor": "black",
          "residue_number": 251,
          "struct_asym_id": "A"
         },
         {
          "representationColor": "black",
          "residue_number": 252,
          "struct_asym_id": "A"
         },
         {
          "representationColor": "black",
          "residue_number": 253,
          "struct_asym_id": "A"
         },
         {
          "representationColor": "black",
          "residue_number": 254,
          "struct_asym_id": "A"
         },
         {
          "representationColor": "black",
          "residue_number": 255,
          "struct_asym_id": "A"
         },
         {
          "representationColor": "black",
          "residue_number": 257,
          "struct_asym_id": "A"
         },
         {
          "representationColor": "black",
          "residue_number": 258,
          "struct_asym_id": "A"
         },
         {
          "representationColor": "black",
          "residue_number": 261,
          "struct_asym_id": "A"
         },
         {
          "representationColor": "black",
          "residue_number": 262,
          "struct_asym_id": "A"
         },
         {
          "representation": "point",
          "representationColor": "#0f009e73",
          "residue_number": 2,
          "struct_asym_id": "ZZZ"
         },
         {
          "representation": "point",
          "representationColor": "#0f0072b2",
          "residue_number": 1,
          "struct_asym_id": "ZZZ"
         },
         {
          "representation": "gaussian-volume",
          "representationColor": "#0f009e73",
          "residue_number": 2,
          "struct_asym_id": "ZZZ"
         },
         {
          "representation": "gaussian-volume",
          "representationColor": "#0f0072b2",
          "residue_number": 1,
          "struct_asym_id": "ZZZ"
         }
        ],
        "keepColors": true,
        "keepRepresentations": false,
        "nonSelectedColor": null
       },
       "custom_data": {
        "binary": false,
        "format": "cif",
        "url": "blob:http://localhost:8999/a0c12317-48e3-4321-ba80-1994cc54d5e1"
       },
       "default_preset": "default",
       "domain_annotation": false,
       "encoding": "bcif",
       "expanded": false,
       "granularity": "residue",
       "height": "500px",
       "hide_animation_icon": false,
       "hide_carbs": true,
       "hide_coarse": false,
       "hide_controls": true,
       "hide_controls_icon": false,
       "hide_expand_icon": false,
       "hide_heteroatoms": false,
       "hide_non_standard": false,
       "hide_polymer": true,
       "hide_selection_icon": false,
       "hide_settings_icon": false,
       "hide_water": true,
       "highlight": null,
       "highlight_color": "#FF6699",
       "landscape": false,
       "layout": "IPY_MODEL_83a3b887662945c7b0b836de2c8f65c5",
       "ligand_view": null,
       "lighting": null,
       "load_maps": false,
       "loading_overlay": false,
       "low_precision_coords": false,
       "map_settings": null,
       "molecule_id": "",
       "mouseout_event": false,
       "mouseover_event": {},
       "pdbe_link": true,
       "pdbe_url": "https://www.ebi.ac.uk/pdbe/",
       "reactive": false,
       "select_color": "#33FF19",
       "select_interaction": true,
       "sequence_panel": true,
       "spin": false,
       "subscribe_events": false,
       "superposition": false,
       "superposition_params": null,
       "symmetry_annotation": false,
       "tooltips": null,
       "validation_annotation": false,
       "visual_style": null,
       "width": "100%"
      }
     },
     "4c0137c3a8904478a669a2598d621562": {
      "model_module": "@jupyter-widgets/controls",
      "model_module_version": "2.0.0",
      "model_name": "HTMLStyleModel",
      "state": {
       "description_width": "",
       "font_size": null,
       "text_color": null
      }
     },
     "502718cc578d4ef7addabebd498e0bc5": {
      "model_module": "@jupyter-widgets/controls",
      "model_module_version": "2.0.0",
      "model_name": "FloatProgressModel",
      "state": {
       "bar_style": "success",
       "layout": "IPY_MODEL_259bd7de90f64ec1ac809a8dbd8387f6",
       "max": 9,
       "style": "IPY_MODEL_7099b440d0b442ac93f2714cbd2a4cdf",
       "value": 9
      }
     },
     "696c6e0bafdd4a22b69ca4b955a11cf0": {
      "model_module": "anywidget",
      "model_module_version": "~0.9.*",
      "model_name": "AnyModel",
      "state": {
       "_anywidget_id": "ipymolstar.pdbemolstar.PDBeMolstar",
       "_args": {},
       "_clear_highlight": false,
       "_clear_selection": false,
       "_clear_tooltips": false,
       "_css": "@import url('https://cdn.jsdelivr.net/npm/pdbe-molstar@3.2.0/build/pdbe-molstar-light.css');",
       "_esm": "import \"https://cdn.jsdelivr.net/npm/pdbe-molstar@3.3.2/build/pdbe-molstar-plugin.js\";\n\nfunction standardize_color(str) {\n  var ctx = document.createElement(\"canvas\").getContext(\"2d\");\n  ctx.fillStyle = str;\n  return ctx.fillStyle;\n}\nfunction toRgb(color) {\n  var hex = standardize_color(color);\n  var result = /^#?([a-f\\d]{2})([a-f\\d]{2})([a-f\\d]{2})$/i.exec(hex);\n  return result\n    ? {\n        r: parseInt(result[1], 16),\n        g: parseInt(result[2], 16),\n        b: parseInt(result[3], 16),\n      }\n    : null;\n}\n\nfunction getHideStructure(model) {\n  var hideStructure = [];\n\n  if (model.get(\"hide_polymer\")) {\n    hideStructure.push(\"polymer\");\n  }\n  if (model.get(\"hide_water\")) {\n    hideStructure.push(\"water\");\n  }\n  if (model.get(\"hide_heteroatoms\")) {\n    hideStructure.push(\"het\");\n  }\n  if (model.get(\"hide_carbs\")) {\n    hideStructure.push(\"carbs\");\n  }\n  if (model.get(\"hide_non_standard\")) {\n    hideStructure.push(\"nonStandard\");\n  }\n  if (model.get(\"hide_coarse\")) {\n    hideStructure.push(\"coarse\");\n  }\n\n  return hideStructure;\n}\n\nfunction getVisibility(model) {\n  var visibility = {\n    polymer: !model.get(\"hide_polymer\"),\n    het: !model.get(\"hide_heteroatoms\"),\n    water: !model.get(\"hide_water\"),\n    carbs: !model.get(\"hide_carbs\"),\n    // maps ?\n  };\n\n  return visibility;\n}\n\nfunction getHideCanvasControls(model) {\n  var hideCanvasControls = [];\n  if (model.get(\"hide_controls_icon\")) {\n    hideCanvasControls.push(\"controlToggle\");\n  }\n  if (model.get(\"hide_expand_icon\")) {\n    hideCanvasControls.push(\"expand\");\n  }\n  if (model.get(\"hide_settings_icon\")) {\n    hideCanvasControls.push(\"controlInfo\");\n  }\n  if (model.get(\"hide_selection_icon\")) {\n    hideCanvasControls.push(\"selection\");\n  }\n  if (model.get(\"hide_animation_icon\")) {\n    hideCanvasControls.push(\"animation\");\n  }\n\n  return hideCanvasControls;\n}\n\nfunction getCustomData(model) {\n  var customData = model.get(\"custom_data\");\n  \n  if (customData && 'data' in customData) {\n    var url = URL.createObjectURL(new Blob([customData.data]));\n    customData.url = url;\n    delete customData.data;\n  }\n\n  return customData;\n}\n\nconst EmptyFocusBindings = {\n  clickCenterFocus: { triggers: [], action: '', description: '' },\n  clickCenterFocusSelectMode: { triggers: [], action: '', description: '' },\n  clickResetCameraOnEmpty: { triggers: [], action: '', description: '' },\n  clickResetCameraOnEmptySelectMode: { triggers: [], action: '', description: '' }\n};\n\n\nfunction getOptions(model) {\n  var options = {\n    moleculeId: model.get(\"molecule_id\"),\n    customData: getCustomData(model),\n    assemblyId: model.get(\"assembly_id\"),\n    defaultPreset: model.get(\"default_preset\"),\n    ligandView: model.get(\"ligand_view\"),\n    alphafoldView: model.get(\"alphafold_view\"),\n    superposition: model.get(\"superposition\"),\n    superpositionParams: model.get(\"superposition_params\"),\n    visualStyle: model.get(\"visual_style\"),\n    loadMaps: model.get(\"load_maps\"),\n    bgColor: toRgb(model.get(\"bg_color\")),\n    selectColor: toRgb(model.get(\"select_color\")),\n    lighting: model.get(\"lighting\"),\n    validationAnnotation: model.get(\"validation_annotation\"),\n    symmetryAnnotation: model.get(\"symmetry_annotation\"),\n    pdbeUrl: model.get(\"pdbe_url\"),\n    encoding: model.get(\"encoding\"),\n    lowPrecisionCoords: model.get(\"low_precision_coords\"),\n    selectInteraction: model.get(\"select_interaction\"),\n    // selectBindings: EmptySelectBindings,\n    granularity: model.get(\"granularity\"),\n    subscribeEvents: model.get(\"subscribe_events\"),\n    hideControls: model.get(\"hide_controls\"),\n    hideCanvasControls: getHideCanvasControls(model),\n    sequencePanel: model.get(\"sequence_panel\"),\n    pdbeLink: model.get(\"pdbe_link\"),\n    loadingOverlay: model.get(\"loading_overlay\"),\n    expanded: model.get(\"expanded\"),\n    landscape: model.get(\"landscape\"),\n    reactive: model.get(\"reactive\"),\n  };\n\n  if (model.get('click_focus') == false) {\n      options.focusBindings = EmptyFocusBindings;\n  }\n\n  return options;\n}\n\nfunction subscribe(model, name, callback) {\n  model.on(name, callback);\n  return () => model.off(name, callback);\n}\n\nfunction render({ model, el }) {\n  let viewerContainer = document.createElement(\"div\");\n  viewerContainer.id = \"viewer_container\";\n\n  viewerContainer.style.height = model.get(\"height\");\n  viewerContainer.style.width = model.get(\"width\");\n\n  // Make the container responsive\n  viewerContainer.style.maxWidth = \"100%\";\n  viewerContainer.style.boxSizing = \"border-box\";\n\n  var viewerInstance = new window.PDBeMolstarPlugin();\n  viewerInstance.render(viewerContainer, getOptions(model)); //.then(() => {\n  el.appendChild(viewerContainer);\n\n  // callbacks to be called after loading is complete\n  let callbacksLoadComplete = {\n    \"change:spin\": () => viewerInstance.visual.toggleSpin(model.get(\"spin\")),\n    \"change:hide_polymer\": () => {\n      viewerInstance.visual.visibility({ polymer: !model.get(\"hide_polymer\") });\n    },\n    \"change:hide_water\": () => {\n      viewerInstance.visual.visibility({ water: !model.get(\"hide_water\") });\n    },\n    \"change:hide_heteroatoms\": () => {\n      viewerInstance.visual.visibility({ het: !model.get(\"hide_heteroatoms\") });\n    },\n    \"change:hide_carbs\": () => {\n      viewerInstance.visual.visibility({ carbs: !model.get(\"hide_carbs\") });\n    },\n    \"change:hide_non_standard\": () => {\n      viewerInstance.visual.visibility({\n        nonStandard: !model.get(\"hide_non_standard\"),\n      });\n    },\n    \"change:hide_coarse\": () => {\n      viewerInstance.visual.visibility({ coarse: !model.get(\"hide_coarse\") });\n    },\n    \"change:color_data\": () => {\n      const selectValue = model.get(\"color_data\");\n      if (selectValue !== null) {\n        viewerInstance.visual.select(selectValue);\n      }\n    },\n    \"change:highlight\": () => {\n      const highlightValue = model.get(\"highlight\");\n      if (highlightValue !== null) {\n      viewerInstance.visual.highlight(highlightValue);\n      }\n    },\n    \"change:highlight_color\": () => {\n      const highlightColorValue = model.get(\"highlight_color\");      \n      if (highlightColorValue !== null) {\n        viewerInstance.visual.setColor({ highlight: highlightColorValue });\n      }\n    },\n    \"change:tooltips\": () => {\n      const tooltipValue = model.get(\"tooltips\");\n      if (tooltipValue !== null) {\n        viewerInstance.visual.tooltips(tooltipValue);\n      }\n    },\n  };\n\n  let otherCallbacks = {\n    \"change:molecule_id\": () => {\n      viewerInstance.visual.update(getOptions(model), true);\n    },\n    \"change:custom_data\": () => {\n      viewerInstance.visual.update(getOptions(model), true);\n    },\n    \"change:visual_style\": () => {\n      viewerInstance.visual.update(getOptions(model), true);\n    },\n    \"change:expanded\": () => {\n      viewerInstance.canvas.toggleExpanded(model.get(\"expanded\"));\n    },\n    \"change:bg_color\": () => {\n      viewerInstance.canvas.setBgColor(toRgb(model.get(\"bg_color\")));\n    },\n    \"change:_reset\": () => {\n      const resetValue = model.get(\"_reset\");\n      if (resetValue !== null) {\n        viewerInstance.visual.reset(resetValue);\n      }\n    },\n    \"change:_clear_tooltips\": () => {\n      viewerInstance.visual.clearTooltips();\n    }\n  };\n\n  let combinedCallbacks = Object.assign(\n    {},\n    callbacksLoadComplete,\n    otherCallbacks\n  );\n\n  viewerInstance.events.loadComplete.subscribe(() => {\n    // trigger callabacks which need to be called after loading\n    Object.values(callbacksLoadComplete).forEach((callback) => callback());\n  });\n\n  // subscribe to events and collect unsubscribe funcs\n  let unsubscribes = Object.entries(combinedCallbacks).map(([name, callback]) =>\n    subscribe(model, name, callback)\n  );\n\n  document.addEventListener(\"PDB.molstar.mouseover\", (e) => {\n    const eventData = e.eventData;\n    model.set(\"mouseover_event\", eventData);\n    model.save_changes();\n  });\n\n  document.addEventListener(\"PDB.molstar.mouseout\", (e) => {\n    model.set(\"mouseout_event\", !model.get(\"mouseout_event\") );\n    model.save_changes();\n  });\n\n  document.addEventListener(\"PDB.molstar.click\", (e) => {\n    const eventData = e.eventData;\n    model.set(\"click_event\", eventData);\n    model.save_changes();\n  });\n\n  return () => {\n    unsubscribes.forEach((unsubscribe) => unsubscribe());\n  };\n}\n\nexport default { render };\n",
       "_focus": null,
       "_model_module": "anywidget",
       "_model_module_version": "~0.9.*",
       "_model_name": "AnyModel",
       "_reset": null,
       "_set_color": null,
       "_update": null,
       "_view_module": "anywidget",
       "_view_module_version": "~0.9.*",
       "_view_name": "AnyView",
       "alphafold_view": false,
       "assembly_id": "",
       "bg_color": "#F7F7F7",
       "click_event": {},
       "click_focus": true,
       "color_data": {
        "data": [
         {
          "focus": true,
          "representation": "cartoon",
          "representationColor": "#AEAEAE",
          "struct_asym_id": "A"
         },
         {
          "representation": "point",
          "representationColor": "#0f009e73",
          "residue_number": 2,
          "struct_asym_id": "ZZZ"
         },
         {
          "representation": "point",
          "representationColor": "#0f0072b2",
          "residue_number": 1,
          "struct_asym_id": "ZZZ"
         },
         {
          "representation": "gaussian-volume",
          "representationColor": "#0f009e73",
          "residue_number": 2,
          "struct_asym_id": "ZZZ"
         },
         {
          "representation": "gaussian-volume",
          "representationColor": "#0f0072b2",
          "residue_number": 1,
          "struct_asym_id": "ZZZ"
         }
        ],
        "keepColors": true,
        "keepRepresentations": false,
        "nonSelectedColor": null
       },
       "custom_data": {
        "binary": false,
        "format": "cif",
        "url": "blob:http://localhost:8999/b82b290e-49b1-457c-ad0e-1b79444b93d0"
       },
       "default_preset": "default",
       "domain_annotation": false,
       "encoding": "bcif",
       "expanded": false,
       "granularity": "residue",
       "height": "500px",
       "hide_animation_icon": false,
       "hide_carbs": true,
       "hide_coarse": false,
       "hide_controls": true,
       "hide_controls_icon": false,
       "hide_expand_icon": false,
       "hide_heteroatoms": false,
       "hide_non_standard": false,
       "hide_polymer": true,
       "hide_selection_icon": false,
       "hide_settings_icon": false,
       "hide_water": true,
       "highlight": null,
       "highlight_color": "#FF6699",
       "landscape": false,
       "layout": "IPY_MODEL_f3e6408ef8694368b47cbdd7d39738c2",
       "ligand_view": null,
       "lighting": null,
       "load_maps": false,
       "loading_overlay": false,
       "low_precision_coords": false,
       "map_settings": null,
       "molecule_id": "",
       "mouseout_event": false,
       "mouseover_event": {},
       "pdbe_link": true,
       "pdbe_url": "https://www.ebi.ac.uk/pdbe/",
       "reactive": false,
       "select_color": "#33FF19",
       "select_interaction": true,
       "sequence_panel": true,
       "spin": false,
       "subscribe_events": false,
       "superposition": false,
       "superposition_params": null,
       "symmetry_annotation": false,
       "tooltips": null,
       "validation_annotation": false,
       "visual_style": null,
       "width": "100%"
      }
     },
     "6e2dc60bea7d414b8e0bb6ac333c91de": {
      "model_module": "@jupyter-widgets/base",
      "model_module_version": "2.0.0",
      "model_name": "LayoutModel",
      "state": {}
     },
     "6ec70d589db44003be9f58ffc1eef526": {
      "model_module": "@jupyter-widgets/base",
      "model_module_version": "2.0.0",
      "model_name": "LayoutModel",
      "state": {}
     },
     "7099b440d0b442ac93f2714cbd2a4cdf": {
      "model_module": "@jupyter-widgets/controls",
      "model_module_version": "2.0.0",
      "model_name": "ProgressStyleModel",
      "state": {
       "description_width": ""
      }
     },
     "83a3b887662945c7b0b836de2c8f65c5": {
      "model_module": "@jupyter-widgets/base",
      "model_module_version": "2.0.0",
      "model_name": "LayoutModel",
      "state": {}
     },
     "9710c9707dbc40a7928bee40204379d1": {
      "model_module": "@jupyter-widgets/controls",
      "model_module_version": "2.0.0",
      "model_name": "HTMLModel",
      "state": {
       "layout": "IPY_MODEL_49891804fb0c4c43ac78bbd61e16e29b",
       "style": "IPY_MODEL_4c0137c3a8904478a669a2598d621562",
       "value": "Calculating HHBlits: 100%"
      }
     },
     "9a455cec4a354ad5b58fbe97a9ce3379": {
      "model_module": "nglview-js-widgets",
      "model_module_version": "2.0.0",
      "model_name": "ColormakerRegistryModel",
      "state": {
       "_model_module": "nglview-js-widgets",
       "_model_name": "ColormakerRegistryModel",
       "_msg_ar": [],
       "_msg_q": [],
       "_ready": false,
       "_view_name": "ErrorWidgetView",
       "error": {},
       "layout": "IPY_MODEL_ad9e5329972f44a0b98a1746e6f20fd6",
       "msg": "Failed to load model class 'ColormakerRegistryModel' from module 'nglview-js-widgets'"
      }
     },
     "ad9e5329972f44a0b98a1746e6f20fd6": {
      "model_module": "@jupyter-widgets/base",
      "model_module_version": "2.0.0",
      "model_name": "LayoutModel",
      "state": {}
     },
     "c6dd164213b44cb88cab7cfec9f6c406": {
      "model_module": "anywidget",
      "model_module_version": "~0.9.*",
      "model_name": "AnyModel",
      "state": {
       "_anywidget_id": "ipymolstar.pdbemolstar.PDBeMolstar",
       "_args": {},
       "_clear_highlight": false,
       "_clear_selection": false,
       "_clear_tooltips": false,
       "_css": "@import url('https://cdn.jsdelivr.net/npm/pdbe-molstar@3.2.0/build/pdbe-molstar-light.css');",
       "_esm": "import \"https://cdn.jsdelivr.net/npm/pdbe-molstar@3.3.2/build/pdbe-molstar-plugin.js\";\n\nfunction standardize_color(str) {\n  var ctx = document.createElement(\"canvas\").getContext(\"2d\");\n  ctx.fillStyle = str;\n  return ctx.fillStyle;\n}\nfunction toRgb(color) {\n  var hex = standardize_color(color);\n  var result = /^#?([a-f\\d]{2})([a-f\\d]{2})([a-f\\d]{2})$/i.exec(hex);\n  return result\n    ? {\n        r: parseInt(result[1], 16),\n        g: parseInt(result[2], 16),\n        b: parseInt(result[3], 16),\n      }\n    : null;\n}\n\nfunction getHideStructure(model) {\n  var hideStructure = [];\n\n  if (model.get(\"hide_polymer\")) {\n    hideStructure.push(\"polymer\");\n  }\n  if (model.get(\"hide_water\")) {\n    hideStructure.push(\"water\");\n  }\n  if (model.get(\"hide_heteroatoms\")) {\n    hideStructure.push(\"het\");\n  }\n  if (model.get(\"hide_carbs\")) {\n    hideStructure.push(\"carbs\");\n  }\n  if (model.get(\"hide_non_standard\")) {\n    hideStructure.push(\"nonStandard\");\n  }\n  if (model.get(\"hide_coarse\")) {\n    hideStructure.push(\"coarse\");\n  }\n\n  return hideStructure;\n}\n\nfunction getVisibility(model) {\n  var visibility = {\n    polymer: !model.get(\"hide_polymer\"),\n    het: !model.get(\"hide_heteroatoms\"),\n    water: !model.get(\"hide_water\"),\n    carbs: !model.get(\"hide_carbs\"),\n    // maps ?\n  };\n\n  return visibility;\n}\n\nfunction getHideCanvasControls(model) {\n  var hideCanvasControls = [];\n  if (model.get(\"hide_controls_icon\")) {\n    hideCanvasControls.push(\"controlToggle\");\n  }\n  if (model.get(\"hide_expand_icon\")) {\n    hideCanvasControls.push(\"expand\");\n  }\n  if (model.get(\"hide_settings_icon\")) {\n    hideCanvasControls.push(\"controlInfo\");\n  }\n  if (model.get(\"hide_selection_icon\")) {\n    hideCanvasControls.push(\"selection\");\n  }\n  if (model.get(\"hide_animation_icon\")) {\n    hideCanvasControls.push(\"animation\");\n  }\n\n  return hideCanvasControls;\n}\n\nfunction getCustomData(model) {\n  var customData = model.get(\"custom_data\");\n  \n  if (customData && 'data' in customData) {\n    var url = URL.createObjectURL(new Blob([customData.data]));\n    customData.url = url;\n    delete customData.data;\n  }\n\n  return customData;\n}\n\nconst EmptyFocusBindings = {\n  clickCenterFocus: { triggers: [], action: '', description: '' },\n  clickCenterFocusSelectMode: { triggers: [], action: '', description: '' },\n  clickResetCameraOnEmpty: { triggers: [], action: '', description: '' },\n  clickResetCameraOnEmptySelectMode: { triggers: [], action: '', description: '' }\n};\n\n\nfunction getOptions(model) {\n  var options = {\n    moleculeId: model.get(\"molecule_id\"),\n    customData: getCustomData(model),\n    assemblyId: model.get(\"assembly_id\"),\n    defaultPreset: model.get(\"default_preset\"),\n    ligandView: model.get(\"ligand_view\"),\n    alphafoldView: model.get(\"alphafold_view\"),\n    superposition: model.get(\"superposition\"),\n    superpositionParams: model.get(\"superposition_params\"),\n    visualStyle: model.get(\"visual_style\"),\n    loadMaps: model.get(\"load_maps\"),\n    bgColor: toRgb(model.get(\"bg_color\")),\n    selectColor: toRgb(model.get(\"select_color\")),\n    lighting: model.get(\"lighting\"),\n    validationAnnotation: model.get(\"validation_annotation\"),\n    symmetryAnnotation: model.get(\"symmetry_annotation\"),\n    pdbeUrl: model.get(\"pdbe_url\"),\n    encoding: model.get(\"encoding\"),\n    lowPrecisionCoords: model.get(\"low_precision_coords\"),\n    selectInteraction: model.get(\"select_interaction\"),\n    // selectBindings: EmptySelectBindings,\n    granularity: model.get(\"granularity\"),\n    subscribeEvents: model.get(\"subscribe_events\"),\n    hideControls: model.get(\"hide_controls\"),\n    hideCanvasControls: getHideCanvasControls(model),\n    sequencePanel: model.get(\"sequence_panel\"),\n    pdbeLink: model.get(\"pdbe_link\"),\n    loadingOverlay: model.get(\"loading_overlay\"),\n    expanded: model.get(\"expanded\"),\n    landscape: model.get(\"landscape\"),\n    reactive: model.get(\"reactive\"),\n  };\n\n  if (model.get('click_focus') == false) {\n      options.focusBindings = EmptyFocusBindings;\n  }\n\n  return options;\n}\n\nfunction subscribe(model, name, callback) {\n  model.on(name, callback);\n  return () => model.off(name, callback);\n}\n\nfunction render({ model, el }) {\n  let viewerContainer = document.createElement(\"div\");\n  viewerContainer.id = \"viewer_container\";\n\n  viewerContainer.style.height = model.get(\"height\");\n  viewerContainer.style.width = model.get(\"width\");\n\n  // Make the container responsive\n  viewerContainer.style.maxWidth = \"100%\";\n  viewerContainer.style.boxSizing = \"border-box\";\n\n  var viewerInstance = new window.PDBeMolstarPlugin();\n  viewerInstance.render(viewerContainer, getOptions(model)); //.then(() => {\n  el.appendChild(viewerContainer);\n\n  // callbacks to be called after loading is complete\n  let callbacksLoadComplete = {\n    \"change:spin\": () => viewerInstance.visual.toggleSpin(model.get(\"spin\")),\n    \"change:hide_polymer\": () => {\n      viewerInstance.visual.visibility({ polymer: !model.get(\"hide_polymer\") });\n    },\n    \"change:hide_water\": () => {\n      viewerInstance.visual.visibility({ water: !model.get(\"hide_water\") });\n    },\n    \"change:hide_heteroatoms\": () => {\n      viewerInstance.visual.visibility({ het: !model.get(\"hide_heteroatoms\") });\n    },\n    \"change:hide_carbs\": () => {\n      viewerInstance.visual.visibility({ carbs: !model.get(\"hide_carbs\") });\n    },\n    \"change:hide_non_standard\": () => {\n      viewerInstance.visual.visibility({\n        nonStandard: !model.get(\"hide_non_standard\"),\n      });\n    },\n    \"change:hide_coarse\": () => {\n      viewerInstance.visual.visibility({ coarse: !model.get(\"hide_coarse\") });\n    },\n    \"change:color_data\": () => {\n      const selectValue = model.get(\"color_data\");\n      if (selectValue !== null) {\n        viewerInstance.visual.select(selectValue);\n      }\n    },\n    \"change:highlight\": () => {\n      const highlightValue = model.get(\"highlight\");\n      if (highlightValue !== null) {\n      viewerInstance.visual.highlight(highlightValue);\n      }\n    },\n    \"change:highlight_color\": () => {\n      const highlightColorValue = model.get(\"highlight_color\");      \n      if (highlightColorValue !== null) {\n        viewerInstance.visual.setColor({ highlight: highlightColorValue });\n      }\n    },\n    \"change:tooltips\": () => {\n      const tooltipValue = model.get(\"tooltips\");\n      if (tooltipValue !== null) {\n        viewerInstance.visual.tooltips(tooltipValue);\n      }\n    },\n  };\n\n  let otherCallbacks = {\n    \"change:molecule_id\": () => {\n      viewerInstance.visual.update(getOptions(model), true);\n    },\n    \"change:custom_data\": () => {\n      viewerInstance.visual.update(getOptions(model), true);\n    },\n    \"change:visual_style\": () => {\n      viewerInstance.visual.update(getOptions(model), true);\n    },\n    \"change:expanded\": () => {\n      viewerInstance.canvas.toggleExpanded(model.get(\"expanded\"));\n    },\n    \"change:bg_color\": () => {\n      viewerInstance.canvas.setBgColor(toRgb(model.get(\"bg_color\")));\n    },\n    \"change:_reset\": () => {\n      const resetValue = model.get(\"_reset\");\n      if (resetValue !== null) {\n        viewerInstance.visual.reset(resetValue);\n      }\n    },\n    \"change:_clear_tooltips\": () => {\n      viewerInstance.visual.clearTooltips();\n    }\n  };\n\n  let combinedCallbacks = Object.assign(\n    {},\n    callbacksLoadComplete,\n    otherCallbacks\n  );\n\n  viewerInstance.events.loadComplete.subscribe(() => {\n    // trigger callabacks which need to be called after loading\n    Object.values(callbacksLoadComplete).forEach((callback) => callback());\n  });\n\n  // subscribe to events and collect unsubscribe funcs\n  let unsubscribes = Object.entries(combinedCallbacks).map(([name, callback]) =>\n    subscribe(model, name, callback)\n  );\n\n  document.addEventListener(\"PDB.molstar.mouseover\", (e) => {\n    const eventData = e.eventData;\n    model.set(\"mouseover_event\", eventData);\n    model.save_changes();\n  });\n\n  document.addEventListener(\"PDB.molstar.mouseout\", (e) => {\n    model.set(\"mouseout_event\", !model.get(\"mouseout_event\") );\n    model.save_changes();\n  });\n\n  document.addEventListener(\"PDB.molstar.click\", (e) => {\n    const eventData = e.eventData;\n    model.set(\"click_event\", eventData);\n    model.save_changes();\n  });\n\n  return () => {\n    unsubscribes.forEach((unsubscribe) => unsubscribe());\n  };\n}\n\nexport default { render };\n",
       "_focus": null,
       "_model_module": "anywidget",
       "_model_module_version": "~0.9.*",
       "_model_name": "AnyModel",
       "_reset": null,
       "_set_color": null,
       "_update": null,
       "_view_module": "anywidget",
       "_view_module_version": "~0.9.*",
       "_view_name": "AnyView",
       "alphafold_view": false,
       "assembly_id": "",
       "bg_color": "#F7F7F7",
       "click_event": {},
       "click_focus": true,
       "color_data": {
        "data": [
         {
          "focus": true,
          "representation": "cartoon",
          "representationColor": "#AEAEAE",
          "struct_asym_id": "A"
         },
         {
          "representationColor": "black",
          "residue_number": 73,
          "struct_asym_id": "A"
         },
         {
          "representationColor": "black",
          "residue_number": 77,
          "struct_asym_id": "A"
         },
         {
          "representationColor": "black",
          "residue_number": 78,
          "struct_asym_id": "A"
         },
         {
          "representationColor": "black",
          "residue_number": 80,
          "struct_asym_id": "A"
         },
         {
          "representationColor": "black",
          "residue_number": 81,
          "struct_asym_id": "A"
         },
         {
          "representationColor": "black",
          "residue_number": 84,
          "struct_asym_id": "A"
         },
         {
          "representationColor": "black",
          "residue_number": 85,
          "struct_asym_id": "A"
         },
         {
          "representationColor": "black",
          "residue_number": 88,
          "struct_asym_id": "A"
         },
         {
          "representationColor": "black",
          "residue_number": 109,
          "struct_asym_id": "A"
         },
         {
          "representationColor": "black",
          "residue_number": 110,
          "struct_asym_id": "A"
         },
         {
          "representationColor": "black",
          "residue_number": 111,
          "struct_asym_id": "A"
         },
         {
          "representationColor": "black",
          "residue_number": 112,
          "struct_asym_id": "A"
         },
         {
          "representationColor": "black",
          "residue_number": 113,
          "struct_asym_id": "A"
         },
         {
          "representationColor": "black",
          "residue_number": 114,
          "struct_asym_id": "A"
         },
         {
          "representationColor": "black",
          "residue_number": 232,
          "struct_asym_id": "A"
         },
         {
          "representationColor": "black",
          "residue_number": 235,
          "struct_asym_id": "A"
         },
         {
          "representationColor": "black",
          "residue_number": 236,
          "struct_asym_id": "A"
         },
         {
          "representationColor": "black",
          "residue_number": 238,
          "struct_asym_id": "A"
         },
         {
          "representationColor": "black",
          "residue_number": 239,
          "struct_asym_id": "A"
         },
         {
          "representationColor": "black",
          "residue_number": 240,
          "struct_asym_id": "A"
         },
         {
          "representationColor": "black",
          "residue_number": 241,
          "struct_asym_id": "A"
         },
         {
          "representationColor": "black",
          "residue_number": 243,
          "struct_asym_id": "A"
         },
         {
          "representationColor": "black",
          "residue_number": 248,
          "struct_asym_id": "A"
         },
         {
          "representationColor": "black",
          "residue_number": 250,
          "struct_asym_id": "A"
         },
         {
          "representationColor": "black",
          "residue_number": 251,
          "struct_asym_id": "A"
         },
         {
          "representationColor": "black",
          "residue_number": 252,
          "struct_asym_id": "A"
         },
         {
          "representationColor": "black",
          "residue_number": 253,
          "struct_asym_id": "A"
         },
         {
          "representationColor": "black",
          "residue_number": 254,
          "struct_asym_id": "A"
         },
         {
          "representationColor": "black",
          "residue_number": 255,
          "struct_asym_id": "A"
         },
         {
          "representationColor": "black",
          "residue_number": 257,
          "struct_asym_id": "A"
         },
         {
          "representationColor": "black",
          "residue_number": 258,
          "struct_asym_id": "A"
         },
         {
          "representationColor": "black",
          "residue_number": 261,
          "struct_asym_id": "A"
         },
         {
          "representationColor": "black",
          "residue_number": 262,
          "struct_asym_id": "A"
         },
         {
          "color": "white",
          "struct_asym_id": "B"
         },
         {
          "color": "white",
          "struct_asym_id": "D"
         },
         {
          "color": "white",
          "struct_asym_id": "E"
         },
         {
          "representation": "point",
          "representationColor": "#0f009e73",
          "residue_number": 2,
          "struct_asym_id": "ZZZ"
         },
         {
          "representation": "point",
          "representationColor": "#0f0072b2",
          "residue_number": 1,
          "struct_asym_id": "ZZZ"
         },
         {
          "representation": "gaussian-volume",
          "representationColor": "#0f009e73",
          "residue_number": 2,
          "struct_asym_id": "ZZZ"
         },
         {
          "representation": "gaussian-volume",
          "representationColor": "#0f0072b2",
          "residue_number": 1,
          "struct_asym_id": "ZZZ"
         }
        ],
        "keepColors": true,
        "keepRepresentations": false,
        "nonSelectedColor": null
       },
       "custom_data": {
        "binary": false,
        "format": "cif",
        "url": "blob:http://localhost:8999/28357883-ae57-48dc-be6f-497531b23e53"
       },
       "default_preset": "default",
       "domain_annotation": false,
       "encoding": "bcif",
       "expanded": false,
       "granularity": "residue",
       "height": "500px",
       "hide_animation_icon": false,
       "hide_carbs": true,
       "hide_coarse": false,
       "hide_controls": true,
       "hide_controls_icon": false,
       "hide_expand_icon": false,
       "hide_heteroatoms": false,
       "hide_non_standard": false,
       "hide_polymer": true,
       "hide_selection_icon": false,
       "hide_settings_icon": false,
       "hide_water": true,
       "highlight": null,
       "highlight_color": "#FF6699",
       "landscape": false,
       "layout": "IPY_MODEL_f02c4990114f44c4a15bc07640515a4d",
       "ligand_view": null,
       "lighting": null,
       "load_maps": false,
       "loading_overlay": false,
       "low_precision_coords": false,
       "map_settings": null,
       "molecule_id": "",
       "mouseout_event": false,
       "mouseover_event": {},
       "pdbe_link": true,
       "pdbe_url": "https://www.ebi.ac.uk/pdbe/",
       "reactive": false,
       "select_color": "#33FF19",
       "select_interaction": true,
       "sequence_panel": true,
       "spin": false,
       "subscribe_events": false,
       "superposition": false,
       "superposition_params": null,
       "symmetry_annotation": false,
       "tooltips": null,
       "validation_annotation": false,
       "visual_style": null,
       "width": "100%"
      }
     },
     "d079774204e24dc19db5107fb6711ed2": {
      "model_module": "@jupyter-widgets/controls",
      "model_module_version": "2.0.0",
      "model_name": "HTMLStyleModel",
      "state": {
       "description_width": "",
       "font_size": null,
       "text_color": null
      }
     },
     "e675e608182c4ce6a82da24968fc981a": {
      "model_module": "anywidget",
      "model_module_version": "~0.9.*",
      "model_name": "AnyModel",
      "state": {
       "_anywidget_id": "ipymolstar.pdbemolstar.PDBeMolstar",
       "_args": {},
       "_clear_highlight": false,
       "_clear_selection": false,
       "_clear_tooltips": false,
       "_css": "@import url('https://cdn.jsdelivr.net/npm/pdbe-molstar@3.2.0/build/pdbe-molstar-light.css');",
       "_esm": "import \"https://cdn.jsdelivr.net/npm/pdbe-molstar@3.3.2/build/pdbe-molstar-plugin.js\";\n\nfunction standardize_color(str) {\n  var ctx = document.createElement(\"canvas\").getContext(\"2d\");\n  ctx.fillStyle = str;\n  return ctx.fillStyle;\n}\nfunction toRgb(color) {\n  var hex = standardize_color(color);\n  var result = /^#?([a-f\\d]{2})([a-f\\d]{2})([a-f\\d]{2})$/i.exec(hex);\n  return result\n    ? {\n        r: parseInt(result[1], 16),\n        g: parseInt(result[2], 16),\n        b: parseInt(result[3], 16),\n      }\n    : null;\n}\n\nfunction getHideStructure(model) {\n  var hideStructure = [];\n\n  if (model.get(\"hide_polymer\")) {\n    hideStructure.push(\"polymer\");\n  }\n  if (model.get(\"hide_water\")) {\n    hideStructure.push(\"water\");\n  }\n  if (model.get(\"hide_heteroatoms\")) {\n    hideStructure.push(\"het\");\n  }\n  if (model.get(\"hide_carbs\")) {\n    hideStructure.push(\"carbs\");\n  }\n  if (model.get(\"hide_non_standard\")) {\n    hideStructure.push(\"nonStandard\");\n  }\n  if (model.get(\"hide_coarse\")) {\n    hideStructure.push(\"coarse\");\n  }\n\n  return hideStructure;\n}\n\nfunction getVisibility(model) {\n  var visibility = {\n    polymer: !model.get(\"hide_polymer\"),\n    het: !model.get(\"hide_heteroatoms\"),\n    water: !model.get(\"hide_water\"),\n    carbs: !model.get(\"hide_carbs\"),\n    // maps ?\n  };\n\n  return visibility;\n}\n\nfunction getHideCanvasControls(model) {\n  var hideCanvasControls = [];\n  if (model.get(\"hide_controls_icon\")) {\n    hideCanvasControls.push(\"controlToggle\");\n  }\n  if (model.get(\"hide_expand_icon\")) {\n    hideCanvasControls.push(\"expand\");\n  }\n  if (model.get(\"hide_settings_icon\")) {\n    hideCanvasControls.push(\"controlInfo\");\n  }\n  if (model.get(\"hide_selection_icon\")) {\n    hideCanvasControls.push(\"selection\");\n  }\n  if (model.get(\"hide_animation_icon\")) {\n    hideCanvasControls.push(\"animation\");\n  }\n\n  return hideCanvasControls;\n}\n\nfunction getCustomData(model) {\n  var customData = model.get(\"custom_data\");\n  \n  if (customData && 'data' in customData) {\n    var url = URL.createObjectURL(new Blob([customData.data]));\n    customData.url = url;\n    delete customData.data;\n  }\n\n  return customData;\n}\n\nconst EmptyFocusBindings = {\n  clickCenterFocus: { triggers: [], action: '', description: '' },\n  clickCenterFocusSelectMode: { triggers: [], action: '', description: '' },\n  clickResetCameraOnEmpty: { triggers: [], action: '', description: '' },\n  clickResetCameraOnEmptySelectMode: { triggers: [], action: '', description: '' }\n};\n\n\nfunction getOptions(model) {\n  var options = {\n    moleculeId: model.get(\"molecule_id\"),\n    customData: getCustomData(model),\n    assemblyId: model.get(\"assembly_id\"),\n    defaultPreset: model.get(\"default_preset\"),\n    ligandView: model.get(\"ligand_view\"),\n    alphafoldView: model.get(\"alphafold_view\"),\n    superposition: model.get(\"superposition\"),\n    superpositionParams: model.get(\"superposition_params\"),\n    visualStyle: model.get(\"visual_style\"),\n    loadMaps: model.get(\"load_maps\"),\n    bgColor: toRgb(model.get(\"bg_color\")),\n    selectColor: toRgb(model.get(\"select_color\")),\n    lighting: model.get(\"lighting\"),\n    validationAnnotation: model.get(\"validation_annotation\"),\n    symmetryAnnotation: model.get(\"symmetry_annotation\"),\n    pdbeUrl: model.get(\"pdbe_url\"),\n    encoding: model.get(\"encoding\"),\n    lowPrecisionCoords: model.get(\"low_precision_coords\"),\n    selectInteraction: model.get(\"select_interaction\"),\n    // selectBindings: EmptySelectBindings,\n    granularity: model.get(\"granularity\"),\n    subscribeEvents: model.get(\"subscribe_events\"),\n    hideControls: model.get(\"hide_controls\"),\n    hideCanvasControls: getHideCanvasControls(model),\n    sequencePanel: model.get(\"sequence_panel\"),\n    pdbeLink: model.get(\"pdbe_link\"),\n    loadingOverlay: model.get(\"loading_overlay\"),\n    expanded: model.get(\"expanded\"),\n    landscape: model.get(\"landscape\"),\n    reactive: model.get(\"reactive\"),\n  };\n\n  if (model.get('click_focus') == false) {\n      options.focusBindings = EmptyFocusBindings;\n  }\n\n  return options;\n}\n\nfunction subscribe(model, name, callback) {\n  model.on(name, callback);\n  return () => model.off(name, callback);\n}\n\nfunction render({ model, el }) {\n  let viewerContainer = document.createElement(\"div\");\n  viewerContainer.id = \"viewer_container\";\n\n  viewerContainer.style.height = model.get(\"height\");\n  viewerContainer.style.width = model.get(\"width\");\n\n  // Make the container responsive\n  viewerContainer.style.maxWidth = \"100%\";\n  viewerContainer.style.boxSizing = \"border-box\";\n\n  var viewerInstance = new window.PDBeMolstarPlugin();\n  viewerInstance.render(viewerContainer, getOptions(model)); //.then(() => {\n  el.appendChild(viewerContainer);\n\n  // callbacks to be called after loading is complete\n  let callbacksLoadComplete = {\n    \"change:spin\": () => viewerInstance.visual.toggleSpin(model.get(\"spin\")),\n    \"change:hide_polymer\": () => {\n      viewerInstance.visual.visibility({ polymer: !model.get(\"hide_polymer\") });\n    },\n    \"change:hide_water\": () => {\n      viewerInstance.visual.visibility({ water: !model.get(\"hide_water\") });\n    },\n    \"change:hide_heteroatoms\": () => {\n      viewerInstance.visual.visibility({ het: !model.get(\"hide_heteroatoms\") });\n    },\n    \"change:hide_carbs\": () => {\n      viewerInstance.visual.visibility({ carbs: !model.get(\"hide_carbs\") });\n    },\n    \"change:hide_non_standard\": () => {\n      viewerInstance.visual.visibility({\n        nonStandard: !model.get(\"hide_non_standard\"),\n      });\n    },\n    \"change:hide_coarse\": () => {\n      viewerInstance.visual.visibility({ coarse: !model.get(\"hide_coarse\") });\n    },\n    \"change:color_data\": () => {\n      const selectValue = model.get(\"color_data\");\n      if (selectValue !== null) {\n        viewerInstance.visual.select(selectValue);\n      }\n    },\n    \"change:highlight\": () => {\n      const highlightValue = model.get(\"highlight\");\n      if (highlightValue !== null) {\n      viewerInstance.visual.highlight(highlightValue);\n      }\n    },\n    \"change:highlight_color\": () => {\n      const highlightColorValue = model.get(\"highlight_color\");      \n      if (highlightColorValue !== null) {\n        viewerInstance.visual.setColor({ highlight: highlightColorValue });\n      }\n    },\n    \"change:tooltips\": () => {\n      const tooltipValue = model.get(\"tooltips\");\n      if (tooltipValue !== null) {\n        viewerInstance.visual.tooltips(tooltipValue);\n      }\n    },\n  };\n\n  let otherCallbacks = {\n    \"change:molecule_id\": () => {\n      viewerInstance.visual.update(getOptions(model), true);\n    },\n    \"change:custom_data\": () => {\n      viewerInstance.visual.update(getOptions(model), true);\n    },\n    \"change:visual_style\": () => {\n      viewerInstance.visual.update(getOptions(model), true);\n    },\n    \"change:expanded\": () => {\n      viewerInstance.canvas.toggleExpanded(model.get(\"expanded\"));\n    },\n    \"change:bg_color\": () => {\n      viewerInstance.canvas.setBgColor(toRgb(model.get(\"bg_color\")));\n    },\n    \"change:_reset\": () => {\n      const resetValue = model.get(\"_reset\");\n      if (resetValue !== null) {\n        viewerInstance.visual.reset(resetValue);\n      }\n    },\n    \"change:_clear_tooltips\": () => {\n      viewerInstance.visual.clearTooltips();\n    }\n  };\n\n  let combinedCallbacks = Object.assign(\n    {},\n    callbacksLoadComplete,\n    otherCallbacks\n  );\n\n  viewerInstance.events.loadComplete.subscribe(() => {\n    // trigger callabacks which need to be called after loading\n    Object.values(callbacksLoadComplete).forEach((callback) => callback());\n  });\n\n  // subscribe to events and collect unsubscribe funcs\n  let unsubscribes = Object.entries(combinedCallbacks).map(([name, callback]) =>\n    subscribe(model, name, callback)\n  );\n\n  document.addEventListener(\"PDB.molstar.mouseover\", (e) => {\n    const eventData = e.eventData;\n    model.set(\"mouseover_event\", eventData);\n    model.save_changes();\n  });\n\n  document.addEventListener(\"PDB.molstar.mouseout\", (e) => {\n    model.set(\"mouseout_event\", !model.get(\"mouseout_event\") );\n    model.save_changes();\n  });\n\n  document.addEventListener(\"PDB.molstar.click\", (e) => {\n    const eventData = e.eventData;\n    model.set(\"click_event\", eventData);\n    model.save_changes();\n  });\n\n  return () => {\n    unsubscribes.forEach((unsubscribe) => unsubscribe());\n  };\n}\n\nexport default { render };\n",
       "_focus": null,
       "_model_module": "anywidget",
       "_model_module_version": "~0.9.*",
       "_model_name": "AnyModel",
       "_reset": null,
       "_set_color": null,
       "_update": null,
       "_view_module": "anywidget",
       "_view_module_version": "~0.9.*",
       "_view_name": "AnyView",
       "alphafold_view": false,
       "assembly_id": "",
       "bg_color": "#F7F7F7",
       "click_event": {},
       "click_focus": true,
       "color_data": null,
       "custom_data": {
        "binary": false,
        "format": "cif",
        "url": "blob:http://localhost:8999/657cfada-b41a-4d4d-8f10-155e3e2f74c2"
       },
       "default_preset": "default",
       "domain_annotation": false,
       "encoding": "bcif",
       "expanded": false,
       "granularity": "residue",
       "height": "500px",
       "hide_animation_icon": false,
       "hide_carbs": false,
       "hide_coarse": false,
       "hide_controls": true,
       "hide_controls_icon": false,
       "hide_expand_icon": false,
       "hide_heteroatoms": false,
       "hide_non_standard": false,
       "hide_polymer": false,
       "hide_selection_icon": false,
       "hide_settings_icon": false,
       "hide_water": false,
       "highlight": null,
       "highlight_color": "#FF6699",
       "landscape": false,
       "layout": "IPY_MODEL_6ec70d589db44003be9f58ffc1eef526",
       "ligand_view": null,
       "lighting": null,
       "load_maps": false,
       "loading_overlay": false,
       "low_precision_coords": false,
       "map_settings": null,
       "molecule_id": "",
       "mouseout_event": true,
       "mouseover_event": {},
       "pdbe_link": true,
       "pdbe_url": "https://www.ebi.ac.uk/pdbe/",
       "reactive": false,
       "select_color": "#33FF19",
       "select_interaction": true,
       "sequence_panel": true,
       "spin": false,
       "subscribe_events": false,
       "superposition": false,
       "superposition_params": null,
       "symmetry_annotation": false,
       "tooltips": null,
       "validation_annotation": false,
       "visual_style": null,
       "width": "100%"
      }
     },
     "f02c4990114f44c4a15bc07640515a4d": {
      "model_module": "@jupyter-widgets/base",
      "model_module_version": "2.0.0",
      "model_name": "LayoutModel",
      "state": {}
     },
     "f3e6408ef8694368b47cbdd7d39738c2": {
      "model_module": "@jupyter-widgets/base",
      "model_module_version": "2.0.0",
      "model_name": "LayoutModel",
      "state": {}
     }
    },
    "version_major": 2,
    "version_minor": 0
   }
  }
 },
 "nbformat": 4,
 "nbformat_minor": 5
}
