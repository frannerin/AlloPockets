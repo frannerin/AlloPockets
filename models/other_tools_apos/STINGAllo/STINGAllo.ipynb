{
 "cells": [
  {
   "cell_type": "markdown",
   "id": "8160f4a4-889c-4126-8f88-110c9525b9a5",
   "metadata": {},
   "source": [
    "STINGAllo ran in website: https://www.stingallo.cbi.cnptia.embrapa.br/sting"
   ]
  },
  {
   "cell_type": "code",
   "execution_count": 1,
   "id": "0294f383-7db7-4068-b17e-9eb06cd7d182",
   "metadata": {},
   "outputs": [],
   "source": [
    "import pickle\n",
    "import pandas as pd"
   ]
  },
  {
   "cell_type": "code",
   "execution_count": 2,
   "id": "8c72b4f0-52ec-4ce0-8896-9bf6e5807c62",
   "metadata": {},
   "outputs": [],
   "source": [
    "resultsf = \"stingallo_results.pkl\"\n",
    "\n",
    "results = {\n",
    "    \"6yhr\": {\n",
    "        \"pocket\": {\n",
    "            \"residues\": pd.DataFrame({\"auth_asym_id\": [\"A\",], \"auth_seq_id\": [\"960\",]})\n",
    "        }\n",
    "    }\n",
    "}\n",
    "\n",
    "with open(resultsf, \"wb\") as f:\n",
    "    results = pickle.dump(results, f)"
   ]
  }
 ],
 "metadata": {
  "kernelspec": {
   "display_name": "Python [conda env:pybiomed]",
   "language": "python",
   "name": "conda-env-pybiomed-py"
  },
  "language_info": {
   "codemirror_mode": {
    "name": "ipython",
    "version": 3
   },
   "file_extension": ".py",
   "mimetype": "text/x-python",
   "name": "python",
   "nbconvert_exporter": "python",
   "pygments_lexer": "ipython3",
   "version": "3.11.9"
  },
  "widgets": {
   "application/vnd.jupyter.widget-state+json": {
    "state": {},
    "version_major": 2,
    "version_minor": 0
   }
  }
 },
 "nbformat": 4,
 "nbformat_minor": 5
}
